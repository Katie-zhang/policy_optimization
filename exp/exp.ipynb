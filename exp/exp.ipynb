{
 "cells": [
  {
   "cell_type": "code",
   "execution_count": 1,
   "metadata": {},
   "outputs": [],
   "source": [
    "from typing import List\n",
    "import numpy as np\n",
    "import torch.cuda\n",
    "import torch\n",
    "import torch.nn as nn\n",
    "from torch.utils.tensorboard import SummaryWriter\n",
    "import copy\n",
    "import nashpy as nash\n",
    "\n",
    "from utils.logger import Logger\n",
    "from utils.io_utils import save_code\n",
    "from utils.utils import model_comparison, generate_outputs_from_distribution\n",
    "from utils.plot import two_action_prob_plot\n",
    "\n",
    "from algorithm import RewardModel, MaximumLikelihoodEstimator,PolicyGradientOptimizer,DirectPreferenceOptimizer, SelfPlayPreferenceOptimizer, SPPOClosedForm\n",
    "from policy import UniformPolicyModel,PolicyModel,Ref_PolicyModel\n",
    "from utils.collect_data import collect_preference_data, NonMonotonicScalarToVectorNN, check_data_consistency, check_cyclic_order"
   ]
  },
  {
   "cell_type": "code",
   "execution_count": 2,
   "metadata": {},
   "outputs": [],
   "source": [
    "from datetime import datetime\n",
    "\n",
    "np.random.seed(5)\n",
    "\n",
    "current_time = datetime.now().strftime('%Y%m%d_%H%M%S')\n",
    "log_dir = f\"./logs/test_{current_time}\"\n",
    "save_code(log_dir)\n",
    "\n",
    "logger = Logger(log_dir)\n",
    "writer = SummaryWriter(log_dir)\n",
    "\n",
    "device = \"cpu\"\n",
    "if torch.cuda.is_available():\n",
    "    device = \"cuda\""
   ]
  },
  {
   "cell_type": "code",
   "execution_count": 3,
   "metadata": {},
   "outputs": [],
   "source": [
    "state_dim = 1\n",
    "actions = [-10,0,10]"
   ]
  },
  {
   "cell_type": "markdown",
   "metadata": {},
   "source": [
    "### Collect data"
   ]
  },
  {
   "cell_type": "code",
   "execution_count": 4,
   "metadata": {},
   "outputs": [],
   "source": [
    "torch.manual_seed(5)\n",
    "feature_func = NonMonotonicScalarToVectorNN()\n",
    "pref_dataset, p_list = collect_preference_data(actions,60,feature_func)"
   ]
  },
  {
   "cell_type": "code",
   "execution_count": 5,
   "metadata": {},
   "outputs": [
    {
     "data": {
      "text/plain": [
       "array([[0.5       , 0.75489888, 0.44118223],\n",
       "       [0.24510112, 0.5       , 0.83795365],\n",
       "       [0.55881777, 0.16204635, 0.5       ]])"
      ]
     },
     "execution_count": 5,
     "metadata": {},
     "output_type": "execute_result"
    }
   ],
   "source": [
    "p_list"
   ]
  },
  {
   "cell_type": "code",
   "execution_count": 6,
   "metadata": {},
   "outputs": [
    {
     "data": {
      "text/plain": [
       "[Transition(state=array([0]), action_0=0, action_1=-10, pref=1, chosen_probs=0.24510111981513732),\n",
       " Transition(state=array([0]), action_0=-10, action_1=0, pref=1, chosen_probs=0.7548988801848626),\n",
       " Transition(state=array([0]), action_0=0, action_1=10, pref=1, chosen_probs=0.8379536540835533),\n",
       " Transition(state=array([0]), action_0=0, action_1=10, pref=0, chosen_probs=0.8379536540835533),\n",
       " Transition(state=array([0]), action_0=0, action_1=10, pref=1, chosen_probs=0.8379536540835533),\n",
       " Transition(state=array([0]), action_0=0, action_1=10, pref=1, chosen_probs=0.8379536540835533),\n",
       " Transition(state=array([0]), action_0=-10, action_1=10, pref=0, chosen_probs=0.44118222864585355),\n",
       " Transition(state=array([0]), action_0=-10, action_1=0, pref=0, chosen_probs=0.7548988801848626),\n",
       " Transition(state=array([0]), action_0=10, action_1=-10, pref=1, chosen_probs=0.5588177713541465),\n",
       " Transition(state=array([0]), action_0=-10, action_1=10, pref=1, chosen_probs=0.44118222864585355),\n",
       " Transition(state=array([0]), action_0=0, action_1=10, pref=0, chosen_probs=0.8379536540835533),\n",
       " Transition(state=array([0]), action_0=0, action_1=10, pref=0, chosen_probs=0.8379536540835533),\n",
       " Transition(state=array([0]), action_0=0, action_1=10, pref=1, chosen_probs=0.8379536540835533),\n",
       " Transition(state=array([0]), action_0=-10, action_1=0, pref=1, chosen_probs=0.7548988801848626),\n",
       " Transition(state=array([0]), action_0=0, action_1=-10, pref=1, chosen_probs=0.24510111981513732),\n",
       " Transition(state=array([0]), action_0=0, action_1=10, pref=0, chosen_probs=0.8379536540835533),\n",
       " Transition(state=array([0]), action_0=-10, action_1=0, pref=0, chosen_probs=0.7548988801848626),\n",
       " Transition(state=array([0]), action_0=0, action_1=10, pref=1, chosen_probs=0.8379536540835533),\n",
       " Transition(state=array([0]), action_0=0, action_1=-10, pref=1, chosen_probs=0.24510111981513732),\n",
       " Transition(state=array([0]), action_0=10, action_1=-10, pref=1, chosen_probs=0.5588177713541465),\n",
       " Transition(state=array([0]), action_0=-10, action_1=0, pref=1, chosen_probs=0.7548988801848626),\n",
       " Transition(state=array([0]), action_0=10, action_1=-10, pref=0, chosen_probs=0.5588177713541465),\n",
       " Transition(state=array([0]), action_0=10, action_1=-10, pref=0, chosen_probs=0.5588177713541465),\n",
       " Transition(state=array([0]), action_0=0, action_1=10, pref=1, chosen_probs=0.8379536540835533),\n",
       " Transition(state=array([0]), action_0=10, action_1=0, pref=0, chosen_probs=0.16204634591644665),\n",
       " Transition(state=array([0]), action_0=0, action_1=10, pref=1, chosen_probs=0.8379536540835533),\n",
       " Transition(state=array([0]), action_0=-10, action_1=0, pref=1, chosen_probs=0.7548988801848626),\n",
       " Transition(state=array([0]), action_0=-10, action_1=0, pref=0, chosen_probs=0.7548988801848626),\n",
       " Transition(state=array([0]), action_0=0, action_1=10, pref=0, chosen_probs=0.8379536540835533),\n",
       " Transition(state=array([0]), action_0=-10, action_1=10, pref=1, chosen_probs=0.44118222864585355),\n",
       " Transition(state=array([0]), action_0=-10, action_1=10, pref=1, chosen_probs=0.44118222864585355),\n",
       " Transition(state=array([0]), action_0=-10, action_1=0, pref=1, chosen_probs=0.7548988801848626),\n",
       " Transition(state=array([0]), action_0=0, action_1=10, pref=0, chosen_probs=0.8379536540835533),\n",
       " Transition(state=array([0]), action_0=-10, action_1=0, pref=0, chosen_probs=0.7548988801848626),\n",
       " Transition(state=array([0]), action_0=10, action_1=-10, pref=1, chosen_probs=0.5588177713541465),\n",
       " Transition(state=array([0]), action_0=-10, action_1=0, pref=0, chosen_probs=0.7548988801848626),\n",
       " Transition(state=array([0]), action_0=-10, action_1=0, pref=1, chosen_probs=0.7548988801848626),\n",
       " Transition(state=array([0]), action_0=-10, action_1=0, pref=0, chosen_probs=0.7548988801848626),\n",
       " Transition(state=array([0]), action_0=0, action_1=10, pref=1, chosen_probs=0.8379536540835533),\n",
       " Transition(state=array([0]), action_0=-10, action_1=0, pref=0, chosen_probs=0.7548988801848626),\n",
       " Transition(state=array([0]), action_0=0, action_1=10, pref=0, chosen_probs=0.8379536540835533),\n",
       " Transition(state=array([0]), action_0=0, action_1=10, pref=0, chosen_probs=0.8379536540835533),\n",
       " Transition(state=array([0]), action_0=-10, action_1=0, pref=1, chosen_probs=0.7548988801848626),\n",
       " Transition(state=array([0]), action_0=10, action_1=-10, pref=1, chosen_probs=0.5588177713541465),\n",
       " Transition(state=array([0]), action_0=0, action_1=10, pref=1, chosen_probs=0.8379536540835533),\n",
       " Transition(state=array([0]), action_0=0, action_1=10, pref=0, chosen_probs=0.8379536540835533),\n",
       " Transition(state=array([0]), action_0=-10, action_1=0, pref=1, chosen_probs=0.7548988801848626),\n",
       " Transition(state=array([0]), action_0=0, action_1=10, pref=1, chosen_probs=0.8379536540835533),\n",
       " Transition(state=array([0]), action_0=-10, action_1=0, pref=0, chosen_probs=0.7548988801848626),\n",
       " Transition(state=array([0]), action_0=0, action_1=10, pref=0, chosen_probs=0.8379536540835533),\n",
       " Transition(state=array([0]), action_0=10, action_1=-10, pref=1, chosen_probs=0.5588177713541465),\n",
       " Transition(state=array([0]), action_0=-10, action_1=10, pref=0, chosen_probs=0.44118222864585355),\n",
       " Transition(state=array([0]), action_0=0, action_1=-10, pref=0, chosen_probs=0.24510111981513732),\n",
       " Transition(state=array([0]), action_0=10, action_1=-10, pref=1, chosen_probs=0.5588177713541465),\n",
       " Transition(state=array([0]), action_0=0, action_1=10, pref=1, chosen_probs=0.8379536540835533),\n",
       " Transition(state=array([0]), action_0=0, action_1=10, pref=1, chosen_probs=0.8379536540835533),\n",
       " Transition(state=array([0]), action_0=0, action_1=10, pref=0, chosen_probs=0.8379536540835533),\n",
       " Transition(state=array([0]), action_0=-10, action_1=10, pref=1, chosen_probs=0.44118222864585355),\n",
       " Transition(state=array([0]), action_0=0, action_1=-10, pref=0, chosen_probs=0.24510111981513732),\n",
       " Transition(state=array([0]), action_0=-10, action_1=0, pref=0, chosen_probs=0.7548988801848626)]"
      ]
     },
     "execution_count": 6,
     "metadata": {},
     "output_type": "execute_result"
    }
   ],
   "source": [
    "pref_dataset"
   ]
  },
  {
   "cell_type": "code",
   "execution_count": 7,
   "metadata": {},
   "outputs": [
    {
     "name": "stdout",
     "output_type": "stream",
     "text": [
      "states: tensor([0, 0, 0, 0, 0, 0, 0, 0, 0, 0, 0, 0, 0, 0, 0, 0, 0, 0, 0, 0, 0, 0, 0, 0,\n",
      "        0, 0, 0, 0, 0, 0, 0, 0, 0, 0, 0, 0, 0, 0, 0, 0, 0, 0, 0, 0, 0, 0, 0, 0,\n",
      "        0, 0, 0, 0, 0, 0, 0, 0, 0, 0, 0, 0])\n",
      "positive_actions: tensor([0, 1, 2, 1, 2, 2, 0, 0, 0, 2, 1, 1, 2, 1, 0, 1, 0, 2, 0, 0, 1, 2, 2, 2,\n",
      "        2, 2, 1, 0, 1, 2, 2, 1, 1, 0, 0, 0, 1, 0, 2, 0, 1, 1, 1, 0, 2, 1, 1, 2,\n",
      "        0, 1, 0, 0, 1, 0, 2, 2, 1, 2, 1, 0])\n",
      "negative_actions: tensor([1, 0, 1, 2, 1, 1, 2, 1, 2, 0, 2, 2, 1, 0, 1, 2, 1, 1, 1, 2, 0, 0, 0, 1,\n",
      "        1, 1, 0, 1, 2, 0, 0, 0, 2, 1, 2, 1, 0, 1, 1, 1, 2, 2, 0, 2, 1, 2, 0, 1,\n",
      "        1, 2, 2, 2, 0, 2, 1, 1, 2, 0, 0, 1])\n",
      "check transition: (True, ('-10', '0', '10'))\n",
      "check data consistency: 0.8\n"
     ]
    }
   ],
   "source": [
    "action_to_index = {-10: 0, 0: 1, 10: 2}\n",
    "\n",
    "states = torch.cat([torch.tensor(x.state) for x in pref_dataset], dim=0)\n",
    "\n",
    "positive_actions = torch.cat(\n",
    "    [torch.tensor(action_to_index[x.action_1] if x.pref == 1 else action_to_index[x.action_0]).unsqueeze(0) for x in pref_dataset],\n",
    "    dim=0\n",
    ")\n",
    "\n",
    "negative_actions = torch.cat(\n",
    "    [torch.tensor(action_to_index[x.action_0] if x.pref == 1 else action_to_index[x.action_1]).unsqueeze(0) for x in pref_dataset],\n",
    "    dim=0\n",
    ")\n",
    "\n",
    "print(f\"states: {states}\")\n",
    "print(f\"positive_actions: {positive_actions}\")\n",
    "print(f\"negative_actions: {negative_actions}\")\n",
    "\n",
    "# check transition and consistency\n",
    "print(f\"check transition: {check_cyclic_order(p_list,actions)}\")\n",
    "print(f\"check data consistency: {check_data_consistency(pref_dataset)}\")"
   ]
  },
  {
   "cell_type": "markdown",
   "metadata": {},
   "source": [
    "## Nash equilibrium"
   ]
  },
  {
   "cell_type": "code",
   "execution_count": 8,
   "metadata": {},
   "outputs": [
    {
     "name": "stdout",
     "output_type": "stream",
     "text": [
      "Nash equilibrium of this game:  [0.51859606 0.09025695 0.39114699]\n"
     ]
    }
   ],
   "source": [
    "# compute nash equilibrium\n",
    "\n",
    "# A = np.array([\n",
    "#     [0.5, 0.1, 0.8],\n",
    "#     [0.9, 0.5, 0.1],\n",
    "#     [0.2, 0.9, 0.5]\n",
    "# ])\n",
    "\n",
    "\n",
    "game = nash.Game(p_list, -p_list)\n",
    "\n",
    "equilibria = list(game.support_enumeration())\n",
    "\n",
    "for eq in equilibria:\n",
    "    print(\"Nash equilibrium of this game: \", eq[0])  "
   ]
  },
  {
   "cell_type": "code",
   "execution_count": 9,
   "metadata": {},
   "outputs": [
    {
     "data": {
      "text/plain": [
       "[0.5185960617933865, 0.09025694564670378]"
      ]
     },
     "execution_count": 9,
     "metadata": {},
     "output_type": "execute_result"
    }
   ],
   "source": [
    "# We use action 0 and action 1 to plot the scatter plot\n",
    "nash_point= [eq[0][0],eq[0][1]]\n",
    "nash_point"
   ]
  },
  {
   "cell_type": "markdown",
   "metadata": {},
   "source": [
    "## RLHF"
   ]
  },
  {
   "cell_type": "code",
   "execution_count": 10,
   "metadata": {},
   "outputs": [],
   "source": [
    "learned_reward_model = RewardModel(\n",
    "    state_dim,\n",
    "    actions,\n",
    "    hidden_dim=64,\n",
    "    num_layers=2,\n",
    "    device=device,\n",
    ")"
   ]
  },
  {
   "cell_type": "code",
   "execution_count": 11,
   "metadata": {},
   "outputs": [],
   "source": [
    "mle_learner = MaximumLikelihoodEstimator(\n",
    "    actions,\n",
    "    learned_reward_model,\n",
    "    learning_rate=1e-4,\n",
    "    batch_size=64,\n",
    "    logger=logger,\n",
    ")"
   ]
  },
  {
   "cell_type": "code",
   "execution_count": 12,
   "metadata": {},
   "outputs": [
    {
     "name": "stderr",
     "output_type": "stream",
     "text": [
      "2024-11-20 17:52:27,281 - /home/hanwen/policy_optimization/exp/algorithm.py[line:124] - INFO: [Reward] Epoch 0 loss: 0.6915 acc: 0.52\n",
      "2024-11-20 17:52:27,287 - /home/hanwen/policy_optimization/exp/algorithm.py[line:124] - INFO: [Reward] Epoch 2 loss: 0.6910 acc: 0.52\n",
      "2024-11-20 17:52:27,293 - /home/hanwen/policy_optimization/exp/algorithm.py[line:124] - INFO: [Reward] Epoch 4 loss: 0.6905 acc: 0.52\n",
      "2024-11-20 17:52:27,298 - /home/hanwen/policy_optimization/exp/algorithm.py[line:124] - INFO: [Reward] Epoch 6 loss: 0.6902 acc: 0.52\n",
      "2024-11-20 17:52:27,303 - /home/hanwen/policy_optimization/exp/algorithm.py[line:124] - INFO: [Reward] Epoch 8 loss: 0.6898 acc: 0.55\n",
      "2024-11-20 17:52:27,308 - /home/hanwen/policy_optimization/exp/algorithm.py[line:124] - INFO: [Reward] Epoch 10 loss: 0.6896 acc: 0.55\n",
      "2024-11-20 17:52:27,313 - /home/hanwen/policy_optimization/exp/algorithm.py[line:124] - INFO: [Reward] Epoch 12 loss: 0.6894 acc: 0.55\n",
      "2024-11-20 17:52:27,318 - /home/hanwen/policy_optimization/exp/algorithm.py[line:124] - INFO: [Reward] Epoch 14 loss: 0.6892 acc: 0.55\n",
      "2024-11-20 17:52:27,323 - /home/hanwen/policy_optimization/exp/algorithm.py[line:124] - INFO: [Reward] Epoch 16 loss: 0.6891 acc: 0.55\n",
      "2024-11-20 17:52:27,329 - /home/hanwen/policy_optimization/exp/algorithm.py[line:124] - INFO: [Reward] Epoch 18 loss: 0.6890 acc: 0.55\n"
     ]
    }
   ],
   "source": [
    "import time  # for seed\n",
    "\n",
    "torch.manual_seed(time.time())\n",
    "mle_learner.optimize(\n",
    "    states, positive_actions, negative_actions, num_epochs=20\n",
    ")"
   ]
  },
  {
   "cell_type": "code",
   "execution_count": 13,
   "metadata": {},
   "outputs": [],
   "source": [
    "# pg\n",
    "policy = PolicyModel(\n",
    "    state_dim,\n",
    "    actions,\n",
    "    hidden_dim=64,\n",
    "    num_layers=2,\n",
    "    device=device,\n",
    ").to(device)"
   ]
  },
  {
   "cell_type": "code",
   "execution_count": 14,
   "metadata": {},
   "outputs": [
    {
     "name": "stdout",
     "output_type": "stream",
     "text": [
      "tensor([[0.3333, 0.3333, 0.3333]], device='cuda:0')\n",
      "tensor([[0.7000, 0.2000, 0.1000]], device='cuda:0')\n",
      "tensor([[1., 0., 0.]], device='cuda:0')\n",
      "tensor([[0.1000, 0.3000, 0.6000]], device='cuda:0')\n"
     ]
    }
   ],
   "source": [
    "ref_policy = UniformPolicyModel(\n",
    "    action_num=len(actions),\n",
    "    device=device\n",
    ").to(device)\n",
    "\n",
    "ref_policy2 = Ref_PolicyModel(\n",
    "    len(actions),torch.tensor([[0.7,0.2,0.1]]),device).to(device)\n",
    "\n",
    "ref_policy3 = Ref_PolicyModel(\n",
    "    len(actions),torch.tensor([[1.0,0.0,0.0]]),device).to(device)\n",
    "\n",
    "ref_policy4 = Ref_PolicyModel(\n",
    "    len(actions),torch.tensor([[0.1,0.3,0.6]]),device).to(device)\n",
    "\n",
    "print(ref_policy(torch.tensor([[0.0]])))\n",
    "print(ref_policy2(torch.tensor([[0.0]])))\n",
    "print(ref_policy3(torch.tensor([[0.0]])))\n",
    "print(ref_policy4(torch.tensor([[0.0]])))"
   ]
  },
  {
   "cell_type": "code",
   "execution_count": 15,
   "metadata": {},
   "outputs": [
    {
     "data": {
      "text/plain": [
       "torch.Size([60, 1])"
      ]
     },
     "execution_count": 15,
     "metadata": {},
     "output_type": "execute_result"
    }
   ],
   "source": [
    "states = torch.zeros(len(pref_dataset), 1, dtype=torch.float32).to(device) \n",
    "states.shape"
   ]
  },
  {
   "cell_type": "code",
   "execution_count": 16,
   "metadata": {},
   "outputs": [],
   "source": [
    "policy_optimizer = PolicyGradientOptimizer(\n",
    "    policy=policy,\n",
    "    reward_model=learned_reward_model,\n",
    "    ref_policy=ref_policy,\n",
    "    learning_rate=1e-3,\n",
    "    batch_size=64,\n",
    "    logger=logger,\n",
    "    nash_point = nash_point\n",
    ")"
   ]
  },
  {
   "cell_type": "code",
   "execution_count": 17,
   "metadata": {},
   "outputs": [
    {
     "name": "stderr",
     "output_type": "stream",
     "text": [
      "2024-11-20 17:52:27,473 - /home/hanwen/policy_optimization/exp/algorithm.py[line:193] - INFO: [Policy] Epoch 0 loss: -0.2026 reward: 0.2026 ref_reward: 0.1991 improvement: 1.75%\n"
     ]
    },
    {
     "name": "stderr",
     "output_type": "stream",
     "text": [
      "2024-11-20 17:52:27,480 - /home/hanwen/policy_optimization/exp/algorithm.py[line:193] - INFO: [Policy] Epoch 2 loss: -0.2076 reward: 0.2076 ref_reward: 0.1991 improvement: 4.25%\n",
      "2024-11-20 17:52:27,487 - /home/hanwen/policy_optimization/exp/algorithm.py[line:193] - INFO: [Policy] Epoch 4 loss: -0.2125 reward: 0.2125 ref_reward: 0.1991 improvement: 6.73%\n",
      "2024-11-20 17:52:27,493 - /home/hanwen/policy_optimization/exp/algorithm.py[line:193] - INFO: [Policy] Epoch 6 loss: -0.2175 reward: 0.2175 ref_reward: 0.1991 improvement: 9.21%\n",
      "2024-11-20 17:52:27,499 - /home/hanwen/policy_optimization/exp/algorithm.py[line:193] - INFO: [Policy] Epoch 8 loss: -0.2224 reward: 0.2224 ref_reward: 0.1991 improvement: 11.69%\n",
      "2024-11-20 17:52:27,505 - /home/hanwen/policy_optimization/exp/algorithm.py[line:193] - INFO: [Policy] Epoch 10 loss: -0.2273 reward: 0.2273 ref_reward: 0.1991 improvement: 14.14%\n",
      "2024-11-20 17:52:27,512 - /home/hanwen/policy_optimization/exp/algorithm.py[line:193] - INFO: [Policy] Epoch 12 loss: -0.2323 reward: 0.2323 ref_reward: 0.1991 improvement: 16.66%\n",
      "2024-11-20 17:52:27,518 - /home/hanwen/policy_optimization/exp/algorithm.py[line:193] - INFO: [Policy] Epoch 14 loss: -0.2374 reward: 0.2374 ref_reward: 0.1991 improvement: 19.23%\n",
      "2024-11-20 17:52:27,524 - /home/hanwen/policy_optimization/exp/algorithm.py[line:193] - INFO: [Policy] Epoch 16 loss: -0.2426 reward: 0.2426 ref_reward: 0.1991 improvement: 21.85%\n",
      "2024-11-20 17:52:27,530 - /home/hanwen/policy_optimization/exp/algorithm.py[line:193] - INFO: [Policy] Epoch 18 loss: -0.2479 reward: 0.2479 ref_reward: 0.1991 improvement: 24.49%\n",
      "2024-11-20 17:52:27,536 - /home/hanwen/policy_optimization/exp/algorithm.py[line:193] - INFO: [Policy] Epoch 20 loss: -0.2532 reward: 0.2532 ref_reward: 0.1991 improvement: 27.13%\n",
      "2024-11-20 17:52:27,542 - /home/hanwen/policy_optimization/exp/algorithm.py[line:193] - INFO: [Policy] Epoch 22 loss: -0.2584 reward: 0.2584 ref_reward: 0.1991 improvement: 29.73%\n",
      "2024-11-20 17:52:27,549 - /home/hanwen/policy_optimization/exp/algorithm.py[line:193] - INFO: [Policy] Epoch 24 loss: -0.2634 reward: 0.2634 ref_reward: 0.1991 improvement: 32.27%\n",
      "2024-11-20 17:52:27,555 - /home/hanwen/policy_optimization/exp/algorithm.py[line:193] - INFO: [Policy] Epoch 26 loss: -0.2683 reward: 0.2683 ref_reward: 0.1991 improvement: 34.71%\n",
      "2024-11-20 17:52:27,561 - /home/hanwen/policy_optimization/exp/algorithm.py[line:193] - INFO: [Policy] Epoch 28 loss: -0.2729 reward: 0.2729 ref_reward: 0.1991 improvement: 37.03%\n",
      "2024-11-20 17:52:27,568 - /home/hanwen/policy_optimization/exp/algorithm.py[line:193] - INFO: [Policy] Epoch 30 loss: -0.2773 reward: 0.2773 ref_reward: 0.1991 improvement: 39.24%\n",
      "2024-11-20 17:52:27,574 - /home/hanwen/policy_optimization/exp/algorithm.py[line:193] - INFO: [Policy] Epoch 32 loss: -0.2813 reward: 0.2813 ref_reward: 0.1991 improvement: 41.28%\n",
      "2024-11-20 17:52:27,581 - /home/hanwen/policy_optimization/exp/algorithm.py[line:193] - INFO: [Policy] Epoch 34 loss: -0.2850 reward: 0.2850 ref_reward: 0.1991 improvement: 43.14%\n",
      "2024-11-20 17:52:27,588 - /home/hanwen/policy_optimization/exp/algorithm.py[line:193] - INFO: [Policy] Epoch 36 loss: -0.2883 reward: 0.2883 ref_reward: 0.1991 improvement: 44.79%\n",
      "2024-11-20 17:52:27,594 - /home/hanwen/policy_optimization/exp/algorithm.py[line:193] - INFO: [Policy] Epoch 38 loss: -0.2912 reward: 0.2912 ref_reward: 0.1991 improvement: 46.25%\n",
      "2024-11-20 17:52:27,600 - /home/hanwen/policy_optimization/exp/algorithm.py[line:193] - INFO: [Policy] Epoch 40 loss: -0.2938 reward: 0.2938 ref_reward: 0.1991 improvement: 47.51%\n",
      "2024-11-20 17:52:27,606 - /home/hanwen/policy_optimization/exp/algorithm.py[line:193] - INFO: [Policy] Epoch 42 loss: -0.2959 reward: 0.2959 ref_reward: 0.1991 improvement: 48.59%\n",
      "2024-11-20 17:52:27,612 - /home/hanwen/policy_optimization/exp/algorithm.py[line:193] - INFO: [Policy] Epoch 44 loss: -0.2977 reward: 0.2977 ref_reward: 0.1991 improvement: 49.51%\n",
      "2024-11-20 17:52:27,618 - /home/hanwen/policy_optimization/exp/algorithm.py[line:193] - INFO: [Policy] Epoch 46 loss: -0.2993 reward: 0.2993 ref_reward: 0.1991 improvement: 50.29%\n",
      "2024-11-20 17:52:27,624 - /home/hanwen/policy_optimization/exp/algorithm.py[line:193] - INFO: [Policy] Epoch 48 loss: -0.3006 reward: 0.3006 ref_reward: 0.1991 improvement: 50.95%\n",
      "2024-11-20 17:52:27,630 - /home/hanwen/policy_optimization/exp/algorithm.py[line:193] - INFO: [Policy] Epoch 50 loss: -0.3017 reward: 0.3017 ref_reward: 0.1991 improvement: 51.50%\n",
      "2024-11-20 17:52:27,636 - /home/hanwen/policy_optimization/exp/algorithm.py[line:193] - INFO: [Policy] Epoch 52 loss: -0.3026 reward: 0.3026 ref_reward: 0.1991 improvement: 51.96%\n",
      "2024-11-20 17:52:27,642 - /home/hanwen/policy_optimization/exp/algorithm.py[line:193] - INFO: [Policy] Epoch 54 loss: -0.3034 reward: 0.3034 ref_reward: 0.1991 improvement: 52.35%\n",
      "2024-11-20 17:52:27,648 - /home/hanwen/policy_optimization/exp/algorithm.py[line:193] - INFO: [Policy] Epoch 56 loss: -0.3040 reward: 0.3040 ref_reward: 0.1991 improvement: 52.67%\n",
      "2024-11-20 17:52:27,654 - /home/hanwen/policy_optimization/exp/algorithm.py[line:193] - INFO: [Policy] Epoch 58 loss: -0.3046 reward: 0.3046 ref_reward: 0.1991 improvement: 52.95%\n",
      "2024-11-20 17:52:27,660 - /home/hanwen/policy_optimization/exp/algorithm.py[line:193] - INFO: [Policy] Epoch 60 loss: -0.3050 reward: 0.3050 ref_reward: 0.1991 improvement: 53.18%\n",
      "2024-11-20 17:52:27,666 - /home/hanwen/policy_optimization/exp/algorithm.py[line:193] - INFO: [Policy] Epoch 62 loss: -0.3054 reward: 0.3054 ref_reward: 0.1991 improvement: 53.37%\n",
      "2024-11-20 17:52:27,672 - /home/hanwen/policy_optimization/exp/algorithm.py[line:193] - INFO: [Policy] Epoch 64 loss: -0.3058 reward: 0.3058 ref_reward: 0.1991 improvement: 53.54%\n",
      "2024-11-20 17:52:27,678 - /home/hanwen/policy_optimization/exp/algorithm.py[line:193] - INFO: [Policy] Epoch 66 loss: -0.3060 reward: 0.3060 ref_reward: 0.1991 improvement: 53.68%\n",
      "2024-11-20 17:52:27,684 - /home/hanwen/policy_optimization/exp/algorithm.py[line:193] - INFO: [Policy] Epoch 68 loss: -0.3063 reward: 0.3063 ref_reward: 0.1991 improvement: 53.80%\n",
      "2024-11-20 17:52:27,691 - /home/hanwen/policy_optimization/exp/algorithm.py[line:193] - INFO: [Policy] Epoch 70 loss: -0.3065 reward: 0.3065 ref_reward: 0.1991 improvement: 53.90%\n",
      "2024-11-20 17:52:27,697 - /home/hanwen/policy_optimization/exp/algorithm.py[line:193] - INFO: [Policy] Epoch 72 loss: -0.3067 reward: 0.3067 ref_reward: 0.1991 improvement: 53.99%\n",
      "2024-11-20 17:52:27,704 - /home/hanwen/policy_optimization/exp/algorithm.py[line:193] - INFO: [Policy] Epoch 74 loss: -0.3068 reward: 0.3068 ref_reward: 0.1991 improvement: 54.07%\n",
      "2024-11-20 17:52:27,710 - /home/hanwen/policy_optimization/exp/algorithm.py[line:193] - INFO: [Policy] Epoch 76 loss: -0.3070 reward: 0.3070 ref_reward: 0.1991 improvement: 54.14%\n",
      "2024-11-20 17:52:27,716 - /home/hanwen/policy_optimization/exp/algorithm.py[line:193] - INFO: [Policy] Epoch 78 loss: -0.3071 reward: 0.3071 ref_reward: 0.1991 improvement: 54.21%\n",
      "2024-11-20 17:52:27,722 - /home/hanwen/policy_optimization/exp/algorithm.py[line:193] - INFO: [Policy] Epoch 80 loss: -0.3072 reward: 0.3072 ref_reward: 0.1991 improvement: 54.26%\n",
      "2024-11-20 17:52:27,728 - /home/hanwen/policy_optimization/exp/algorithm.py[line:193] - INFO: [Policy] Epoch 82 loss: -0.3073 reward: 0.3073 ref_reward: 0.1991 improvement: 54.31%\n",
      "2024-11-20 17:52:27,734 - /home/hanwen/policy_optimization/exp/algorithm.py[line:193] - INFO: [Policy] Epoch 84 loss: -0.3074 reward: 0.3074 ref_reward: 0.1991 improvement: 54.35%\n",
      "2024-11-20 17:52:27,740 - /home/hanwen/policy_optimization/exp/algorithm.py[line:193] - INFO: [Policy] Epoch 86 loss: -0.3075 reward: 0.3075 ref_reward: 0.1991 improvement: 54.39%\n",
      "2024-11-20 17:52:27,746 - /home/hanwen/policy_optimization/exp/algorithm.py[line:193] - INFO: [Policy] Epoch 88 loss: -0.3075 reward: 0.3075 ref_reward: 0.1991 improvement: 54.43%\n",
      "2024-11-20 17:52:27,752 - /home/hanwen/policy_optimization/exp/algorithm.py[line:193] - INFO: [Policy] Epoch 90 loss: -0.3076 reward: 0.3076 ref_reward: 0.1991 improvement: 54.46%\n",
      "2024-11-20 17:52:27,758 - /home/hanwen/policy_optimization/exp/algorithm.py[line:193] - INFO: [Policy] Epoch 92 loss: -0.3077 reward: 0.3077 ref_reward: 0.1991 improvement: 54.49%\n",
      "2024-11-20 17:52:27,764 - /home/hanwen/policy_optimization/exp/algorithm.py[line:193] - INFO: [Policy] Epoch 94 loss: -0.3077 reward: 0.3077 ref_reward: 0.1991 improvement: 54.52%\n",
      "2024-11-20 17:52:27,770 - /home/hanwen/policy_optimization/exp/algorithm.py[line:193] - INFO: [Policy] Epoch 96 loss: -0.3078 reward: 0.3078 ref_reward: 0.1991 improvement: 54.54%\n",
      "2024-11-20 17:52:27,776 - /home/hanwen/policy_optimization/exp/algorithm.py[line:193] - INFO: [Policy] Epoch 98 loss: -0.3078 reward: 0.3078 ref_reward: 0.1991 improvement: 54.56%\n"
     ]
    },
    {
     "data": {
      "image/png": "[encoded data removed]",
      "text/plain": [
       "<Figure size 600x600 with 1 Axes>"
      ]
     },
     "metadata": {},
     "output_type": "display_data"
    }
   ],
   "source": [
    "policy_optimizer.optimize(states=states, num_epochs=100)"
   ]
  },
  {
   "cell_type": "code",
   "execution_count": 18,
   "metadata": {},
   "outputs": [
    {
     "name": "stdout",
     "output_type": "stream",
     "text": [
      "tensor([0.3088], device='cuda:0', grad_fn=<ViewBackward0>)\n",
      "tensor([0.1832], device='cuda:0', grad_fn=<ViewBackward0>)\n",
      "tensor([0.0883], device='cuda:0', grad_fn=<ViewBackward0>)\n"
     ]
    }
   ],
   "source": [
    "state_0 = torch.tensor([0.0], dtype=torch.float32).to(device)\n",
    "action_0 = torch.tensor([1,0,0], dtype=torch.float32).to(device)\n",
    "action_1 = torch.tensor([0,0,1], dtype=torch.float32).to(device)\n",
    "action_2 = torch.tensor([0,1,0], dtype=torch.float32).to(device)\n",
    "print(learned_reward_model(state_0,action_0))\n",
    "print(learned_reward_model(state_0,action_1))\n",
    "print(learned_reward_model(state_0,action_2))"
   ]
  },
  {
   "cell_type": "code",
   "execution_count": 19,
   "metadata": {},
   "outputs": [
    {
     "name": "stdout",
     "output_type": "stream",
     "text": [
      "P(action=-10) = 0.991\n",
      "P(action=0) = 0.003\n",
      "P(action=10) = 0.005\n",
      "\n",
      "Uniform policy probabilities:\n",
      "P(action=-10) = 0.333\n",
      "P(action=0) = 0.333\n",
      "P(action=10) = 0.333\n"
     ]
    }
   ],
   "source": [
    "# output the probabilities of each action from the learned policy\n",
    "test_state = torch.tensor([[0.0]], dtype=torch.float32).to(device)  \n",
    "\n",
    "with torch.no_grad():\n",
    "    action_probs = policy(test_state)\n",
    "    action_probs = action_probs.cpu().numpy()[0]  \n",
    "\n",
    "actions = [-10, 0, 10]  \n",
    "for action, prob in zip(actions, action_probs):\n",
    "    print(f\"P(action={action}) = {prob:.3f}\")\n",
    "\n",
    "# output the probabilities of each action from the reference policy\n",
    "ref_probs = ref_policy(test_state).cpu().numpy()[0]\n",
    "print(\"\\nUniform policy probabilities:\")\n",
    "for action, prob in zip(actions, ref_probs):\n",
    "    print(f\"P(action={action}) = {prob:.3f}\")"
   ]
  },
  {
   "cell_type": "code",
   "execution_count": 20,
   "metadata": {},
   "outputs": [
    {
     "name": "stdout",
     "output_type": "stream",
     "text": [
      "\n",
      "RLHF model and base model comparison score: 0.083\n"
     ]
    },
    {
     "name": "stderr",
     "output_type": "stream",
     "text": [
      "/home/hanwen/policy_optimization/exp/utils/utils.py:21: UserWarning: To copy construct from a tensor, it is recommended to use sourceTensor.clone().detach() or sourceTensor.clone().detach().requires_grad_(True), rather than torch.tensor(sourceTensor).\n",
      "  state = torch.tensor(state, dtype=torch.float32).unsqueeze(0).to(device)\n"
     ]
    }
   ],
   "source": [
    "# compare the learned policy with the reference policy\n",
    "score = model_comparison(policy, ref_policy,feature_func)\n",
    "print(f\"\\nRLHF model and base model comparison score: {score:.3f}\")"
   ]
  },
  {
   "cell_type": "markdown",
   "metadata": {},
   "source": [
    "## DPO"
   ]
  },
  {
   "cell_type": "code",
   "execution_count": 21,
   "metadata": {},
   "outputs": [],
   "source": [
    "policy2 = PolicyModel(\n",
    "    state_dim,\n",
    "    actions,\n",
    "    hidden_dim=64,\n",
    "    num_layers=2,\n",
    "    device=device,\n",
    ").to(device)"
   ]
  },
  {
   "cell_type": "code",
   "execution_count": 22,
   "metadata": {},
   "outputs": [],
   "source": [
    "dpo_optimizer = DirectPreferenceOptimizer(\n",
    "    policy=policy2,\n",
    "    ref_policy=ref_policy,\n",
    "    learning_rate=1e-3,\n",
    "    batch_size=64,\n",
    "    beta=1.0,\n",
    "    logger=logger,\n",
    "    nash_point = nash_point\n",
    ")"
   ]
  },
  {
   "cell_type": "code",
   "execution_count": 23,
   "metadata": {},
   "outputs": [
    {
     "name": "stderr",
     "output_type": "stream",
     "text": [
      "2024-11-20 17:52:28,125 - /home/hanwen/policy_optimization/exp/algorithm.py[line:315] - INFO: [Policy] Epoch: 0 loss: 0.6931 grad norm: 0.0305 \n",
      "2024-11-20 17:52:28,141 - /home/hanwen/policy_optimization/exp/algorithm.py[line:315] - INFO: [Policy] Epoch: 5 loss: 0.6906 grad norm: 0.0212 \n",
      "2024-11-20 17:52:28,156 - /home/hanwen/policy_optimization/exp/algorithm.py[line:315] - INFO: [Policy] Epoch: 10 loss: 0.6892 grad norm: 0.0113 \n",
      "2024-11-20 17:52:28,171 - /home/hanwen/policy_optimization/exp/algorithm.py[line:315] - INFO: [Policy] Epoch: 15 loss: 0.6888 grad norm: 0.0015 \n",
      "2024-11-20 17:52:28,186 - /home/hanwen/policy_optimization/exp/algorithm.py[line:315] - INFO: [Policy] Epoch: 20 loss: 0.6890 grad norm: 0.0085 \n",
      "2024-11-20 17:52:28,200 - /home/hanwen/policy_optimization/exp/algorithm.py[line:315] - INFO: [Policy] Epoch: 25 loss: 0.6890 grad norm: 0.0080 \n",
      "2024-11-20 17:52:28,214 - /home/hanwen/policy_optimization/exp/algorithm.py[line:315] - INFO: [Policy] Epoch: 30 loss: 0.6889 grad norm: 0.0037 \n",
      "2024-11-20 17:52:28,228 - /home/hanwen/policy_optimization/exp/algorithm.py[line:315] - INFO: [Policy] Epoch: 35 loss: 0.6888 grad norm: 0.0020 \n",
      "2024-11-20 17:52:28,242 - /home/hanwen/policy_optimization/exp/algorithm.py[line:315] - INFO: [Policy] Epoch: 40 loss: 0.6888 grad norm: 0.0024 \n",
      "2024-11-20 17:52:28,256 - /home/hanwen/policy_optimization/exp/algorithm.py[line:315] - INFO: [Policy] Epoch: 45 loss: 0.6888 grad norm: 0.0022 \n",
      "2024-11-20 17:52:28,270 - /home/hanwen/policy_optimization/exp/algorithm.py[line:315] - INFO: [Policy] Epoch: 50 loss: 0.6888 grad norm: 0.0016 \n",
      "2024-11-20 17:52:28,285 - /home/hanwen/policy_optimization/exp/algorithm.py[line:315] - INFO: [Policy] Epoch: 55 loss: 0.6888 grad norm: 0.0008 \n",
      "2024-11-20 17:52:28,299 - /home/hanwen/policy_optimization/exp/algorithm.py[line:315] - INFO: [Policy] Epoch: 60 loss: 0.6888 grad norm: 0.0006 \n",
      "2024-11-20 17:52:28,313 - /home/hanwen/policy_optimization/exp/algorithm.py[line:315] - INFO: [Policy] Epoch: 65 loss: 0.6888 grad norm: 0.0008 \n",
      "2024-11-20 17:52:28,327 - /home/hanwen/policy_optimization/exp/algorithm.py[line:315] - INFO: [Policy] Epoch: 70 loss: 0.6888 grad norm: 0.0006 \n",
      "2024-11-20 17:52:28,341 - /home/hanwen/policy_optimization/exp/algorithm.py[line:315] - INFO: [Policy] Epoch: 75 loss: 0.6888 grad norm: 0.0001 \n",
      "2024-11-20 17:52:28,355 - /home/hanwen/policy_optimization/exp/algorithm.py[line:315] - INFO: [Policy] Epoch: 80 loss: 0.6888 grad norm: 0.0003 \n",
      "2024-11-20 17:52:28,369 - /home/hanwen/policy_optimization/exp/algorithm.py[line:315] - INFO: [Policy] Epoch: 85 loss: 0.6888 grad norm: 0.0003 \n",
      "2024-11-20 17:52:28,383 - /home/hanwen/policy_optimization/exp/algorithm.py[line:315] - INFO: [Policy] Epoch: 90 loss: 0.6888 grad norm: 0.0001 \n",
      "2024-11-20 17:52:28,397 - /home/hanwen/policy_optimization/exp/algorithm.py[line:315] - INFO: [Policy] Epoch: 95 loss: 0.6888 grad norm: 0.0001 \n"
     ]
    },
    {
     "data": {
      "image/png": "[encoded data removed]",
      "text/plain": [
       "<Figure size 600x600 with 1 Axes>"
      ]
     },
     "metadata": {},
     "output_type": "display_data"
    }
   ],
   "source": [
    "dpo_optimizer.optimize(\n",
    "    states=states,\n",
    "    positive_actions=positive_actions,\n",
    "    negative_actions=negative_actions,\n",
    "    num_epochs=100\n",
    ")"
   ]
  },
  {
   "cell_type": "code",
   "execution_count": 24,
   "metadata": {},
   "outputs": [
    {
     "name": "stdout",
     "output_type": "stream",
     "text": [
      "\n",
      "Learned policy probabilities:\n",
      "P(action=-10) = 0.475\n",
      "P(action=0) = 0.215\n",
      "P(action=10) = 0.310\n",
      "\n",
      "DPO model and base model comparison score: 0.037\n"
     ]
    }
   ],
   "source": [
    "test_state = torch.zeros(1, 1, dtype=torch.float32).to(device)\n",
    "with torch.no_grad():\n",
    "    action_probs = policy2(test_state)\n",
    "    print(\"\\nLearned policy probabilities:\")\n",
    "    for action, prob in zip(actions, action_probs[0].cpu().numpy()):\n",
    "        print(f\"P(action={action}) = {prob:.3f}\")\n",
    "        \n",
    "# compare the learned policy with the reference policy\n",
    "score = model_comparison(policy2, ref_policy,feature_func)\n",
    "print(f\"\\nDPO model and base model comparison score: {score:.3f}\")"
   ]
  },
  {
   "cell_type": "markdown",
   "metadata": {},
   "source": [
    "## SPPO"
   ]
  },
  {
   "cell_type": "code",
   "execution_count": 25,
   "metadata": {},
   "outputs": [],
   "source": [
    "policy3 = PolicyModel(\n",
    "    state_dim,\n",
    "    actions,\n",
    "    hidden_dim=64,\n",
    "    num_layers=2,\n",
    "    device=device,\n",
    ").to(device)"
   ]
  },
  {
   "cell_type": "code",
   "execution_count": 26,
   "metadata": {},
   "outputs": [],
   "source": [
    "chosen_probs = torch.tensor([x.chosen_probs for x in pref_dataset], dtype=torch.float32).to(device)"
   ]
  },
  {
   "cell_type": "code",
   "execution_count": 27,
   "metadata": {},
   "outputs": [],
   "source": [
    "sppo_optimizer = SelfPlayPreferenceOptimizer(\n",
    "    policy=policy3,\n",
    "    ref_policy=ref_policy2,\n",
    "    learning_rate=1e-2,\n",
    "    batch_size=64,\n",
    "    eta=1e-3,  \n",
    "    logger=logger,\n",
    "    nash_point = nash_point\n",
    ")"
   ]
  },
  {
   "cell_type": "code",
   "execution_count": 28,
   "metadata": {},
   "outputs": [
    {
     "name": "stderr",
     "output_type": "stream",
     "text": [
      "2024-11-20 17:52:28,624 - /home/hanwen/policy_optimization/exp/algorithm.py[line:433] - INFO: [Policy] Epoch: 0 loss: 0.1257 grad norm: 0.4225 \n"
     ]
    },
    {
     "name": "stderr",
     "output_type": "stream",
     "text": [
      "2024-11-20 17:52:28,647 - /home/hanwen/policy_optimization/exp/algorithm.py[line:433] - INFO: [Policy] Epoch: 5 loss: 0.0025 grad norm: 0.0738 \n",
      "2024-11-20 17:52:28,668 - /home/hanwen/policy_optimization/exp/algorithm.py[line:433] - INFO: [Policy] Epoch: 10 loss: 0.0025 grad norm: 0.0541 \n",
      "2024-11-20 17:52:28,687 - /home/hanwen/policy_optimization/exp/algorithm.py[line:433] - INFO: [Policy] Epoch: 15 loss: 0.0008 grad norm: 0.0292 \n",
      "2024-11-20 17:52:28,705 - /home/hanwen/policy_optimization/exp/algorithm.py[line:433] - INFO: [Policy] Epoch: 20 loss: 0.0006 grad norm: 0.0339 \n",
      "2024-11-20 17:52:28,724 - /home/hanwen/policy_optimization/exp/algorithm.py[line:433] - INFO: [Policy] Epoch: 25 loss: 0.0002 grad norm: 0.0146 \n",
      "2024-11-20 17:52:28,743 - /home/hanwen/policy_optimization/exp/algorithm.py[line:433] - INFO: [Policy] Epoch: 30 loss: 0.0002 grad norm: 0.0175 \n",
      "2024-11-20 17:52:28,762 - /home/hanwen/policy_optimization/exp/algorithm.py[line:433] - INFO: [Policy] Epoch: 35 loss: 0.0001 grad norm: 0.0085 \n",
      "2024-11-20 17:52:28,781 - /home/hanwen/policy_optimization/exp/algorithm.py[line:433] - INFO: [Policy] Epoch: 40 loss: 0.0000 grad norm: 0.0023 \n",
      "2024-11-20 17:52:28,800 - /home/hanwen/policy_optimization/exp/algorithm.py[line:433] - INFO: [Policy] Epoch: 45 loss: 0.0000 grad norm: 0.0049 \n",
      "2024-11-20 17:52:28,818 - /home/hanwen/policy_optimization/exp/algorithm.py[line:433] - INFO: [Policy] Epoch: 50 loss: 0.0000 grad norm: 0.0009 \n",
      "2024-11-20 17:52:28,836 - /home/hanwen/policy_optimization/exp/algorithm.py[line:433] - INFO: [Policy] Epoch: 55 loss: 0.0000 grad norm: 0.0029 \n",
      "2024-11-20 17:52:28,855 - /home/hanwen/policy_optimization/exp/algorithm.py[line:433] - INFO: [Policy] Epoch: 60 loss: 0.0000 grad norm: 0.0005 \n",
      "2024-11-20 17:52:28,874 - /home/hanwen/policy_optimization/exp/algorithm.py[line:433] - INFO: [Policy] Epoch: 65 loss: 0.0000 grad norm: 0.0015 \n",
      "2024-11-20 17:52:28,893 - /home/hanwen/policy_optimization/exp/algorithm.py[line:433] - INFO: [Policy] Epoch: 70 loss: 0.0000 grad norm: 0.0002 \n",
      "2024-11-20 17:52:28,911 - /home/hanwen/policy_optimization/exp/algorithm.py[line:433] - INFO: [Policy] Epoch: 75 loss: 0.0000 grad norm: 0.0009 \n",
      "2024-11-20 17:52:28,930 - /home/hanwen/policy_optimization/exp/algorithm.py[line:433] - INFO: [Policy] Epoch: 80 loss: 0.0000 grad norm: 0.0003 \n",
      "2024-11-20 17:52:28,948 - /home/hanwen/policy_optimization/exp/algorithm.py[line:433] - INFO: [Policy] Epoch: 85 loss: 0.0000 grad norm: 0.0004 \n",
      "2024-11-20 17:52:28,966 - /home/hanwen/policy_optimization/exp/algorithm.py[line:433] - INFO: [Policy] Epoch: 90 loss: 0.0000 grad norm: 0.0003 \n",
      "2024-11-20 17:52:28,985 - /home/hanwen/policy_optimization/exp/algorithm.py[line:433] - INFO: [Policy] Epoch: 95 loss: 0.0000 grad norm: 0.0002 \n"
     ]
    },
    {
     "data": {
      "image/png": "[encoded data removed]",
      "text/plain": [
       "<Figure size 600x600 with 1 Axes>"
      ]
     },
     "metadata": {},
     "output_type": "display_data"
    }
   ],
   "source": [
    "sppo_optimizer.optimize(\n",
    "    states=states,\n",
    "    positive_actions=positive_actions,\n",
    "    negative_actions=negative_actions,\n",
    "    chosen_probs=chosen_probs,\n",
    "    num_epochs=100\n",
    ")"
   ]
  },
  {
   "cell_type": "code",
   "execution_count": 29,
   "metadata": {},
   "outputs": [
    {
     "name": "stdout",
     "output_type": "stream",
     "text": [
      "\n",
      "Learned policy probabilities:\n",
      "P(action=-10) = 0.445\n",
      "P(action=0) = 0.288\n",
      "P(action=10) = 0.267\n",
      "\n",
      "SPPO model and base model comparison score: -0.005\n"
     ]
    }
   ],
   "source": [
    "test_state = torch.zeros(1, 1, dtype=torch.float32).to(device)\n",
    "with torch.no_grad():\n",
    "    action_probs = policy3(test_state)\n",
    "    print(\"\\nLearned policy probabilities:\")\n",
    "    for action, prob in zip(actions, action_probs[0].cpu().numpy()):\n",
    "        print(f\"P(action={action}) = {prob:.3f}\")\n",
    "        \n",
    "# compare the learned policy with the reference policy\n",
    "score = model_comparison(policy3, ref_policy,feature_func)\n",
    "print(f\"\\nSPPO model and base model comparison score: {score:.3f}\")"
   ]
  },
  {
   "cell_type": "markdown",
   "metadata": {},
   "source": [
    "## SPPO Closed-form solution"
   ]
  },
  {
   "cell_type": "code",
   "execution_count": 59,
   "metadata": {},
   "outputs": [],
   "source": [
    "sppo_closed_form = SPPOClosedForm(\n",
    "    ref_policy=ref_policy,\n",
    "    eta=1e-2,\n",
    "    batch_size=64,\n",
    "    logger=logger,\n",
    "    device=device,\n",
    "    nash_point=nash_point\n",
    ")"
   ]
  },
  {
   "cell_type": "code",
   "execution_count": 60,
   "metadata": {},
   "outputs": [
    {
     "name": "stderr",
     "output_type": "stream",
     "text": [
      "2024-11-20 17:55:54,571 - /home/hanwen/policy_optimization/exp/algorithm.py[line:509] - INFO: Iteration 0: ref_distribution = tensor([0.3333, 0.3333, 0.3333], device='cuda:0'), new_distribution = tensor([0.3341, 0.3341, 0.3318], device='cuda:0')\n",
      "2024-11-20 17:55:54,575 - /home/hanwen/policy_optimization/exp/algorithm.py[line:509] - INFO: Iteration 1: ref_distribution = tensor([0.3341, 0.3341, 0.3318], device='cuda:0'), new_distribution = tensor([0.3343, 0.3351, 0.3305], device='cuda:0')\n",
      "2024-11-20 17:55:54,579 - /home/hanwen/policy_optimization/exp/algorithm.py[line:509] - INFO: Iteration 2: ref_distribution = tensor([0.3343, 0.3351, 0.3305], device='cuda:0'), new_distribution = tensor([0.3350, 0.3359, 0.3290], device='cuda:0')\n",
      "2024-11-20 17:55:54,583 - /home/hanwen/policy_optimization/exp/algorithm.py[line:509] - INFO: Iteration 3: ref_distribution = tensor([0.3350, 0.3359, 0.3290], device='cuda:0'), new_distribution = tensor([0.3348, 0.3372, 0.3280], device='cuda:0')\n",
      "2024-11-20 17:55:54,587 - /home/hanwen/policy_optimization/exp/algorithm.py[line:509] - INFO: Iteration 4: ref_distribution = tensor([0.3348, 0.3372, 0.3280], device='cuda:0'), new_distribution = tensor([0.3356, 0.3372, 0.3272], device='cuda:0')\n",
      "2024-11-20 17:55:54,590 - /home/hanwen/policy_optimization/exp/algorithm.py[line:509] - INFO: Iteration 5: ref_distribution = tensor([0.3356, 0.3372, 0.3272], device='cuda:0'), new_distribution = tensor([0.3370, 0.3365, 0.3264], device='cuda:0')\n",
      "2024-11-20 17:55:54,594 - /home/hanwen/policy_optimization/exp/algorithm.py[line:509] - INFO: Iteration 6: ref_distribution = tensor([0.3370, 0.3365, 0.3264], device='cuda:0'), new_distribution = tensor([0.3387, 0.3361, 0.3252], device='cuda:0')\n",
      "2024-11-20 17:55:54,598 - /home/hanwen/policy_optimization/exp/algorithm.py[line:509] - INFO: Iteration 7: ref_distribution = tensor([0.3387, 0.3361, 0.3252], device='cuda:0'), new_distribution = tensor([0.3400, 0.3366, 0.3234], device='cuda:0')\n",
      "2024-11-20 17:55:54,602 - /home/hanwen/policy_optimization/exp/algorithm.py[line:509] - INFO: Iteration 8: ref_distribution = tensor([0.3400, 0.3366, 0.3234], device='cuda:0'), new_distribution = tensor([0.3405, 0.3371, 0.3224], device='cuda:0')\n",
      "2024-11-20 17:55:54,606 - /home/hanwen/policy_optimization/exp/algorithm.py[line:509] - INFO: Iteration 9: ref_distribution = tensor([0.3405, 0.3371, 0.3224], device='cuda:0'), new_distribution = tensor([0.3403, 0.3376, 0.3221], device='cuda:0')\n",
      "2024-11-20 17:55:54,610 - /home/hanwen/policy_optimization/exp/algorithm.py[line:509] - INFO: Iteration 10: ref_distribution = tensor([0.3403, 0.3376, 0.3221], device='cuda:0'), new_distribution = tensor([0.3415, 0.3373, 0.3211], device='cuda:0')\n",
      "2024-11-20 17:55:54,614 - /home/hanwen/policy_optimization/exp/algorithm.py[line:509] - INFO: Iteration 11: ref_distribution = tensor([0.3415, 0.3373, 0.3211], device='cuda:0'), new_distribution = tensor([0.3430, 0.3373, 0.3196], device='cuda:0')\n",
      "2024-11-20 17:55:54,618 - /home/hanwen/policy_optimization/exp/algorithm.py[line:509] - INFO: Iteration 12: ref_distribution = tensor([0.3430, 0.3373, 0.3196], device='cuda:0'), new_distribution = tensor([0.3435, 0.3385, 0.3179], device='cuda:0')\n",
      "2024-11-20 17:55:54,621 - /home/hanwen/policy_optimization/exp/algorithm.py[line:509] - INFO: Iteration 13: ref_distribution = tensor([0.3435, 0.3385, 0.3179], device='cuda:0'), new_distribution = tensor([0.3446, 0.3388, 0.3167], device='cuda:0')\n",
      "2024-11-20 17:55:54,625 - /home/hanwen/policy_optimization/exp/algorithm.py[line:509] - INFO: Iteration 14: ref_distribution = tensor([0.3446, 0.3388, 0.3167], device='cuda:0'), new_distribution = tensor([0.3458, 0.3378, 0.3164], device='cuda:0')\n",
      "2024-11-20 17:55:54,629 - /home/hanwen/policy_optimization/exp/algorithm.py[line:509] - INFO: Iteration 15: ref_distribution = tensor([0.3458, 0.3378, 0.3164], device='cuda:0'), new_distribution = tensor([0.3471, 0.3375, 0.3154], device='cuda:0')\n",
      "2024-11-20 17:55:54,633 - /home/hanwen/policy_optimization/exp/algorithm.py[line:509] - INFO: Iteration 16: ref_distribution = tensor([0.3471, 0.3375, 0.3154], device='cuda:0'), new_distribution = tensor([0.3481, 0.3377, 0.3142], device='cuda:0')\n",
      "2024-11-20 17:55:54,637 - /home/hanwen/policy_optimization/exp/algorithm.py[line:509] - INFO: Iteration 17: ref_distribution = tensor([0.3481, 0.3377, 0.3142], device='cuda:0'), new_distribution = tensor([0.3487, 0.3374, 0.3139], device='cuda:0')\n",
      "2024-11-20 17:55:54,641 - /home/hanwen/policy_optimization/exp/algorithm.py[line:509] - INFO: Iteration 18: ref_distribution = tensor([0.3487, 0.3374, 0.3139], device='cuda:0'), new_distribution = tensor([0.3497, 0.3362, 0.3141], device='cuda:0')\n",
      "2024-11-20 17:55:54,645 - /home/hanwen/policy_optimization/exp/algorithm.py[line:509] - INFO: Iteration 19: ref_distribution = tensor([0.3497, 0.3362, 0.3141], device='cuda:0'), new_distribution = tensor([0.3500, 0.3378, 0.3122], device='cuda:0')\n",
      "2024-11-20 17:55:54,648 - /home/hanwen/policy_optimization/exp/algorithm.py[line:509] - INFO: Iteration 20: ref_distribution = tensor([0.3500, 0.3378, 0.3122], device='cuda:0'), new_distribution = tensor([0.3503, 0.3387, 0.3110], device='cuda:0')\n",
      "2024-11-20 17:55:54,652 - /home/hanwen/policy_optimization/exp/algorithm.py[line:509] - INFO: Iteration 21: ref_distribution = tensor([0.3503, 0.3387, 0.3110], device='cuda:0'), new_distribution = tensor([0.3523, 0.3384, 0.3093], device='cuda:0')\n",
      "2024-11-20 17:55:54,656 - /home/hanwen/policy_optimization/exp/algorithm.py[line:509] - INFO: Iteration 22: ref_distribution = tensor([0.3523, 0.3384, 0.3093], device='cuda:0'), new_distribution = tensor([0.3534, 0.3379, 0.3088], device='cuda:0')\n",
      "2024-11-20 17:55:54,660 - /home/hanwen/policy_optimization/exp/algorithm.py[line:509] - INFO: Iteration 23: ref_distribution = tensor([0.3534, 0.3379, 0.3088], device='cuda:0'), new_distribution = tensor([0.3539, 0.3390, 0.3071], device='cuda:0')\n",
      "2024-11-20 17:55:54,664 - /home/hanwen/policy_optimization/exp/algorithm.py[line:509] - INFO: Iteration 24: ref_distribution = tensor([0.3539, 0.3390, 0.3071], device='cuda:0'), new_distribution = tensor([0.3557, 0.3384, 0.3059], device='cuda:0')\n",
      "2024-11-20 17:55:54,668 - /home/hanwen/policy_optimization/exp/algorithm.py[line:509] - INFO: Iteration 25: ref_distribution = tensor([0.3557, 0.3384, 0.3059], device='cuda:0'), new_distribution = tensor([0.3570, 0.3381, 0.3049], device='cuda:0')\n",
      "2024-11-20 17:55:54,672 - /home/hanwen/policy_optimization/exp/algorithm.py[line:509] - INFO: Iteration 26: ref_distribution = tensor([0.3570, 0.3381, 0.3049], device='cuda:0'), new_distribution = tensor([0.3580, 0.3382, 0.3037], device='cuda:0')\n",
      "2024-11-20 17:55:54,676 - /home/hanwen/policy_optimization/exp/algorithm.py[line:509] - INFO: Iteration 27: ref_distribution = tensor([0.3580, 0.3382, 0.3037], device='cuda:0'), new_distribution = tensor([0.3598, 0.3383, 0.3018], device='cuda:0')\n",
      "2024-11-20 17:55:54,679 - /home/hanwen/policy_optimization/exp/algorithm.py[line:509] - INFO: Iteration 28: ref_distribution = tensor([0.3598, 0.3383, 0.3018], device='cuda:0'), new_distribution = tensor([0.3616, 0.3384, 0.2999], device='cuda:0')\n",
      "2024-11-20 17:55:54,683 - /home/hanwen/policy_optimization/exp/algorithm.py[line:509] - INFO: Iteration 29: ref_distribution = tensor([0.3616, 0.3384, 0.2999], device='cuda:0'), new_distribution = tensor([0.3627, 0.3386, 0.2988], device='cuda:0')\n",
      "2024-11-20 17:55:54,687 - /home/hanwen/policy_optimization/exp/algorithm.py[line:509] - INFO: Iteration 30: ref_distribution = tensor([0.3627, 0.3386, 0.2988], device='cuda:0'), new_distribution = tensor([0.3630, 0.3394, 0.2976], device='cuda:0')\n",
      "2024-11-20 17:55:54,691 - /home/hanwen/policy_optimization/exp/algorithm.py[line:509] - INFO: Iteration 31: ref_distribution = tensor([0.3630, 0.3394, 0.2976], device='cuda:0'), new_distribution = tensor([0.3648, 0.3387, 0.2964], device='cuda:0')\n",
      "2024-11-20 17:55:54,695 - /home/hanwen/policy_optimization/exp/algorithm.py[line:509] - INFO: Iteration 32: ref_distribution = tensor([0.3648, 0.3387, 0.2964], device='cuda:0'), new_distribution = tensor([0.3654, 0.3383, 0.2962], device='cuda:0')\n",
      "2024-11-20 17:55:54,700 - /home/hanwen/policy_optimization/exp/algorithm.py[line:509] - INFO: Iteration 33: ref_distribution = tensor([0.3654, 0.3383, 0.2962], device='cuda:0'), new_distribution = tensor([0.3675, 0.3379, 0.2946], device='cuda:0')\n",
      "2024-11-20 17:55:54,704 - /home/hanwen/policy_optimization/exp/algorithm.py[line:509] - INFO: Iteration 34: ref_distribution = tensor([0.3675, 0.3379, 0.2946], device='cuda:0'), new_distribution = tensor([0.3688, 0.3375, 0.2936], device='cuda:0')\n",
      "2024-11-20 17:55:54,708 - /home/hanwen/policy_optimization/exp/algorithm.py[line:509] - INFO: Iteration 35: ref_distribution = tensor([0.3688, 0.3375, 0.2936], device='cuda:0'), new_distribution = tensor([0.3689, 0.3388, 0.2923], device='cuda:0')\n",
      "2024-11-20 17:55:54,712 - /home/hanwen/policy_optimization/exp/algorithm.py[line:509] - INFO: Iteration 36: ref_distribution = tensor([0.3689, 0.3388, 0.2923], device='cuda:0'), new_distribution = tensor([0.3700, 0.3381, 0.2918], device='cuda:0')\n",
      "2024-11-20 17:55:54,716 - /home/hanwen/policy_optimization/exp/algorithm.py[line:509] - INFO: Iteration 37: ref_distribution = tensor([0.3700, 0.3381, 0.2918], device='cuda:0'), new_distribution = tensor([0.3706, 0.3384, 0.2910], device='cuda:0')\n",
      "2024-11-20 17:55:54,719 - /home/hanwen/policy_optimization/exp/algorithm.py[line:509] - INFO: Iteration 38: ref_distribution = tensor([0.3706, 0.3384, 0.2910], device='cuda:0'), new_distribution = tensor([0.3720, 0.3373, 0.2907], device='cuda:0')\n",
      "2024-11-20 17:55:54,723 - /home/hanwen/policy_optimization/exp/algorithm.py[line:509] - INFO: Iteration 39: ref_distribution = tensor([0.3720, 0.3373, 0.2907], device='cuda:0'), new_distribution = tensor([0.3731, 0.3366, 0.2903], device='cuda:0')\n",
      "2024-11-20 17:55:54,727 - /home/hanwen/policy_optimization/exp/algorithm.py[line:509] - INFO: Iteration 40: ref_distribution = tensor([0.3731, 0.3366, 0.2903], device='cuda:0'), new_distribution = tensor([0.3745, 0.3361, 0.2894], device='cuda:0')\n",
      "2024-11-20 17:55:54,731 - /home/hanwen/policy_optimization/exp/algorithm.py[line:509] - INFO: Iteration 41: ref_distribution = tensor([0.3745, 0.3361, 0.2894], device='cuda:0'), new_distribution = tensor([0.3761, 0.3359, 0.2880], device='cuda:0')\n",
      "2024-11-20 17:55:54,735 - /home/hanwen/policy_optimization/exp/algorithm.py[line:509] - INFO: Iteration 42: ref_distribution = tensor([0.3761, 0.3359, 0.2880], device='cuda:0'), new_distribution = tensor([0.3770, 0.3350, 0.2880], device='cuda:0')\n",
      "2024-11-20 17:55:54,739 - /home/hanwen/policy_optimization/exp/algorithm.py[line:509] - INFO: Iteration 43: ref_distribution = tensor([0.3770, 0.3350, 0.2880], device='cuda:0'), new_distribution = tensor([0.3779, 0.3348, 0.2874], device='cuda:0')\n",
      "2024-11-20 17:55:54,743 - /home/hanwen/policy_optimization/exp/algorithm.py[line:509] - INFO: Iteration 44: ref_distribution = tensor([0.3779, 0.3348, 0.2874], device='cuda:0'), new_distribution = tensor([0.3785, 0.3350, 0.2865], device='cuda:0')\n",
      "2024-11-20 17:55:54,747 - /home/hanwen/policy_optimization/exp/algorithm.py[line:509] - INFO: Iteration 45: ref_distribution = tensor([0.3785, 0.3350, 0.2865], device='cuda:0'), new_distribution = tensor([0.3801, 0.3348, 0.2852], device='cuda:0')\n",
      "2024-11-20 17:55:54,751 - /home/hanwen/policy_optimization/exp/algorithm.py[line:509] - INFO: Iteration 46: ref_distribution = tensor([0.3801, 0.3348, 0.2852], device='cuda:0'), new_distribution = tensor([0.3807, 0.3350, 0.2843], device='cuda:0')\n",
      "2024-11-20 17:55:54,755 - /home/hanwen/policy_optimization/exp/algorithm.py[line:509] - INFO: Iteration 47: ref_distribution = tensor([0.3807, 0.3350, 0.2843], device='cuda:0'), new_distribution = tensor([0.3811, 0.3350, 0.2839], device='cuda:0')\n",
      "2024-11-20 17:55:54,759 - /home/hanwen/policy_optimization/exp/algorithm.py[line:509] - INFO: Iteration 48: ref_distribution = tensor([0.3811, 0.3350, 0.2839], device='cuda:0'), new_distribution = tensor([0.3817, 0.3345, 0.2837], device='cuda:0')\n",
      "2024-11-20 17:55:54,763 - /home/hanwen/policy_optimization/exp/algorithm.py[line:509] - INFO: Iteration 49: ref_distribution = tensor([0.3817, 0.3345, 0.2837], device='cuda:0'), new_distribution = tensor([0.3833, 0.3343, 0.2824], device='cuda:0')\n",
      "2024-11-20 17:55:54,766 - /home/hanwen/policy_optimization/exp/algorithm.py[line:509] - INFO: Iteration 50: ref_distribution = tensor([0.3833, 0.3343, 0.2824], device='cuda:0'), new_distribution = tensor([0.3847, 0.3338, 0.2815], device='cuda:0')\n",
      "2024-11-20 17:55:54,770 - /home/hanwen/policy_optimization/exp/algorithm.py[line:509] - INFO: Iteration 51: ref_distribution = tensor([0.3847, 0.3338, 0.2815], device='cuda:0'), new_distribution = tensor([0.3856, 0.3335, 0.2809], device='cuda:0')\n",
      "2024-11-20 17:55:54,774 - /home/hanwen/policy_optimization/exp/algorithm.py[line:509] - INFO: Iteration 52: ref_distribution = tensor([0.3856, 0.3335, 0.2809], device='cuda:0'), new_distribution = tensor([0.3857, 0.3339, 0.2803], device='cuda:0')\n",
      "2024-11-20 17:55:54,778 - /home/hanwen/policy_optimization/exp/algorithm.py[line:509] - INFO: Iteration 53: ref_distribution = tensor([0.3857, 0.3339, 0.2803], device='cuda:0'), new_distribution = tensor([0.3869, 0.3339, 0.2792], device='cuda:0')\n",
      "2024-11-20 17:55:54,782 - /home/hanwen/policy_optimization/exp/algorithm.py[line:509] - INFO: Iteration 54: ref_distribution = tensor([0.3869, 0.3339, 0.2792], device='cuda:0'), new_distribution = tensor([0.3882, 0.3341, 0.2777], device='cuda:0')\n",
      "2024-11-20 17:55:54,786 - /home/hanwen/policy_optimization/exp/algorithm.py[line:509] - INFO: Iteration 55: ref_distribution = tensor([0.3882, 0.3341, 0.2777], device='cuda:0'), new_distribution = tensor([0.3886, 0.3340, 0.2773], device='cuda:0')\n",
      "2024-11-20 17:55:54,790 - /home/hanwen/policy_optimization/exp/algorithm.py[line:509] - INFO: Iteration 56: ref_distribution = tensor([0.3886, 0.3340, 0.2773], device='cuda:0'), new_distribution = tensor([0.3905, 0.3333, 0.2762], device='cuda:0')\n",
      "2024-11-20 17:55:54,794 - /home/hanwen/policy_optimization/exp/algorithm.py[line:509] - INFO: Iteration 57: ref_distribution = tensor([0.3905, 0.3333, 0.2762], device='cuda:0'), new_distribution = tensor([0.3924, 0.3325, 0.2751], device='cuda:0')\n",
      "2024-11-20 17:55:54,798 - /home/hanwen/policy_optimization/exp/algorithm.py[line:509] - INFO: Iteration 58: ref_distribution = tensor([0.3924, 0.3325, 0.2751], device='cuda:0'), new_distribution = tensor([0.3932, 0.3329, 0.2739], device='cuda:0')\n",
      "2024-11-20 17:55:54,802 - /home/hanwen/policy_optimization/exp/algorithm.py[line:509] - INFO: Iteration 59: ref_distribution = tensor([0.3932, 0.3329, 0.2739], device='cuda:0'), new_distribution = tensor([0.3944, 0.3321, 0.2735], device='cuda:0')\n",
      "2024-11-20 17:55:54,806 - /home/hanwen/policy_optimization/exp/algorithm.py[line:509] - INFO: Iteration 60: ref_distribution = tensor([0.3944, 0.3321, 0.2735], device='cuda:0'), new_distribution = tensor([0.3951, 0.3315, 0.2733], device='cuda:0')\n",
      "2024-11-20 17:55:54,810 - /home/hanwen/policy_optimization/exp/algorithm.py[line:509] - INFO: Iteration 61: ref_distribution = tensor([0.3951, 0.3315, 0.2733], device='cuda:0'), new_distribution = tensor([0.3958, 0.3310, 0.2732], device='cuda:0')\n",
      "2024-11-20 17:55:54,814 - /home/hanwen/policy_optimization/exp/algorithm.py[line:509] - INFO: Iteration 62: ref_distribution = tensor([0.3958, 0.3310, 0.2732], device='cuda:0'), new_distribution = tensor([0.3963, 0.3309, 0.2729], device='cuda:0')\n",
      "2024-11-20 17:55:54,817 - /home/hanwen/policy_optimization/exp/algorithm.py[line:509] - INFO: Iteration 63: ref_distribution = tensor([0.3963, 0.3309, 0.2729], device='cuda:0'), new_distribution = tensor([0.3970, 0.3303, 0.2727], device='cuda:0')\n",
      "2024-11-20 17:55:54,821 - /home/hanwen/policy_optimization/exp/algorithm.py[line:509] - INFO: Iteration 64: ref_distribution = tensor([0.3970, 0.3303, 0.2727], device='cuda:0'), new_distribution = tensor([0.3989, 0.3295, 0.2717], device='cuda:0')\n",
      "2024-11-20 17:55:54,825 - /home/hanwen/policy_optimization/exp/algorithm.py[line:509] - INFO: Iteration 65: ref_distribution = tensor([0.3989, 0.3295, 0.2717], device='cuda:0'), new_distribution = tensor([0.4012, 0.3284, 0.2703], device='cuda:0')\n",
      "2024-11-20 17:55:54,829 - /home/hanwen/policy_optimization/exp/algorithm.py[line:509] - INFO: Iteration 66: ref_distribution = tensor([0.4012, 0.3284, 0.2703], device='cuda:0'), new_distribution = tensor([0.4027, 0.3272, 0.2702], device='cuda:0')\n",
      "2024-11-20 17:55:54,833 - /home/hanwen/policy_optimization/exp/algorithm.py[line:509] - INFO: Iteration 67: ref_distribution = tensor([0.4027, 0.3272, 0.2702], device='cuda:0'), new_distribution = tensor([0.4046, 0.3263, 0.2691], device='cuda:0')\n",
      "2024-11-20 17:55:54,837 - /home/hanwen/policy_optimization/exp/algorithm.py[line:509] - INFO: Iteration 68: ref_distribution = tensor([0.4046, 0.3263, 0.2691], device='cuda:0'), new_distribution = tensor([0.4067, 0.3257, 0.2676], device='cuda:0')\n",
      "2024-11-20 17:55:54,840 - /home/hanwen/policy_optimization/exp/algorithm.py[line:509] - INFO: Iteration 69: ref_distribution = tensor([0.4067, 0.3257, 0.2676], device='cuda:0'), new_distribution = tensor([0.4077, 0.3246, 0.2677], device='cuda:0')\n",
      "2024-11-20 17:55:54,844 - /home/hanwen/policy_optimization/exp/algorithm.py[line:509] - INFO: Iteration 70: ref_distribution = tensor([0.4077, 0.3246, 0.2677], device='cuda:0'), new_distribution = tensor([0.4091, 0.3233, 0.2675], device='cuda:0')\n",
      "2024-11-20 17:55:54,848 - /home/hanwen/policy_optimization/exp/algorithm.py[line:509] - INFO: Iteration 71: ref_distribution = tensor([0.4091, 0.3233, 0.2675], device='cuda:0'), new_distribution = tensor([0.4106, 0.3220, 0.2674], device='cuda:0')\n",
      "2024-11-20 17:55:54,852 - /home/hanwen/policy_optimization/exp/algorithm.py[line:509] - INFO: Iteration 72: ref_distribution = tensor([0.4106, 0.3220, 0.2674], device='cuda:0'), new_distribution = tensor([0.4106, 0.3221, 0.2673], device='cuda:0')\n",
      "2024-11-20 17:55:54,856 - /home/hanwen/policy_optimization/exp/algorithm.py[line:509] - INFO: Iteration 73: ref_distribution = tensor([0.4106, 0.3221, 0.2673], device='cuda:0'), new_distribution = tensor([0.4125, 0.3212, 0.2663], device='cuda:0')\n",
      "2024-11-20 17:55:54,860 - /home/hanwen/policy_optimization/exp/algorithm.py[line:509] - INFO: Iteration 74: ref_distribution = tensor([0.4125, 0.3212, 0.2663], device='cuda:0'), new_distribution = tensor([0.4141, 0.3208, 0.2651], device='cuda:0')\n",
      "2024-11-20 17:55:54,864 - /home/hanwen/policy_optimization/exp/algorithm.py[line:509] - INFO: Iteration 75: ref_distribution = tensor([0.4141, 0.3208, 0.2651], device='cuda:0'), new_distribution = tensor([0.4162, 0.3202, 0.2636], device='cuda:0')\n",
      "2024-11-20 17:55:54,867 - /home/hanwen/policy_optimization/exp/algorithm.py[line:509] - INFO: Iteration 76: ref_distribution = tensor([0.4162, 0.3202, 0.2636], device='cuda:0'), new_distribution = tensor([0.4164, 0.3205, 0.2632], device='cuda:0')\n",
      "2024-11-20 17:55:54,871 - /home/hanwen/policy_optimization/exp/algorithm.py[line:509] - INFO: Iteration 77: ref_distribution = tensor([0.4164, 0.3205, 0.2632], device='cuda:0'), new_distribution = tensor([0.4172, 0.3208, 0.2620], device='cuda:0')\n",
      "2024-11-20 17:55:54,875 - /home/hanwen/policy_optimization/exp/algorithm.py[line:509] - INFO: Iteration 78: ref_distribution = tensor([0.4172, 0.3208, 0.2620], device='cuda:0'), new_distribution = tensor([0.4186, 0.3201, 0.2612], device='cuda:0')\n",
      "2024-11-20 17:55:54,879 - /home/hanwen/policy_optimization/exp/algorithm.py[line:509] - INFO: Iteration 79: ref_distribution = tensor([0.4186, 0.3201, 0.2612], device='cuda:0'), new_distribution = tensor([0.4199, 0.3192, 0.2609], device='cuda:0')\n",
      "2024-11-20 17:55:54,883 - /home/hanwen/policy_optimization/exp/algorithm.py[line:509] - INFO: Iteration 80: ref_distribution = tensor([0.4199, 0.3192, 0.2609], device='cuda:0'), new_distribution = tensor([0.4216, 0.3181, 0.2604], device='cuda:0')\n",
      "2024-11-20 17:55:54,887 - /home/hanwen/policy_optimization/exp/algorithm.py[line:509] - INFO: Iteration 81: ref_distribution = tensor([0.4216, 0.3181, 0.2604], device='cuda:0'), new_distribution = tensor([0.4218, 0.3176, 0.2605], device='cuda:0')\n",
      "2024-11-20 17:55:54,890 - /home/hanwen/policy_optimization/exp/algorithm.py[line:509] - INFO: Iteration 82: ref_distribution = tensor([0.4218, 0.3176, 0.2605], device='cuda:0'), new_distribution = tensor([0.4227, 0.3163, 0.2611], device='cuda:0')\n",
      "2024-11-20 17:55:54,894 - /home/hanwen/policy_optimization/exp/algorithm.py[line:509] - INFO: Iteration 83: ref_distribution = tensor([0.4227, 0.3163, 0.2611], device='cuda:0'), new_distribution = tensor([0.4233, 0.3163, 0.2604], device='cuda:0')\n",
      "2024-11-20 17:55:54,898 - /home/hanwen/policy_optimization/exp/algorithm.py[line:509] - INFO: Iteration 84: ref_distribution = tensor([0.4233, 0.3163, 0.2604], device='cuda:0'), new_distribution = tensor([0.4248, 0.3156, 0.2596], device='cuda:0')\n",
      "2024-11-20 17:55:54,902 - /home/hanwen/policy_optimization/exp/algorithm.py[line:509] - INFO: Iteration 85: ref_distribution = tensor([0.4248, 0.3156, 0.2596], device='cuda:0'), new_distribution = tensor([0.4245, 0.3161, 0.2594], device='cuda:0')\n",
      "2024-11-20 17:55:54,906 - /home/hanwen/policy_optimization/exp/algorithm.py[line:509] - INFO: Iteration 86: ref_distribution = tensor([0.4245, 0.3161, 0.2594], device='cuda:0'), new_distribution = tensor([0.4249, 0.3166, 0.2585], device='cuda:0')\n",
      "2024-11-20 17:55:54,910 - /home/hanwen/policy_optimization/exp/algorithm.py[line:509] - INFO: Iteration 87: ref_distribution = tensor([0.4249, 0.3166, 0.2585], device='cuda:0'), new_distribution = tensor([0.4267, 0.3164, 0.2569], device='cuda:0')\n",
      "2024-11-20 17:55:54,914 - /home/hanwen/policy_optimization/exp/algorithm.py[line:509] - INFO: Iteration 88: ref_distribution = tensor([0.4267, 0.3164, 0.2569], device='cuda:0'), new_distribution = tensor([0.4286, 0.3154, 0.2560], device='cuda:0')\n",
      "2024-11-20 17:55:54,918 - /home/hanwen/policy_optimization/exp/algorithm.py[line:509] - INFO: Iteration 89: ref_distribution = tensor([0.4286, 0.3154, 0.2560], device='cuda:0'), new_distribution = tensor([0.4296, 0.3150, 0.2555], device='cuda:0')\n",
      "2024-11-20 17:55:54,922 - /home/hanwen/policy_optimization/exp/algorithm.py[line:509] - INFO: Iteration 90: ref_distribution = tensor([0.4296, 0.3150, 0.2555], device='cuda:0'), new_distribution = tensor([0.4301, 0.3147, 0.2552], device='cuda:0')\n",
      "2024-11-20 17:55:54,926 - /home/hanwen/policy_optimization/exp/algorithm.py[line:509] - INFO: Iteration 91: ref_distribution = tensor([0.4301, 0.3147, 0.2552], device='cuda:0'), new_distribution = tensor([0.4308, 0.3140, 0.2552], device='cuda:0')\n",
      "2024-11-20 17:55:54,930 - /home/hanwen/policy_optimization/exp/algorithm.py[line:509] - INFO: Iteration 92: ref_distribution = tensor([0.4308, 0.3140, 0.2552], device='cuda:0'), new_distribution = tensor([0.4315, 0.3140, 0.2545], device='cuda:0')\n",
      "2024-11-20 17:55:54,934 - /home/hanwen/policy_optimization/exp/algorithm.py[line:509] - INFO: Iteration 93: ref_distribution = tensor([0.4315, 0.3140, 0.2545], device='cuda:0'), new_distribution = tensor([0.4328, 0.3123, 0.2548], device='cuda:0')\n",
      "2024-11-20 17:55:54,938 - /home/hanwen/policy_optimization/exp/algorithm.py[line:509] - INFO: Iteration 94: ref_distribution = tensor([0.4328, 0.3123, 0.2548], device='cuda:0'), new_distribution = tensor([0.4333, 0.3121, 0.2546], device='cuda:0')\n",
      "2024-11-20 17:55:54,942 - /home/hanwen/policy_optimization/exp/algorithm.py[line:509] - INFO: Iteration 95: ref_distribution = tensor([0.4333, 0.3121, 0.2546], device='cuda:0'), new_distribution = tensor([0.4346, 0.3111, 0.2543], device='cuda:0')\n",
      "2024-11-20 17:55:54,946 - /home/hanwen/policy_optimization/exp/algorithm.py[line:509] - INFO: Iteration 96: ref_distribution = tensor([0.4346, 0.3111, 0.2543], device='cuda:0'), new_distribution = tensor([0.4361, 0.3097, 0.2542], device='cuda:0')\n",
      "2024-11-20 17:55:54,950 - /home/hanwen/policy_optimization/exp/algorithm.py[line:509] - INFO: Iteration 97: ref_distribution = tensor([0.4361, 0.3097, 0.2542], device='cuda:0'), new_distribution = tensor([0.4373, 0.3088, 0.2539], device='cuda:0')\n",
      "2024-11-20 17:55:54,954 - /home/hanwen/policy_optimization/exp/algorithm.py[line:509] - INFO: Iteration 98: ref_distribution = tensor([0.4373, 0.3088, 0.2539], device='cuda:0'), new_distribution = tensor([0.4382, 0.3074, 0.2545], device='cuda:0')\n",
      "2024-11-20 17:55:54,957 - /home/hanwen/policy_optimization/exp/algorithm.py[line:509] - INFO: Iteration 99: ref_distribution = tensor([0.4382, 0.3074, 0.2545], device='cuda:0'), new_distribution = tensor([0.4395, 0.3057, 0.2548], device='cuda:0')\n",
      "2024-11-20 17:55:54,961 - /home/hanwen/policy_optimization/exp/algorithm.py[line:509] - INFO: Iteration 100: ref_distribution = tensor([0.4395, 0.3057, 0.2548], device='cuda:0'), new_distribution = tensor([0.4402, 0.3050, 0.2548], device='cuda:0')\n",
      "2024-11-20 17:55:54,965 - /home/hanwen/policy_optimization/exp/algorithm.py[line:509] - INFO: Iteration 101: ref_distribution = tensor([0.4402, 0.3050, 0.2548], device='cuda:0'), new_distribution = tensor([0.4418, 0.3045, 0.2537], device='cuda:0')\n",
      "2024-11-20 17:55:54,969 - /home/hanwen/policy_optimization/exp/algorithm.py[line:509] - INFO: Iteration 102: ref_distribution = tensor([0.4418, 0.3045, 0.2537], device='cuda:0'), new_distribution = tensor([0.4420, 0.3037, 0.2543], device='cuda:0')\n",
      "2024-11-20 17:55:54,973 - /home/hanwen/policy_optimization/exp/algorithm.py[line:509] - INFO: Iteration 103: ref_distribution = tensor([0.4420, 0.3037, 0.2543], device='cuda:0'), new_distribution = tensor([0.4434, 0.3030, 0.2536], device='cuda:0')\n",
      "2024-11-20 17:55:54,977 - /home/hanwen/policy_optimization/exp/algorithm.py[line:509] - INFO: Iteration 104: ref_distribution = tensor([0.4434, 0.3030, 0.2536], device='cuda:0'), new_distribution = tensor([0.4441, 0.3023, 0.2536], device='cuda:0')\n",
      "2024-11-20 17:55:54,981 - /home/hanwen/policy_optimization/exp/algorithm.py[line:509] - INFO: Iteration 105: ref_distribution = tensor([0.4441, 0.3023, 0.2536], device='cuda:0'), new_distribution = tensor([0.4450, 0.3008, 0.2542], device='cuda:0')\n",
      "2024-11-20 17:55:54,985 - /home/hanwen/policy_optimization/exp/algorithm.py[line:509] - INFO: Iteration 106: ref_distribution = tensor([0.4450, 0.3008, 0.2542], device='cuda:0'), new_distribution = tensor([0.4459, 0.3003, 0.2537], device='cuda:0')\n",
      "2024-11-20 17:55:54,988 - /home/hanwen/policy_optimization/exp/algorithm.py[line:509] - INFO: Iteration 107: ref_distribution = tensor([0.4459, 0.3003, 0.2537], device='cuda:0'), new_distribution = tensor([0.4468, 0.3005, 0.2527], device='cuda:0')\n",
      "2024-11-20 17:55:54,992 - /home/hanwen/policy_optimization/exp/algorithm.py[line:509] - INFO: Iteration 108: ref_distribution = tensor([0.4468, 0.3005, 0.2527], device='cuda:0'), new_distribution = tensor([0.4473, 0.3002, 0.2525], device='cuda:0')\n",
      "2024-11-20 17:55:54,996 - /home/hanwen/policy_optimization/exp/algorithm.py[line:509] - INFO: Iteration 109: ref_distribution = tensor([0.4473, 0.3002, 0.2525], device='cuda:0'), new_distribution = tensor([0.4473, 0.3002, 0.2525], device='cuda:0')\n",
      "2024-11-20 17:55:55,000 - /home/hanwen/policy_optimization/exp/algorithm.py[line:509] - INFO: Iteration 110: ref_distribution = tensor([0.4473, 0.3002, 0.2525], device='cuda:0'), new_distribution = tensor([0.4482, 0.2987, 0.2531], device='cuda:0')\n",
      "2024-11-20 17:55:55,004 - /home/hanwen/policy_optimization/exp/algorithm.py[line:509] - INFO: Iteration 111: ref_distribution = tensor([0.4482, 0.2987, 0.2531], device='cuda:0'), new_distribution = tensor([0.4485, 0.2982, 0.2533], device='cuda:0')\n",
      "2024-11-20 17:55:55,008 - /home/hanwen/policy_optimization/exp/algorithm.py[line:509] - INFO: Iteration 112: ref_distribution = tensor([0.4485, 0.2982, 0.2533], device='cuda:0'), new_distribution = tensor([0.4505, 0.2975, 0.2520], device='cuda:0')\n",
      "2024-11-20 17:55:55,011 - /home/hanwen/policy_optimization/exp/algorithm.py[line:509] - INFO: Iteration 113: ref_distribution = tensor([0.4505, 0.2975, 0.2520], device='cuda:0'), new_distribution = tensor([0.4513, 0.2967, 0.2520], device='cuda:0')\n",
      "2024-11-20 17:55:55,015 - /home/hanwen/policy_optimization/exp/algorithm.py[line:509] - INFO: Iteration 114: ref_distribution = tensor([0.4513, 0.2967, 0.2520], device='cuda:0'), new_distribution = tensor([0.4525, 0.2957, 0.2517], device='cuda:0')\n",
      "2024-11-20 17:55:55,019 - /home/hanwen/policy_optimization/exp/algorithm.py[line:509] - INFO: Iteration 115: ref_distribution = tensor([0.4525, 0.2957, 0.2517], device='cuda:0'), new_distribution = tensor([0.4536, 0.2945, 0.2519], device='cuda:0')\n",
      "2024-11-20 17:55:55,023 - /home/hanwen/policy_optimization/exp/algorithm.py[line:509] - INFO: Iteration 116: ref_distribution = tensor([0.4536, 0.2945, 0.2519], device='cuda:0'), new_distribution = tensor([0.4543, 0.2944, 0.2513], device='cuda:0')\n",
      "2024-11-20 17:55:55,027 - /home/hanwen/policy_optimization/exp/algorithm.py[line:509] - INFO: Iteration 117: ref_distribution = tensor([0.4543, 0.2944, 0.2513], device='cuda:0'), new_distribution = tensor([0.4552, 0.2939, 0.2509], device='cuda:0')\n",
      "2024-11-20 17:55:55,031 - /home/hanwen/policy_optimization/exp/algorithm.py[line:509] - INFO: Iteration 118: ref_distribution = tensor([0.4552, 0.2939, 0.2509], device='cuda:0'), new_distribution = tensor([0.4551, 0.2936, 0.2514], device='cuda:0')\n",
      "2024-11-20 17:55:55,035 - /home/hanwen/policy_optimization/exp/algorithm.py[line:509] - INFO: Iteration 119: ref_distribution = tensor([0.4551, 0.2936, 0.2514], device='cuda:0'), new_distribution = tensor([0.4564, 0.2919, 0.2517], device='cuda:0')\n",
      "2024-11-20 17:55:55,039 - /home/hanwen/policy_optimization/exp/algorithm.py[line:509] - INFO: Iteration 120: ref_distribution = tensor([0.4564, 0.2919, 0.2517], device='cuda:0'), new_distribution = tensor([0.4574, 0.2907, 0.2519], device='cuda:0')\n",
      "2024-11-20 17:55:55,043 - /home/hanwen/policy_optimization/exp/algorithm.py[line:509] - INFO: Iteration 121: ref_distribution = tensor([0.4574, 0.2907, 0.2519], device='cuda:0'), new_distribution = tensor([0.4587, 0.2890, 0.2523], device='cuda:0')\n",
      "2024-11-20 17:55:55,047 - /home/hanwen/policy_optimization/exp/algorithm.py[line:509] - INFO: Iteration 122: ref_distribution = tensor([0.4587, 0.2890, 0.2523], device='cuda:0'), new_distribution = tensor([0.4597, 0.2885, 0.2519], device='cuda:0')\n",
      "2024-11-20 17:55:55,050 - /home/hanwen/policy_optimization/exp/algorithm.py[line:509] - INFO: Iteration 123: ref_distribution = tensor([0.4597, 0.2885, 0.2519], device='cuda:0'), new_distribution = tensor([0.4605, 0.2886, 0.2509], device='cuda:0')\n",
      "2024-11-20 17:55:55,054 - /home/hanwen/policy_optimization/exp/algorithm.py[line:509] - INFO: Iteration 124: ref_distribution = tensor([0.4605, 0.2886, 0.2509], device='cuda:0'), new_distribution = tensor([0.4616, 0.2883, 0.2501], device='cuda:0')\n",
      "2024-11-20 17:55:55,058 - /home/hanwen/policy_optimization/exp/algorithm.py[line:509] - INFO: Iteration 125: ref_distribution = tensor([0.4616, 0.2883, 0.2501], device='cuda:0'), new_distribution = tensor([0.4627, 0.2880, 0.2493], device='cuda:0')\n",
      "2024-11-20 17:55:55,062 - /home/hanwen/policy_optimization/exp/algorithm.py[line:509] - INFO: Iteration 126: ref_distribution = tensor([0.4627, 0.2880, 0.2493], device='cuda:0'), new_distribution = tensor([0.4631, 0.2874, 0.2495], device='cuda:0')\n",
      "2024-11-20 17:55:55,066 - /home/hanwen/policy_optimization/exp/algorithm.py[line:509] - INFO: Iteration 127: ref_distribution = tensor([0.4631, 0.2874, 0.2495], device='cuda:0'), new_distribution = tensor([0.4638, 0.2866, 0.2495], device='cuda:0')\n",
      "2024-11-20 17:55:55,070 - /home/hanwen/policy_optimization/exp/algorithm.py[line:509] - INFO: Iteration 128: ref_distribution = tensor([0.4638, 0.2866, 0.2495], device='cuda:0'), new_distribution = tensor([0.4644, 0.2856, 0.2500], device='cuda:0')\n",
      "2024-11-20 17:55:55,074 - /home/hanwen/policy_optimization/exp/algorithm.py[line:509] - INFO: Iteration 129: ref_distribution = tensor([0.4644, 0.2856, 0.2500], device='cuda:0'), new_distribution = tensor([0.4651, 0.2855, 0.2494], device='cuda:0')\n",
      "2024-11-20 17:55:55,078 - /home/hanwen/policy_optimization/exp/algorithm.py[line:509] - INFO: Iteration 130: ref_distribution = tensor([0.4651, 0.2855, 0.2494], device='cuda:0'), new_distribution = tensor([0.4653, 0.2856, 0.2491], device='cuda:0')\n",
      "2024-11-20 17:55:55,082 - /home/hanwen/policy_optimization/exp/algorithm.py[line:509] - INFO: Iteration 131: ref_distribution = tensor([0.4653, 0.2856, 0.2491], device='cuda:0'), new_distribution = tensor([0.4660, 0.2855, 0.2485], device='cuda:0')\n",
      "2024-11-20 17:55:55,086 - /home/hanwen/policy_optimization/exp/algorithm.py[line:509] - INFO: Iteration 132: ref_distribution = tensor([0.4660, 0.2855, 0.2485], device='cuda:0'), new_distribution = tensor([0.4673, 0.2838, 0.2489], device='cuda:0')\n",
      "2024-11-20 17:55:55,090 - /home/hanwen/policy_optimization/exp/algorithm.py[line:509] - INFO: Iteration 133: ref_distribution = tensor([0.4673, 0.2838, 0.2489], device='cuda:0'), new_distribution = tensor([0.4684, 0.2835, 0.2481], device='cuda:0')\n",
      "2024-11-20 17:55:55,094 - /home/hanwen/policy_optimization/exp/algorithm.py[line:509] - INFO: Iteration 134: ref_distribution = tensor([0.4684, 0.2835, 0.2481], device='cuda:0'), new_distribution = tensor([0.4689, 0.2832, 0.2480], device='cuda:0')\n",
      "2024-11-20 17:55:55,098 - /home/hanwen/policy_optimization/exp/algorithm.py[line:509] - INFO: Iteration 135: ref_distribution = tensor([0.4689, 0.2832, 0.2480], device='cuda:0'), new_distribution = tensor([0.4691, 0.2833, 0.2476], device='cuda:0')\n",
      "2024-11-20 17:55:55,102 - /home/hanwen/policy_optimization/exp/algorithm.py[line:509] - INFO: Iteration 136: ref_distribution = tensor([0.4691, 0.2833, 0.2476], device='cuda:0'), new_distribution = tensor([0.4707, 0.2827, 0.2466], device='cuda:0')\n",
      "2024-11-20 17:55:55,106 - /home/hanwen/policy_optimization/exp/algorithm.py[line:509] - INFO: Iteration 137: ref_distribution = tensor([0.4707, 0.2827, 0.2466], device='cuda:0'), new_distribution = tensor([0.4714, 0.2819, 0.2467], device='cuda:0')\n",
      "2024-11-20 17:55:55,109 - /home/hanwen/policy_optimization/exp/algorithm.py[line:509] - INFO: Iteration 138: ref_distribution = tensor([0.4714, 0.2819, 0.2467], device='cuda:0'), new_distribution = tensor([0.4731, 0.2807, 0.2463], device='cuda:0')\n",
      "2024-11-20 17:55:55,113 - /home/hanwen/policy_optimization/exp/algorithm.py[line:509] - INFO: Iteration 139: ref_distribution = tensor([0.4731, 0.2807, 0.2463], device='cuda:0'), new_distribution = tensor([0.4743, 0.2796, 0.2461], device='cuda:0')\n",
      "2024-11-20 17:55:55,117 - /home/hanwen/policy_optimization/exp/algorithm.py[line:509] - INFO: Iteration 140: ref_distribution = tensor([0.4743, 0.2796, 0.2461], device='cuda:0'), new_distribution = tensor([0.4754, 0.2793, 0.2453], device='cuda:0')\n",
      "2024-11-20 17:55:55,121 - /home/hanwen/policy_optimization/exp/algorithm.py[line:509] - INFO: Iteration 141: ref_distribution = tensor([0.4754, 0.2793, 0.2453], device='cuda:0'), new_distribution = tensor([0.4763, 0.2787, 0.2450], device='cuda:0')\n",
      "2024-11-20 17:55:55,125 - /home/hanwen/policy_optimization/exp/algorithm.py[line:509] - INFO: Iteration 142: ref_distribution = tensor([0.4763, 0.2787, 0.2450], device='cuda:0'), new_distribution = tensor([0.4781, 0.2777, 0.2442], device='cuda:0')\n",
      "2024-11-20 17:55:55,129 - /home/hanwen/policy_optimization/exp/algorithm.py[line:509] - INFO: Iteration 143: ref_distribution = tensor([0.4781, 0.2777, 0.2442], device='cuda:0'), new_distribution = tensor([0.4789, 0.2769, 0.2442], device='cuda:0')\n",
      "2024-11-20 17:55:55,133 - /home/hanwen/policy_optimization/exp/algorithm.py[line:509] - INFO: Iteration 144: ref_distribution = tensor([0.4789, 0.2769, 0.2442], device='cuda:0'), new_distribution = tensor([0.4796, 0.2767, 0.2437], device='cuda:0')\n",
      "2024-11-20 17:55:55,137 - /home/hanwen/policy_optimization/exp/algorithm.py[line:509] - INFO: Iteration 145: ref_distribution = tensor([0.4796, 0.2767, 0.2437], device='cuda:0'), new_distribution = tensor([0.4806, 0.2755, 0.2439], device='cuda:0')\n",
      "2024-11-20 17:55:55,140 - /home/hanwen/policy_optimization/exp/algorithm.py[line:509] - INFO: Iteration 146: ref_distribution = tensor([0.4806, 0.2755, 0.2439], device='cuda:0'), new_distribution = tensor([0.4817, 0.2751, 0.2432], device='cuda:0')\n",
      "2024-11-20 17:55:55,144 - /home/hanwen/policy_optimization/exp/algorithm.py[line:509] - INFO: Iteration 147: ref_distribution = tensor([0.4817, 0.2751, 0.2432], device='cuda:0'), new_distribution = tensor([0.4825, 0.2752, 0.2423], device='cuda:0')\n",
      "2024-11-20 17:55:55,148 - /home/hanwen/policy_optimization/exp/algorithm.py[line:509] - INFO: Iteration 148: ref_distribution = tensor([0.4825, 0.2752, 0.2423], device='cuda:0'), new_distribution = tensor([0.4840, 0.2737, 0.2423], device='cuda:0')\n",
      "2024-11-20 17:55:55,152 - /home/hanwen/policy_optimization/exp/algorithm.py[line:509] - INFO: Iteration 149: ref_distribution = tensor([0.4840, 0.2737, 0.2423], device='cuda:0'), new_distribution = tensor([0.4851, 0.2724, 0.2425], device='cuda:0')\n",
      "2024-11-20 17:55:55,156 - /home/hanwen/policy_optimization/exp/algorithm.py[line:509] - INFO: Iteration 150: ref_distribution = tensor([0.4851, 0.2724, 0.2425], device='cuda:0'), new_distribution = tensor([0.4864, 0.2716, 0.2420], device='cuda:0')\n",
      "2024-11-20 17:55:55,160 - /home/hanwen/policy_optimization/exp/algorithm.py[line:509] - INFO: Iteration 151: ref_distribution = tensor([0.4864, 0.2716, 0.2420], device='cuda:0'), new_distribution = tensor([0.4874, 0.2710, 0.2417], device='cuda:0')\n",
      "2024-11-20 17:55:55,164 - /home/hanwen/policy_optimization/exp/algorithm.py[line:509] - INFO: Iteration 152: ref_distribution = tensor([0.4874, 0.2710, 0.2417], device='cuda:0'), new_distribution = tensor([0.4881, 0.2692, 0.2427], device='cuda:0')\n",
      "2024-11-20 17:55:55,168 - /home/hanwen/policy_optimization/exp/algorithm.py[line:509] - INFO: Iteration 153: ref_distribution = tensor([0.4881, 0.2692, 0.2427], device='cuda:0'), new_distribution = tensor([0.4886, 0.2688, 0.2426], device='cuda:0')\n",
      "2024-11-20 17:55:55,171 - /home/hanwen/policy_optimization/exp/algorithm.py[line:509] - INFO: Iteration 154: ref_distribution = tensor([0.4886, 0.2688, 0.2426], device='cuda:0'), new_distribution = tensor([0.4898, 0.2678, 0.2424], device='cuda:0')\n",
      "2024-11-20 17:55:55,175 - /home/hanwen/policy_optimization/exp/algorithm.py[line:509] - INFO: Iteration 155: ref_distribution = tensor([0.4898, 0.2678, 0.2424], device='cuda:0'), new_distribution = tensor([0.4913, 0.2663, 0.2424], device='cuda:0')\n",
      "2024-11-20 17:55:55,180 - /home/hanwen/policy_optimization/exp/algorithm.py[line:509] - INFO: Iteration 156: ref_distribution = tensor([0.4913, 0.2663, 0.2424], device='cuda:0'), new_distribution = tensor([0.4921, 0.2654, 0.2425], device='cuda:0')\n",
      "2024-11-20 17:55:55,184 - /home/hanwen/policy_optimization/exp/algorithm.py[line:509] - INFO: Iteration 157: ref_distribution = tensor([0.4921, 0.2654, 0.2425], device='cuda:0'), new_distribution = tensor([0.4937, 0.2651, 0.2412], device='cuda:0')\n",
      "2024-11-20 17:55:55,188 - /home/hanwen/policy_optimization/exp/algorithm.py[line:509] - INFO: Iteration 158: ref_distribution = tensor([0.4937, 0.2651, 0.2412], device='cuda:0'), new_distribution = tensor([0.4945, 0.2642, 0.2413], device='cuda:0')\n",
      "2024-11-20 17:55:55,192 - /home/hanwen/policy_optimization/exp/algorithm.py[line:509] - INFO: Iteration 159: ref_distribution = tensor([0.4945, 0.2642, 0.2413], device='cuda:0'), new_distribution = tensor([0.4959, 0.2627, 0.2413], device='cuda:0')\n",
      "2024-11-20 17:55:55,196 - /home/hanwen/policy_optimization/exp/algorithm.py[line:509] - INFO: Iteration 160: ref_distribution = tensor([0.4959, 0.2627, 0.2413], device='cuda:0'), new_distribution = tensor([0.4970, 0.2615, 0.2416], device='cuda:0')\n",
      "2024-11-20 17:55:55,200 - /home/hanwen/policy_optimization/exp/algorithm.py[line:509] - INFO: Iteration 161: ref_distribution = tensor([0.4970, 0.2615, 0.2416], device='cuda:0'), new_distribution = tensor([0.4979, 0.2599, 0.2422], device='cuda:0')\n",
      "2024-11-20 17:55:55,204 - /home/hanwen/policy_optimization/exp/algorithm.py[line:509] - INFO: Iteration 162: ref_distribution = tensor([0.4979, 0.2599, 0.2422], device='cuda:0'), new_distribution = tensor([0.4989, 0.2596, 0.2415], device='cuda:0')\n",
      "2024-11-20 17:55:55,208 - /home/hanwen/policy_optimization/exp/algorithm.py[line:509] - INFO: Iteration 163: ref_distribution = tensor([0.4989, 0.2596, 0.2415], device='cuda:0'), new_distribution = tensor([0.4995, 0.2585, 0.2420], device='cuda:0')\n",
      "2024-11-20 17:55:55,212 - /home/hanwen/policy_optimization/exp/algorithm.py[line:509] - INFO: Iteration 164: ref_distribution = tensor([0.4995, 0.2585, 0.2420], device='cuda:0'), new_distribution = tensor([0.5010, 0.2570, 0.2420], device='cuda:0')\n",
      "2024-11-20 17:55:55,215 - /home/hanwen/policy_optimization/exp/algorithm.py[line:509] - INFO: Iteration 165: ref_distribution = tensor([0.5010, 0.2570, 0.2420], device='cuda:0'), new_distribution = tensor([0.5019, 0.2555, 0.2427], device='cuda:0')\n",
      "2024-11-20 17:55:55,219 - /home/hanwen/policy_optimization/exp/algorithm.py[line:509] - INFO: Iteration 166: ref_distribution = tensor([0.5019, 0.2555, 0.2427], device='cuda:0'), new_distribution = tensor([0.5019, 0.2553, 0.2428], device='cuda:0')\n",
      "2024-11-20 17:55:55,223 - /home/hanwen/policy_optimization/exp/algorithm.py[line:509] - INFO: Iteration 167: ref_distribution = tensor([0.5019, 0.2553, 0.2428], device='cuda:0'), new_distribution = tensor([0.5035, 0.2531, 0.2434], device='cuda:0')\n",
      "2024-11-20 17:55:55,227 - /home/hanwen/policy_optimization/exp/algorithm.py[line:509] - INFO: Iteration 168: ref_distribution = tensor([0.5035, 0.2531, 0.2434], device='cuda:0'), new_distribution = tensor([0.5032, 0.2531, 0.2437], device='cuda:0')\n",
      "2024-11-20 17:55:55,231 - /home/hanwen/policy_optimization/exp/algorithm.py[line:509] - INFO: Iteration 169: ref_distribution = tensor([0.5032, 0.2531, 0.2437], device='cuda:0'), new_distribution = tensor([0.5034, 0.2532, 0.2435], device='cuda:0')\n",
      "2024-11-20 17:55:55,235 - /home/hanwen/policy_optimization/exp/algorithm.py[line:509] - INFO: Iteration 170: ref_distribution = tensor([0.5034, 0.2532, 0.2435], device='cuda:0'), new_distribution = tensor([0.5038, 0.2518, 0.2443], device='cuda:0')\n",
      "2024-11-20 17:55:55,239 - /home/hanwen/policy_optimization/exp/algorithm.py[line:509] - INFO: Iteration 171: ref_distribution = tensor([0.5038, 0.2518, 0.2443], device='cuda:0'), new_distribution = tensor([0.5052, 0.2504, 0.2444], device='cuda:0')\n",
      "2024-11-20 17:55:55,243 - /home/hanwen/policy_optimization/exp/algorithm.py[line:509] - INFO: Iteration 172: ref_distribution = tensor([0.5052, 0.2504, 0.2444], device='cuda:0'), new_distribution = tensor([0.5061, 0.2507, 0.2432], device='cuda:0')\n",
      "2024-11-20 17:55:55,246 - /home/hanwen/policy_optimization/exp/algorithm.py[line:509] - INFO: Iteration 173: ref_distribution = tensor([0.5061, 0.2507, 0.2432], device='cuda:0'), new_distribution = tensor([0.5065, 0.2500, 0.2435], device='cuda:0')\n",
      "2024-11-20 17:55:55,250 - /home/hanwen/policy_optimization/exp/algorithm.py[line:509] - INFO: Iteration 174: ref_distribution = tensor([0.5065, 0.2500, 0.2435], device='cuda:0'), new_distribution = tensor([0.5076, 0.2490, 0.2434], device='cuda:0')\n",
      "2024-11-20 17:55:55,254 - /home/hanwen/policy_optimization/exp/algorithm.py[line:509] - INFO: Iteration 175: ref_distribution = tensor([0.5076, 0.2490, 0.2434], device='cuda:0'), new_distribution = tensor([0.5089, 0.2482, 0.2429], device='cuda:0')\n",
      "2024-11-20 17:55:55,258 - /home/hanwen/policy_optimization/exp/algorithm.py[line:509] - INFO: Iteration 176: ref_distribution = tensor([0.5089, 0.2482, 0.2429], device='cuda:0'), new_distribution = tensor([0.5095, 0.2471, 0.2434], device='cuda:0')\n",
      "2024-11-20 17:55:55,262 - /home/hanwen/policy_optimization/exp/algorithm.py[line:509] - INFO: Iteration 177: ref_distribution = tensor([0.5095, 0.2471, 0.2434], device='cuda:0'), new_distribution = tensor([0.5102, 0.2463, 0.2435], device='cuda:0')\n",
      "2024-11-20 17:55:55,266 - /home/hanwen/policy_optimization/exp/algorithm.py[line:509] - INFO: Iteration 178: ref_distribution = tensor([0.5102, 0.2463, 0.2435], device='cuda:0'), new_distribution = tensor([0.5114, 0.2452, 0.2434], device='cuda:0')\n",
      "2024-11-20 17:55:55,270 - /home/hanwen/policy_optimization/exp/algorithm.py[line:509] - INFO: Iteration 179: ref_distribution = tensor([0.5114, 0.2452, 0.2434], device='cuda:0'), new_distribution = tensor([0.5125, 0.2433, 0.2442], device='cuda:0')\n",
      "2024-11-20 17:55:55,273 - /home/hanwen/policy_optimization/exp/algorithm.py[line:509] - INFO: Iteration 180: ref_distribution = tensor([0.5125, 0.2433, 0.2442], device='cuda:0'), new_distribution = tensor([0.5133, 0.2418, 0.2449], device='cuda:0')\n",
      "2024-11-20 17:55:55,277 - /home/hanwen/policy_optimization/exp/algorithm.py[line:509] - INFO: Iteration 181: ref_distribution = tensor([0.5133, 0.2418, 0.2449], device='cuda:0'), new_distribution = tensor([0.5138, 0.2414, 0.2448], device='cuda:0')\n",
      "2024-11-20 17:55:55,281 - /home/hanwen/policy_optimization/exp/algorithm.py[line:509] - INFO: Iteration 182: ref_distribution = tensor([0.5138, 0.2414, 0.2448], device='cuda:0'), new_distribution = tensor([0.5153, 0.2393, 0.2454], device='cuda:0')\n",
      "2024-11-20 17:55:55,285 - /home/hanwen/policy_optimization/exp/algorithm.py[line:509] - INFO: Iteration 183: ref_distribution = tensor([0.5153, 0.2393, 0.2454], device='cuda:0'), new_distribution = tensor([0.5156, 0.2386, 0.2458], device='cuda:0')\n",
      "2024-11-20 17:55:55,289 - /home/hanwen/policy_optimization/exp/algorithm.py[line:509] - INFO: Iteration 184: ref_distribution = tensor([0.5156, 0.2386, 0.2458], device='cuda:0'), new_distribution = tensor([0.5162, 0.2376, 0.2462], device='cuda:0')\n",
      "2024-11-20 17:55:55,293 - /home/hanwen/policy_optimization/exp/algorithm.py[line:509] - INFO: Iteration 185: ref_distribution = tensor([0.5162, 0.2376, 0.2462], device='cuda:0'), new_distribution = tensor([0.5161, 0.2371, 0.2467], device='cuda:0')\n",
      "2024-11-20 17:55:55,297 - /home/hanwen/policy_optimization/exp/algorithm.py[line:509] - INFO: Iteration 186: ref_distribution = tensor([0.5161, 0.2371, 0.2467], device='cuda:0'), new_distribution = tensor([0.5164, 0.2365, 0.2471], device='cuda:0')\n",
      "2024-11-20 17:55:55,301 - /home/hanwen/policy_optimization/exp/algorithm.py[line:509] - INFO: Iteration 187: ref_distribution = tensor([0.5164, 0.2365, 0.2471], device='cuda:0'), new_distribution = tensor([0.5175, 0.2346, 0.2479], device='cuda:0')\n",
      "2024-11-20 17:55:55,305 - /home/hanwen/policy_optimization/exp/algorithm.py[line:509] - INFO: Iteration 188: ref_distribution = tensor([0.5175, 0.2346, 0.2479], device='cuda:0'), new_distribution = tensor([0.5189, 0.2332, 0.2480], device='cuda:0')\n",
      "2024-11-20 17:55:55,309 - /home/hanwen/policy_optimization/exp/algorithm.py[line:509] - INFO: Iteration 189: ref_distribution = tensor([0.5189, 0.2332, 0.2480], device='cuda:0'), new_distribution = tensor([0.5201, 0.2324, 0.2476], device='cuda:0')\n",
      "2024-11-20 17:55:55,313 - /home/hanwen/policy_optimization/exp/algorithm.py[line:509] - INFO: Iteration 190: ref_distribution = tensor([0.5201, 0.2324, 0.2476], device='cuda:0'), new_distribution = tensor([0.5216, 0.2305, 0.2478], device='cuda:0')\n",
      "2024-11-20 17:55:55,317 - /home/hanwen/policy_optimization/exp/algorithm.py[line:509] - INFO: Iteration 191: ref_distribution = tensor([0.5216, 0.2305, 0.2478], device='cuda:0'), new_distribution = tensor([0.5218, 0.2297, 0.2485], device='cuda:0')\n",
      "2024-11-20 17:55:55,321 - /home/hanwen/policy_optimization/exp/algorithm.py[line:509] - INFO: Iteration 192: ref_distribution = tensor([0.5218, 0.2297, 0.2485], device='cuda:0'), new_distribution = tensor([0.5222, 0.2293, 0.2485], device='cuda:0')\n",
      "2024-11-20 17:55:55,324 - /home/hanwen/policy_optimization/exp/algorithm.py[line:509] - INFO: Iteration 193: ref_distribution = tensor([0.5222, 0.2293, 0.2485], device='cuda:0'), new_distribution = tensor([0.5234, 0.2285, 0.2481], device='cuda:0')\n",
      "2024-11-20 17:55:55,328 - /home/hanwen/policy_optimization/exp/algorithm.py[line:509] - INFO: Iteration 194: ref_distribution = tensor([0.5234, 0.2285, 0.2481], device='cuda:0'), new_distribution = tensor([0.5241, 0.2277, 0.2482], device='cuda:0')\n",
      "2024-11-20 17:55:55,332 - /home/hanwen/policy_optimization/exp/algorithm.py[line:509] - INFO: Iteration 195: ref_distribution = tensor([0.5241, 0.2277, 0.2482], device='cuda:0'), new_distribution = tensor([0.5248, 0.2269, 0.2483], device='cuda:0')\n",
      "2024-11-20 17:55:55,336 - /home/hanwen/policy_optimization/exp/algorithm.py[line:509] - INFO: Iteration 196: ref_distribution = tensor([0.5248, 0.2269, 0.2483], device='cuda:0'), new_distribution = tensor([0.5260, 0.2261, 0.2479], device='cuda:0')\n",
      "2024-11-20 17:55:55,340 - /home/hanwen/policy_optimization/exp/algorithm.py[line:509] - INFO: Iteration 197: ref_distribution = tensor([0.5260, 0.2261, 0.2479], device='cuda:0'), new_distribution = tensor([0.5273, 0.2247, 0.2481], device='cuda:0')\n",
      "2024-11-20 17:55:55,343 - /home/hanwen/policy_optimization/exp/algorithm.py[line:509] - INFO: Iteration 198: ref_distribution = tensor([0.5273, 0.2247, 0.2481], device='cuda:0'), new_distribution = tensor([0.5282, 0.2234, 0.2484], device='cuda:0')\n",
      "2024-11-20 17:55:55,347 - /home/hanwen/policy_optimization/exp/algorithm.py[line:509] - INFO: Iteration 199: ref_distribution = tensor([0.5282, 0.2234, 0.2484], device='cuda:0'), new_distribution = tensor([0.5289, 0.2226, 0.2485], device='cuda:0')\n",
      "2024-11-20 17:55:55,351 - /home/hanwen/policy_optimization/exp/algorithm.py[line:509] - INFO: Iteration 200: ref_distribution = tensor([0.5289, 0.2226, 0.2485], device='cuda:0'), new_distribution = tensor([0.5304, 0.2217, 0.2479], device='cuda:0')\n",
      "2024-11-20 17:55:55,355 - /home/hanwen/policy_optimization/exp/algorithm.py[line:509] - INFO: Iteration 201: ref_distribution = tensor([0.5304, 0.2217, 0.2479], device='cuda:0'), new_distribution = tensor([0.5314, 0.2206, 0.2479], device='cuda:0')\n",
      "2024-11-20 17:55:55,359 - /home/hanwen/policy_optimization/exp/algorithm.py[line:509] - INFO: Iteration 202: ref_distribution = tensor([0.5314, 0.2206, 0.2479], device='cuda:0'), new_distribution = tensor([0.5321, 0.2198, 0.2481], device='cuda:0')\n",
      "2024-11-20 17:55:55,362 - /home/hanwen/policy_optimization/exp/algorithm.py[line:509] - INFO: Iteration 203: ref_distribution = tensor([0.5321, 0.2198, 0.2481], device='cuda:0'), new_distribution = tensor([0.5334, 0.2193, 0.2474], device='cuda:0')\n",
      "2024-11-20 17:55:55,366 - /home/hanwen/policy_optimization/exp/algorithm.py[line:509] - INFO: Iteration 204: ref_distribution = tensor([0.5334, 0.2193, 0.2474], device='cuda:0'), new_distribution = tensor([0.5343, 0.2189, 0.2468], device='cuda:0')\n",
      "2024-11-20 17:55:55,370 - /home/hanwen/policy_optimization/exp/algorithm.py[line:509] - INFO: Iteration 205: ref_distribution = tensor([0.5343, 0.2189, 0.2468], device='cuda:0'), new_distribution = tensor([0.5350, 0.2183, 0.2466], device='cuda:0')\n",
      "2024-11-20 17:55:55,374 - /home/hanwen/policy_optimization/exp/algorithm.py[line:509] - INFO: Iteration 206: ref_distribution = tensor([0.5350, 0.2183, 0.2466], device='cuda:0'), new_distribution = tensor([0.5362, 0.2167, 0.2471], device='cuda:0')\n",
      "2024-11-20 17:55:55,378 - /home/hanwen/policy_optimization/exp/algorithm.py[line:509] - INFO: Iteration 207: ref_distribution = tensor([0.5362, 0.2167, 0.2471], device='cuda:0'), new_distribution = tensor([0.5369, 0.2159, 0.2473], device='cuda:0')\n",
      "2024-11-20 17:55:55,381 - /home/hanwen/policy_optimization/exp/algorithm.py[line:509] - INFO: Iteration 208: ref_distribution = tensor([0.5369, 0.2159, 0.2473], device='cuda:0'), new_distribution = tensor([0.5379, 0.2149, 0.2473], device='cuda:0')\n",
      "2024-11-20 17:55:55,385 - /home/hanwen/policy_optimization/exp/algorithm.py[line:509] - INFO: Iteration 209: ref_distribution = tensor([0.5379, 0.2149, 0.2473], device='cuda:0'), new_distribution = tensor([0.5387, 0.2134, 0.2479], device='cuda:0')\n",
      "2024-11-20 17:55:55,389 - /home/hanwen/policy_optimization/exp/algorithm.py[line:509] - INFO: Iteration 210: ref_distribution = tensor([0.5387, 0.2134, 0.2479], device='cuda:0'), new_distribution = tensor([0.5387, 0.2132, 0.2481], device='cuda:0')\n",
      "2024-11-20 17:55:55,393 - /home/hanwen/policy_optimization/exp/algorithm.py[line:509] - INFO: Iteration 211: ref_distribution = tensor([0.5387, 0.2132, 0.2481], device='cuda:0'), new_distribution = tensor([0.5399, 0.2126, 0.2474], device='cuda:0')\n",
      "2024-11-20 17:55:55,397 - /home/hanwen/policy_optimization/exp/algorithm.py[line:509] - INFO: Iteration 212: ref_distribution = tensor([0.5399, 0.2126, 0.2474], device='cuda:0'), new_distribution = tensor([0.5409, 0.2125, 0.2466], device='cuda:0')\n",
      "2024-11-20 17:55:55,400 - /home/hanwen/policy_optimization/exp/algorithm.py[line:509] - INFO: Iteration 213: ref_distribution = tensor([0.5409, 0.2125, 0.2466], device='cuda:0'), new_distribution = tensor([0.5416, 0.2108, 0.2476], device='cuda:0')\n",
      "2024-11-20 17:55:55,404 - /home/hanwen/policy_optimization/exp/algorithm.py[line:509] - INFO: Iteration 214: ref_distribution = tensor([0.5416, 0.2108, 0.2476], device='cuda:0'), new_distribution = tensor([0.5417, 0.2100, 0.2483], device='cuda:0')\n",
      "2024-11-20 17:55:55,408 - /home/hanwen/policy_optimization/exp/algorithm.py[line:509] - INFO: Iteration 215: ref_distribution = tensor([0.5417, 0.2100, 0.2483], device='cuda:0'), new_distribution = tensor([0.5425, 0.2094, 0.2481], device='cuda:0')\n",
      "2024-11-20 17:55:55,412 - /home/hanwen/policy_optimization/exp/algorithm.py[line:509] - INFO: Iteration 216: ref_distribution = tensor([0.5425, 0.2094, 0.2481], device='cuda:0'), new_distribution = tensor([0.5434, 0.2082, 0.2485], device='cuda:0')\n",
      "2024-11-20 17:55:55,416 - /home/hanwen/policy_optimization/exp/algorithm.py[line:509] - INFO: Iteration 217: ref_distribution = tensor([0.5434, 0.2082, 0.2485], device='cuda:0'), new_distribution = tensor([0.5449, 0.2066, 0.2484], device='cuda:0')\n",
      "2024-11-20 17:55:55,420 - /home/hanwen/policy_optimization/exp/algorithm.py[line:509] - INFO: Iteration 218: ref_distribution = tensor([0.5449, 0.2066, 0.2484], device='cuda:0'), new_distribution = tensor([0.5460, 0.2050, 0.2489], device='cuda:0')\n",
      "2024-11-20 17:55:55,424 - /home/hanwen/policy_optimization/exp/algorithm.py[line:509] - INFO: Iteration 219: ref_distribution = tensor([0.5460, 0.2050, 0.2489], device='cuda:0'), new_distribution = tensor([0.5470, 0.2041, 0.2489], device='cuda:0')\n",
      "2024-11-20 17:55:55,428 - /home/hanwen/policy_optimization/exp/algorithm.py[line:509] - INFO: Iteration 220: ref_distribution = tensor([0.5470, 0.2041, 0.2489], device='cuda:0'), new_distribution = tensor([0.5475, 0.2030, 0.2494], device='cuda:0')\n",
      "2024-11-20 17:55:55,432 - /home/hanwen/policy_optimization/exp/algorithm.py[line:509] - INFO: Iteration 221: ref_distribution = tensor([0.5475, 0.2030, 0.2494], device='cuda:0'), new_distribution = tensor([0.5488, 0.2019, 0.2493], device='cuda:0')\n",
      "2024-11-20 17:55:55,435 - /home/hanwen/policy_optimization/exp/algorithm.py[line:509] - INFO: Iteration 222: ref_distribution = tensor([0.5488, 0.2019, 0.2493], device='cuda:0'), new_distribution = tensor([0.5497, 0.2007, 0.2496], device='cuda:0')\n",
      "2024-11-20 17:55:55,439 - /home/hanwen/policy_optimization/exp/algorithm.py[line:509] - INFO: Iteration 223: ref_distribution = tensor([0.5497, 0.2007, 0.2496], device='cuda:0'), new_distribution = tensor([0.5502, 0.1997, 0.2501], device='cuda:0')\n",
      "2024-11-20 17:55:55,443 - /home/hanwen/policy_optimization/exp/algorithm.py[line:509] - INFO: Iteration 224: ref_distribution = tensor([0.5502, 0.1997, 0.2501], device='cuda:0'), new_distribution = tensor([0.5509, 0.1991, 0.2500], device='cuda:0')\n",
      "2024-11-20 17:55:55,447 - /home/hanwen/policy_optimization/exp/algorithm.py[line:509] - INFO: Iteration 225: ref_distribution = tensor([0.5509, 0.1991, 0.2500], device='cuda:0'), new_distribution = tensor([0.5519, 0.1984, 0.2497], device='cuda:0')\n",
      "2024-11-20 17:55:55,451 - /home/hanwen/policy_optimization/exp/algorithm.py[line:509] - INFO: Iteration 226: ref_distribution = tensor([0.5519, 0.1984, 0.2497], device='cuda:0'), new_distribution = tensor([0.5524, 0.1982, 0.2494], device='cuda:0')\n",
      "2024-11-20 17:55:55,455 - /home/hanwen/policy_optimization/exp/algorithm.py[line:509] - INFO: Iteration 227: ref_distribution = tensor([0.5524, 0.1982, 0.2494], device='cuda:0'), new_distribution = tensor([0.5526, 0.1976, 0.2498], device='cuda:0')\n",
      "2024-11-20 17:55:55,459 - /home/hanwen/policy_optimization/exp/algorithm.py[line:509] - INFO: Iteration 228: ref_distribution = tensor([0.5526, 0.1976, 0.2498], device='cuda:0'), new_distribution = tensor([0.5529, 0.1969, 0.2502], device='cuda:0')\n",
      "2024-11-20 17:55:55,463 - /home/hanwen/policy_optimization/exp/algorithm.py[line:509] - INFO: Iteration 229: ref_distribution = tensor([0.5529, 0.1969, 0.2502], device='cuda:0'), new_distribution = tensor([0.5537, 0.1950, 0.2513], device='cuda:0')\n",
      "2024-11-20 17:55:55,467 - /home/hanwen/policy_optimization/exp/algorithm.py[line:509] - INFO: Iteration 230: ref_distribution = tensor([0.5537, 0.1950, 0.2513], device='cuda:0'), new_distribution = tensor([0.5545, 0.1938, 0.2517], device='cuda:0')\n",
      "2024-11-20 17:55:55,471 - /home/hanwen/policy_optimization/exp/algorithm.py[line:509] - INFO: Iteration 231: ref_distribution = tensor([0.5545, 0.1938, 0.2517], device='cuda:0'), new_distribution = tensor([0.5554, 0.1926, 0.2520], device='cuda:0')\n",
      "2024-11-20 17:55:55,474 - /home/hanwen/policy_optimization/exp/algorithm.py[line:509] - INFO: Iteration 232: ref_distribution = tensor([0.5554, 0.1926, 0.2520], device='cuda:0'), new_distribution = tensor([0.5568, 0.1911, 0.2520], device='cuda:0')\n",
      "2024-11-20 17:55:55,478 - /home/hanwen/policy_optimization/exp/algorithm.py[line:509] - INFO: Iteration 233: ref_distribution = tensor([0.5568, 0.1911, 0.2520], device='cuda:0'), new_distribution = tensor([0.5573, 0.1910, 0.2518], device='cuda:0')\n",
      "2024-11-20 17:55:55,482 - /home/hanwen/policy_optimization/exp/algorithm.py[line:509] - INFO: Iteration 234: ref_distribution = tensor([0.5573, 0.1910, 0.2518], device='cuda:0'), new_distribution = tensor([0.5575, 0.1903, 0.2522], device='cuda:0')\n",
      "2024-11-20 17:55:55,486 - /home/hanwen/policy_optimization/exp/algorithm.py[line:509] - INFO: Iteration 235: ref_distribution = tensor([0.5575, 0.1903, 0.2522], device='cuda:0'), new_distribution = tensor([0.5585, 0.1888, 0.2527], device='cuda:0')\n",
      "2024-11-20 17:55:55,490 - /home/hanwen/policy_optimization/exp/algorithm.py[line:509] - INFO: Iteration 236: ref_distribution = tensor([0.5585, 0.1888, 0.2527], device='cuda:0'), new_distribution = tensor([0.5586, 0.1880, 0.2534], device='cuda:0')\n",
      "2024-11-20 17:55:55,494 - /home/hanwen/policy_optimization/exp/algorithm.py[line:509] - INFO: Iteration 237: ref_distribution = tensor([0.5586, 0.1880, 0.2534], device='cuda:0'), new_distribution = tensor([0.5592, 0.1880, 0.2528], device='cuda:0')\n",
      "2024-11-20 17:55:55,498 - /home/hanwen/policy_optimization/exp/algorithm.py[line:509] - INFO: Iteration 238: ref_distribution = tensor([0.5592, 0.1880, 0.2528], device='cuda:0'), new_distribution = tensor([0.5604, 0.1869, 0.2527], device='cuda:0')\n",
      "2024-11-20 17:55:55,502 - /home/hanwen/policy_optimization/exp/algorithm.py[line:509] - INFO: Iteration 239: ref_distribution = tensor([0.5604, 0.1869, 0.2527], device='cuda:0'), new_distribution = tensor([0.5615, 0.1848, 0.2537], device='cuda:0')\n",
      "2024-11-20 17:55:55,506 - /home/hanwen/policy_optimization/exp/algorithm.py[line:509] - INFO: Iteration 240: ref_distribution = tensor([0.5615, 0.1848, 0.2537], device='cuda:0'), new_distribution = tensor([0.5624, 0.1831, 0.2545], device='cuda:0')\n",
      "2024-11-20 17:55:55,510 - /home/hanwen/policy_optimization/exp/algorithm.py[line:509] - INFO: Iteration 241: ref_distribution = tensor([0.5624, 0.1831, 0.2545], device='cuda:0'), new_distribution = tensor([0.5631, 0.1818, 0.2552], device='cuda:0')\n",
      "2024-11-20 17:55:55,513 - /home/hanwen/policy_optimization/exp/algorithm.py[line:509] - INFO: Iteration 242: ref_distribution = tensor([0.5631, 0.1818, 0.2552], device='cuda:0'), new_distribution = tensor([0.5635, 0.1816, 0.2549], device='cuda:0')\n",
      "2024-11-20 17:55:55,517 - /home/hanwen/policy_optimization/exp/algorithm.py[line:509] - INFO: Iteration 243: ref_distribution = tensor([0.5635, 0.1816, 0.2549], device='cuda:0'), new_distribution = tensor([0.5639, 0.1806, 0.2555], device='cuda:0')\n",
      "2024-11-20 17:55:55,521 - /home/hanwen/policy_optimization/exp/algorithm.py[line:509] - INFO: Iteration 244: ref_distribution = tensor([0.5639, 0.1806, 0.2555], device='cuda:0'), new_distribution = tensor([0.5640, 0.1799, 0.2562], device='cuda:0')\n",
      "2024-11-20 17:55:55,525 - /home/hanwen/policy_optimization/exp/algorithm.py[line:509] - INFO: Iteration 245: ref_distribution = tensor([0.5640, 0.1799, 0.2562], device='cuda:0'), new_distribution = tensor([0.5651, 0.1788, 0.2561], device='cuda:0')\n",
      "2024-11-20 17:55:55,529 - /home/hanwen/policy_optimization/exp/algorithm.py[line:509] - INFO: Iteration 246: ref_distribution = tensor([0.5651, 0.1788, 0.2561], device='cuda:0'), new_distribution = tensor([0.5655, 0.1786, 0.2559], device='cuda:0')\n",
      "2024-11-20 17:55:55,533 - /home/hanwen/policy_optimization/exp/algorithm.py[line:509] - INFO: Iteration 247: ref_distribution = tensor([0.5655, 0.1786, 0.2559], device='cuda:0'), new_distribution = tensor([0.5665, 0.1771, 0.2564], device='cuda:0')\n",
      "2024-11-20 17:55:55,537 - /home/hanwen/policy_optimization/exp/algorithm.py[line:509] - INFO: Iteration 248: ref_distribution = tensor([0.5665, 0.1771, 0.2564], device='cuda:0'), new_distribution = tensor([0.5668, 0.1768, 0.2565], device='cuda:0')\n",
      "2024-11-20 17:55:55,541 - /home/hanwen/policy_optimization/exp/algorithm.py[line:509] - INFO: Iteration 249: ref_distribution = tensor([0.5668, 0.1768, 0.2565], device='cuda:0'), new_distribution = tensor([0.5677, 0.1761, 0.2562], device='cuda:0')\n",
      "2024-11-20 17:55:55,545 - /home/hanwen/policy_optimization/exp/algorithm.py[line:509] - INFO: Iteration 250: ref_distribution = tensor([0.5677, 0.1761, 0.2562], device='cuda:0'), new_distribution = tensor([0.5680, 0.1749, 0.2571], device='cuda:0')\n",
      "2024-11-20 17:55:55,549 - /home/hanwen/policy_optimization/exp/algorithm.py[line:509] - INFO: Iteration 251: ref_distribution = tensor([0.5680, 0.1749, 0.2571], device='cuda:0'), new_distribution = tensor([0.5687, 0.1738, 0.2575], device='cuda:0')\n",
      "2024-11-20 17:55:55,552 - /home/hanwen/policy_optimization/exp/algorithm.py[line:509] - INFO: Iteration 252: ref_distribution = tensor([0.5687, 0.1738, 0.2575], device='cuda:0'), new_distribution = tensor([0.5692, 0.1731, 0.2577], device='cuda:0')\n",
      "2024-11-20 17:55:55,556 - /home/hanwen/policy_optimization/exp/algorithm.py[line:509] - INFO: Iteration 253: ref_distribution = tensor([0.5692, 0.1731, 0.2577], device='cuda:0'), new_distribution = tensor([0.5698, 0.1718, 0.2584], device='cuda:0')\n",
      "2024-11-20 17:55:55,560 - /home/hanwen/policy_optimization/exp/algorithm.py[line:509] - INFO: Iteration 254: ref_distribution = tensor([0.5698, 0.1718, 0.2584], device='cuda:0'), new_distribution = tensor([0.5707, 0.1711, 0.2582], device='cuda:0')\n",
      "2024-11-20 17:55:55,564 - /home/hanwen/policy_optimization/exp/algorithm.py[line:509] - INFO: Iteration 255: ref_distribution = tensor([0.5707, 0.1711, 0.2582], device='cuda:0'), new_distribution = tensor([0.5709, 0.1706, 0.2586], device='cuda:0')\n",
      "2024-11-20 17:55:55,568 - /home/hanwen/policy_optimization/exp/algorithm.py[line:509] - INFO: Iteration 256: ref_distribution = tensor([0.5709, 0.1706, 0.2586], device='cuda:0'), new_distribution = tensor([0.5715, 0.1703, 0.2582], device='cuda:0')\n",
      "2024-11-20 17:55:55,572 - /home/hanwen/policy_optimization/exp/algorithm.py[line:509] - INFO: Iteration 257: ref_distribution = tensor([0.5715, 0.1703, 0.2582], device='cuda:0'), new_distribution = tensor([0.5722, 0.1692, 0.2586], device='cuda:0')\n",
      "2024-11-20 17:55:55,576 - /home/hanwen/policy_optimization/exp/algorithm.py[line:509] - INFO: Iteration 258: ref_distribution = tensor([0.5722, 0.1692, 0.2586], device='cuda:0'), new_distribution = tensor([0.5733, 0.1682, 0.2585], device='cuda:0')\n",
      "2024-11-20 17:55:55,580 - /home/hanwen/policy_optimization/exp/algorithm.py[line:509] - INFO: Iteration 259: ref_distribution = tensor([0.5733, 0.1682, 0.2585], device='cuda:0'), new_distribution = tensor([0.5736, 0.1670, 0.2594], device='cuda:0')\n",
      "2024-11-20 17:55:55,584 - /home/hanwen/policy_optimization/exp/algorithm.py[line:509] - INFO: Iteration 260: ref_distribution = tensor([0.5736, 0.1670, 0.2594], device='cuda:0'), new_distribution = tensor([0.5743, 0.1660, 0.2598], device='cuda:0')\n",
      "2024-11-20 17:55:55,587 - /home/hanwen/policy_optimization/exp/algorithm.py[line:509] - INFO: Iteration 261: ref_distribution = tensor([0.5743, 0.1660, 0.2598], device='cuda:0'), new_distribution = tensor([0.5744, 0.1654, 0.2602], device='cuda:0')\n",
      "2024-11-20 17:55:55,591 - /home/hanwen/policy_optimization/exp/algorithm.py[line:509] - INFO: Iteration 262: ref_distribution = tensor([0.5744, 0.1654, 0.2602], device='cuda:0'), new_distribution = tensor([0.5746, 0.1649, 0.2606], device='cuda:0')\n",
      "2024-11-20 17:55:55,595 - /home/hanwen/policy_optimization/exp/algorithm.py[line:509] - INFO: Iteration 263: ref_distribution = tensor([0.5746, 0.1649, 0.2606], device='cuda:0'), new_distribution = tensor([0.5751, 0.1636, 0.2613], device='cuda:0')\n",
      "2024-11-20 17:55:55,599 - /home/hanwen/policy_optimization/exp/algorithm.py[line:509] - INFO: Iteration 264: ref_distribution = tensor([0.5751, 0.1636, 0.2613], device='cuda:0'), new_distribution = tensor([0.5758, 0.1626, 0.2617], device='cuda:0')\n",
      "2024-11-20 17:55:55,603 - /home/hanwen/policy_optimization/exp/algorithm.py[line:509] - INFO: Iteration 265: ref_distribution = tensor([0.5758, 0.1626, 0.2617], device='cuda:0'), new_distribution = tensor([0.5758, 0.1618, 0.2624], device='cuda:0')\n",
      "2024-11-20 17:55:55,607 - /home/hanwen/policy_optimization/exp/algorithm.py[line:509] - INFO: Iteration 266: ref_distribution = tensor([0.5758, 0.1618, 0.2624], device='cuda:0'), new_distribution = tensor([0.5768, 0.1601, 0.2631], device='cuda:0')\n",
      "2024-11-20 17:55:55,611 - /home/hanwen/policy_optimization/exp/algorithm.py[line:509] - INFO: Iteration 267: ref_distribution = tensor([0.5768, 0.1601, 0.2631], device='cuda:0'), new_distribution = tensor([0.5770, 0.1595, 0.2635], device='cuda:0')\n",
      "2024-11-20 17:55:55,615 - /home/hanwen/policy_optimization/exp/algorithm.py[line:509] - INFO: Iteration 268: ref_distribution = tensor([0.5770, 0.1595, 0.2635], device='cuda:0'), new_distribution = tensor([0.5773, 0.1587, 0.2641], device='cuda:0')\n",
      "2024-11-20 17:55:55,618 - /home/hanwen/policy_optimization/exp/algorithm.py[line:509] - INFO: Iteration 269: ref_distribution = tensor([0.5773, 0.1587, 0.2641], device='cuda:0'), new_distribution = tensor([0.5779, 0.1576, 0.2645], device='cuda:0')\n",
      "2024-11-20 17:55:55,622 - /home/hanwen/policy_optimization/exp/algorithm.py[line:509] - INFO: Iteration 270: ref_distribution = tensor([0.5779, 0.1576, 0.2645], device='cuda:0'), new_distribution = tensor([0.5780, 0.1578, 0.2642], device='cuda:0')\n",
      "2024-11-20 17:55:55,626 - /home/hanwen/policy_optimization/exp/algorithm.py[line:509] - INFO: Iteration 271: ref_distribution = tensor([0.5780, 0.1578, 0.2642], device='cuda:0'), new_distribution = tensor([0.5784, 0.1572, 0.2644], device='cuda:0')\n",
      "2024-11-20 17:55:55,630 - /home/hanwen/policy_optimization/exp/algorithm.py[line:509] - INFO: Iteration 272: ref_distribution = tensor([0.5784, 0.1572, 0.2644], device='cuda:0'), new_distribution = tensor([0.5790, 0.1561, 0.2648], device='cuda:0')\n",
      "2024-11-20 17:55:55,634 - /home/hanwen/policy_optimization/exp/algorithm.py[line:509] - INFO: Iteration 273: ref_distribution = tensor([0.5790, 0.1561, 0.2648], device='cuda:0'), new_distribution = tensor([0.5798, 0.1548, 0.2654], device='cuda:0')\n",
      "2024-11-20 17:55:55,638 - /home/hanwen/policy_optimization/exp/algorithm.py[line:509] - INFO: Iteration 274: ref_distribution = tensor([0.5798, 0.1548, 0.2654], device='cuda:0'), new_distribution = tensor([0.5799, 0.1543, 0.2658], device='cuda:0')\n",
      "2024-11-20 17:55:55,642 - /home/hanwen/policy_optimization/exp/algorithm.py[line:509] - INFO: Iteration 275: ref_distribution = tensor([0.5799, 0.1543, 0.2658], device='cuda:0'), new_distribution = tensor([0.5800, 0.1537, 0.2662], device='cuda:0')\n",
      "2024-11-20 17:55:55,646 - /home/hanwen/policy_optimization/exp/algorithm.py[line:509] - INFO: Iteration 276: ref_distribution = tensor([0.5800, 0.1537, 0.2662], device='cuda:0'), new_distribution = tensor([0.5802, 0.1527, 0.2671], device='cuda:0')\n",
      "2024-11-20 17:55:55,649 - /home/hanwen/policy_optimization/exp/algorithm.py[line:509] - INFO: Iteration 277: ref_distribution = tensor([0.5802, 0.1527, 0.2671], device='cuda:0'), new_distribution = tensor([0.5805, 0.1518, 0.2676], device='cuda:0')\n",
      "2024-11-20 17:55:55,653 - /home/hanwen/policy_optimization/exp/algorithm.py[line:509] - INFO: Iteration 278: ref_distribution = tensor([0.5805, 0.1518, 0.2676], device='cuda:0'), new_distribution = tensor([0.5811, 0.1509, 0.2681], device='cuda:0')\n",
      "2024-11-20 17:55:55,657 - /home/hanwen/policy_optimization/exp/algorithm.py[line:509] - INFO: Iteration 279: ref_distribution = tensor([0.5811, 0.1509, 0.2681], device='cuda:0'), new_distribution = tensor([0.5816, 0.1497, 0.2688], device='cuda:0')\n",
      "2024-11-20 17:55:55,661 - /home/hanwen/policy_optimization/exp/algorithm.py[line:509] - INFO: Iteration 280: ref_distribution = tensor([0.5816, 0.1497, 0.2688], device='cuda:0'), new_distribution = tensor([0.5821, 0.1480, 0.2699], device='cuda:0')\n",
      "2024-11-20 17:55:55,665 - /home/hanwen/policy_optimization/exp/algorithm.py[line:509] - INFO: Iteration 281: ref_distribution = tensor([0.5821, 0.1480, 0.2699], device='cuda:0'), new_distribution = tensor([0.5817, 0.1480, 0.2703], device='cuda:0')\n",
      "2024-11-20 17:55:55,669 - /home/hanwen/policy_optimization/exp/algorithm.py[line:509] - INFO: Iteration 282: ref_distribution = tensor([0.5817, 0.1480, 0.2703], device='cuda:0'), new_distribution = tensor([0.5815, 0.1476, 0.2709], device='cuda:0')\n",
      "2024-11-20 17:55:55,673 - /home/hanwen/policy_optimization/exp/algorithm.py[line:509] - INFO: Iteration 283: ref_distribution = tensor([0.5815, 0.1476, 0.2709], device='cuda:0'), new_distribution = tensor([0.5820, 0.1466, 0.2713], device='cuda:0')\n",
      "2024-11-20 17:55:55,677 - /home/hanwen/policy_optimization/exp/algorithm.py[line:509] - INFO: Iteration 284: ref_distribution = tensor([0.5820, 0.1466, 0.2713], device='cuda:0'), new_distribution = tensor([0.5820, 0.1460, 0.2720], device='cuda:0')\n",
      "2024-11-20 17:55:55,681 - /home/hanwen/policy_optimization/exp/algorithm.py[line:509] - INFO: Iteration 285: ref_distribution = tensor([0.5820, 0.1460, 0.2720], device='cuda:0'), new_distribution = tensor([0.5827, 0.1447, 0.2726], device='cuda:0')\n",
      "2024-11-20 17:55:55,684 - /home/hanwen/policy_optimization/exp/algorithm.py[line:509] - INFO: Iteration 286: ref_distribution = tensor([0.5827, 0.1447, 0.2726], device='cuda:0'), new_distribution = tensor([0.5828, 0.1442, 0.2730], device='cuda:0')\n",
      "2024-11-20 17:55:55,688 - /home/hanwen/policy_optimization/exp/algorithm.py[line:509] - INFO: Iteration 287: ref_distribution = tensor([0.5828, 0.1442, 0.2730], device='cuda:0'), new_distribution = tensor([0.5826, 0.1440, 0.2733], device='cuda:0')\n",
      "2024-11-20 17:55:55,692 - /home/hanwen/policy_optimization/exp/algorithm.py[line:509] - INFO: Iteration 288: ref_distribution = tensor([0.5826, 0.1440, 0.2733], device='cuda:0'), new_distribution = tensor([0.5829, 0.1432, 0.2739], device='cuda:0')\n",
      "2024-11-20 17:55:55,696 - /home/hanwen/policy_optimization/exp/algorithm.py[line:509] - INFO: Iteration 289: ref_distribution = tensor([0.5829, 0.1432, 0.2739], device='cuda:0'), new_distribution = tensor([0.5836, 0.1420, 0.2745], device='cuda:0')\n",
      "2024-11-20 17:55:55,700 - /home/hanwen/policy_optimization/exp/algorithm.py[line:509] - INFO: Iteration 290: ref_distribution = tensor([0.5836, 0.1420, 0.2745], device='cuda:0'), new_distribution = tensor([0.5833, 0.1416, 0.2750], device='cuda:0')\n",
      "2024-11-20 17:55:55,704 - /home/hanwen/policy_optimization/exp/algorithm.py[line:509] - INFO: Iteration 291: ref_distribution = tensor([0.5833, 0.1416, 0.2750], device='cuda:0'), new_distribution = tensor([0.5833, 0.1416, 0.2751], device='cuda:0')\n",
      "2024-11-20 17:55:55,708 - /home/hanwen/policy_optimization/exp/algorithm.py[line:509] - INFO: Iteration 292: ref_distribution = tensor([0.5833, 0.1416, 0.2751], device='cuda:0'), new_distribution = tensor([0.5839, 0.1402, 0.2759], device='cuda:0')\n",
      "2024-11-20 17:55:55,712 - /home/hanwen/policy_optimization/exp/algorithm.py[line:509] - INFO: Iteration 293: ref_distribution = tensor([0.5839, 0.1402, 0.2759], device='cuda:0'), new_distribution = tensor([0.5844, 0.1386, 0.2770], device='cuda:0')\n",
      "2024-11-20 17:55:55,715 - /home/hanwen/policy_optimization/exp/algorithm.py[line:509] - INFO: Iteration 294: ref_distribution = tensor([0.5844, 0.1386, 0.2770], device='cuda:0'), new_distribution = tensor([0.5845, 0.1377, 0.2779], device='cuda:0')\n",
      "2024-11-20 17:55:55,719 - /home/hanwen/policy_optimization/exp/algorithm.py[line:509] - INFO: Iteration 295: ref_distribution = tensor([0.5845, 0.1377, 0.2779], device='cuda:0'), new_distribution = tensor([0.5849, 0.1367, 0.2783], device='cuda:0')\n",
      "2024-11-20 17:55:55,723 - /home/hanwen/policy_optimization/exp/algorithm.py[line:509] - INFO: Iteration 296: ref_distribution = tensor([0.5849, 0.1367, 0.2783], device='cuda:0'), new_distribution = tensor([0.5853, 0.1357, 0.2790], device='cuda:0')\n",
      "2024-11-20 17:55:55,727 - /home/hanwen/policy_optimization/exp/algorithm.py[line:509] - INFO: Iteration 297: ref_distribution = tensor([0.5853, 0.1357, 0.2790], device='cuda:0'), new_distribution = tensor([0.5857, 0.1346, 0.2798], device='cuda:0')\n",
      "2024-11-20 17:55:55,731 - /home/hanwen/policy_optimization/exp/algorithm.py[line:509] - INFO: Iteration 298: ref_distribution = tensor([0.5857, 0.1346, 0.2798], device='cuda:0'), new_distribution = tensor([0.5860, 0.1342, 0.2798], device='cuda:0')\n",
      "2024-11-20 17:55:55,735 - /home/hanwen/policy_optimization/exp/algorithm.py[line:509] - INFO: Iteration 299: ref_distribution = tensor([0.5860, 0.1342, 0.2798], device='cuda:0'), new_distribution = tensor([0.5861, 0.1344, 0.2796], device='cuda:0')\n"
     ]
    },
    {
     "data": {
      "image/png": "[encoded data removed]",
      "text/plain": [
       "<Figure size 600x600 with 1 Axes>"
      ]
     },
     "metadata": {},
     "output_type": "display_data"
    }
   ],
   "source": [
    "sppo_distribution = sppo_closed_form.optimize(\n",
    "    p_list=p_list,\n",
    "    num_iters=300\n",
    ")   "
   ]
  },
  {
   "cell_type": "code",
   "execution_count": 62,
   "metadata": {},
   "outputs": [
    {
     "name": "stdout",
     "output_type": "stream",
     "text": [
      "\n",
      "Learned policy probabilities(RLHF):\n",
      "P(action=-10) = 0.991\n",
      "P(action=0) = 0.003\n",
      "P(action=10) = 0.005\n",
      "\n",
      "Learned policy probabilities(DPO):\n",
      "P(action=-10) = 0.475\n",
      "P(action=0) = 0.215\n",
      "P(action=10) = 0.310\n",
      "\n",
      "Learned policy probabilities(SPPO):\n",
      "P(action=-10) = 0.445\n",
      "P(action=0) = 0.288\n",
      "P(action=10) = 0.267\n",
      "\n",
      "Learned policy probabilities(SPPO-ClosedForm):\n",
      "P(action=-10) = 0.586\n",
      "P(action=0) = 0.134\n",
      "P(action=10) = 0.280\n"
     ]
    }
   ],
   "source": [
    "test_state = torch.zeros(1, 1, dtype=torch.float32).to(device)\n",
    "with torch.no_grad():\n",
    "    action_probs = policy(test_state)\n",
    "    print(\"\\nLearned policy probabilities(RLHF):\")\n",
    "    for action, prob in zip(actions, action_probs[0].cpu().numpy()):\n",
    "        print(f\"P(action={action}) = {prob:.3f}\")\n",
    "\n",
    "    action_probs2 = policy2(test_state)\n",
    "    print(\"\\nLearned policy probabilities(DPO):\")\n",
    "    for action, prob in zip(actions, action_probs2[0].cpu().numpy()):\n",
    "        print(f\"P(action={action}) = {prob:.3f}\")\n",
    "        \n",
    "    action_probs3 = policy3(test_state)\n",
    "    print(\"\\nLearned policy probabilities(SPPO):\")\n",
    "    for action, prob in zip(actions, action_probs3[0].cpu().numpy()):\n",
    "        print(f\"P(action={action}) = {prob:.3f}\")\n",
    "    \n",
    "    action_probs4 = sppo_distribution\n",
    "    print(\"\\nLearned policy probabilities(SPPO-ClosedForm):\")\n",
    "    for action, prob in zip(actions, action_probs4.cpu().numpy()):\n",
    "        print(f\"P(action={action}) = {prob:.3f}\")\n",
    "        "
   ]
  }
 ],
 "metadata": {
  "kernelspec": {
   "display_name": "bandit",
   "language": "python",
   "name": "python3"
  },
  "language_info": {
   "codemirror_mode": {
    "name": "ipython",
    "version": 3
   },
   "file_extension": ".py",
   "mimetype": "text/x-python",
   "name": "python",
   "nbconvert_exporter": "python",
   "pygments_lexer": "ipython3",
   "version": "3.8.19"
  }
 },
 "nbformat": 4,
 "nbformat_minor": 2
}

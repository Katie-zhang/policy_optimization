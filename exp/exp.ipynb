{
 "cells": [
  {
   "cell_type": "code",
   "execution_count": 370,
   "metadata": {},
   "outputs": [],
   "source": [
    "from typing import List\n",
    "import numpy as np\n",
    "import torch.cuda\n",
    "import torch\n",
    "import torch.nn as nn\n",
    "from torch.utils.tensorboard import SummaryWriter\n",
    "import copy\n",
    "\n",
    "from utils.logger import Logger\n",
    "from utils.io_utils import save_code\n",
    "from utils.utils import model_comparison\n",
    "from utils.plot import two_action_prob_plot\n",
    "\n",
    "from algorithm import RewardModel, MaximumLikelihoodEstimator,PolicyGradientOptimizer,DirectPreferenceOptimizer, SelfPlayPreferenceOptimizer\n",
    "from policy import UniformPolicyModel,PolicyModel\n",
    "from utils.collect_data import collect_preference_data, NonMonotonicScalarToVectorNN, check_data_consistency, check_cyclic_order"
   ]
  },
  {
   "cell_type": "code",
   "execution_count": 371,
   "metadata": {},
   "outputs": [],
   "source": [
    "from datetime import datetime\n",
    "\n",
    "np.random.seed(5)\n",
    "\n",
    "current_time = datetime.now().strftime('%Y%m%d_%H%M%S')\n",
    "log_dir = f\"./logs/test_{current_time}\"\n",
    "save_code(log_dir)\n",
    "\n",
    "logger = Logger(log_dir)\n",
    "writer = SummaryWriter(log_dir)\n",
    "\n",
    "device = \"cpu\"\n",
    "if torch.cuda.is_available():\n",
    "    device = \"cuda\""
   ]
  },
  {
   "cell_type": "code",
   "execution_count": 372,
   "metadata": {},
   "outputs": [],
   "source": [
    "state_dim = 1\n",
    "actions = [-10,0,10]"
   ]
  },
  {
   "cell_type": "markdown",
   "metadata": {},
   "source": [
    "### Collect data"
   ]
  },
  {
   "cell_type": "code",
   "execution_count": 373,
   "metadata": {},
   "outputs": [],
   "source": [
    "torch.manual_seed(5)\n",
    "feature_func = NonMonotonicScalarToVectorNN()\n",
    "pref_dataset, p_list = collect_preference_data(actions,60,feature_func)"
   ]
  },
  {
   "cell_type": "code",
   "execution_count": 374,
   "metadata": {},
   "outputs": [
    {
     "data": {
      "text/plain": [
       "array([[0.5       , 0.75489888, 0.44118223],\n",
       "       [0.24510112, 0.5       , 0.83795365],\n",
       "       [0.55881777, 0.16204635, 0.5       ]])"
      ]
     },
     "execution_count": 374,
     "metadata": {},
     "output_type": "execute_result"
    }
   ],
   "source": [
    "p_list"
   ]
  },
  {
   "cell_type": "code",
   "execution_count": 375,
   "metadata": {},
   "outputs": [
    {
     "data": {
      "text/plain": [
       "[Transition(state=array([0]), action_0=0, action_1=-10, pref=1, chosen_probs=0.24510111981513732),\n",
       " Transition(state=array([0]), action_0=-10, action_1=0, pref=1, chosen_probs=0.7548988801848626),\n",
       " Transition(state=array([0]), action_0=0, action_1=10, pref=1, chosen_probs=0.8379536540835533),\n",
       " Transition(state=array([0]), action_0=0, action_1=10, pref=0, chosen_probs=0.8379536540835533),\n",
       " Transition(state=array([0]), action_0=0, action_1=10, pref=1, chosen_probs=0.8379536540835533),\n",
       " Transition(state=array([0]), action_0=0, action_1=10, pref=1, chosen_probs=0.8379536540835533),\n",
       " Transition(state=array([0]), action_0=-10, action_1=10, pref=0, chosen_probs=0.44118222864585355),\n",
       " Transition(state=array([0]), action_0=-10, action_1=0, pref=0, chosen_probs=0.7548988801848626),\n",
       " Transition(state=array([0]), action_0=10, action_1=-10, pref=1, chosen_probs=0.5588177713541465),\n",
       " Transition(state=array([0]), action_0=-10, action_1=10, pref=1, chosen_probs=0.44118222864585355),\n",
       " Transition(state=array([0]), action_0=0, action_1=10, pref=0, chosen_probs=0.8379536540835533),\n",
       " Transition(state=array([0]), action_0=0, action_1=10, pref=0, chosen_probs=0.8379536540835533),\n",
       " Transition(state=array([0]), action_0=0, action_1=10, pref=1, chosen_probs=0.8379536540835533),\n",
       " Transition(state=array([0]), action_0=-10, action_1=0, pref=1, chosen_probs=0.7548988801848626),\n",
       " Transition(state=array([0]), action_0=0, action_1=-10, pref=1, chosen_probs=0.24510111981513732),\n",
       " Transition(state=array([0]), action_0=0, action_1=10, pref=0, chosen_probs=0.8379536540835533),\n",
       " Transition(state=array([0]), action_0=-10, action_1=0, pref=0, chosen_probs=0.7548988801848626),\n",
       " Transition(state=array([0]), action_0=0, action_1=10, pref=1, chosen_probs=0.8379536540835533),\n",
       " Transition(state=array([0]), action_0=0, action_1=-10, pref=1, chosen_probs=0.24510111981513732),\n",
       " Transition(state=array([0]), action_0=10, action_1=-10, pref=1, chosen_probs=0.5588177713541465),\n",
       " Transition(state=array([0]), action_0=-10, action_1=0, pref=1, chosen_probs=0.7548988801848626),\n",
       " Transition(state=array([0]), action_0=10, action_1=-10, pref=0, chosen_probs=0.5588177713541465),\n",
       " Transition(state=array([0]), action_0=10, action_1=-10, pref=0, chosen_probs=0.5588177713541465),\n",
       " Transition(state=array([0]), action_0=0, action_1=10, pref=1, chosen_probs=0.8379536540835533),\n",
       " Transition(state=array([0]), action_0=10, action_1=0, pref=0, chosen_probs=0.16204634591644665),\n",
       " Transition(state=array([0]), action_0=0, action_1=10, pref=1, chosen_probs=0.8379536540835533),\n",
       " Transition(state=array([0]), action_0=-10, action_1=0, pref=1, chosen_probs=0.7548988801848626),\n",
       " Transition(state=array([0]), action_0=-10, action_1=0, pref=0, chosen_probs=0.7548988801848626),\n",
       " Transition(state=array([0]), action_0=0, action_1=10, pref=0, chosen_probs=0.8379536540835533),\n",
       " Transition(state=array([0]), action_0=-10, action_1=10, pref=1, chosen_probs=0.44118222864585355),\n",
       " Transition(state=array([0]), action_0=-10, action_1=10, pref=1, chosen_probs=0.44118222864585355),\n",
       " Transition(state=array([0]), action_0=-10, action_1=0, pref=1, chosen_probs=0.7548988801848626),\n",
       " Transition(state=array([0]), action_0=0, action_1=10, pref=0, chosen_probs=0.8379536540835533),\n",
       " Transition(state=array([0]), action_0=-10, action_1=0, pref=0, chosen_probs=0.7548988801848626),\n",
       " Transition(state=array([0]), action_0=10, action_1=-10, pref=1, chosen_probs=0.5588177713541465),\n",
       " Transition(state=array([0]), action_0=-10, action_1=0, pref=0, chosen_probs=0.7548988801848626),\n",
       " Transition(state=array([0]), action_0=-10, action_1=0, pref=1, chosen_probs=0.7548988801848626),\n",
       " Transition(state=array([0]), action_0=-10, action_1=0, pref=0, chosen_probs=0.7548988801848626),\n",
       " Transition(state=array([0]), action_0=0, action_1=10, pref=1, chosen_probs=0.8379536540835533),\n",
       " Transition(state=array([0]), action_0=-10, action_1=0, pref=0, chosen_probs=0.7548988801848626),\n",
       " Transition(state=array([0]), action_0=0, action_1=10, pref=0, chosen_probs=0.8379536540835533),\n",
       " Transition(state=array([0]), action_0=0, action_1=10, pref=0, chosen_probs=0.8379536540835533),\n",
       " Transition(state=array([0]), action_0=-10, action_1=0, pref=1, chosen_probs=0.7548988801848626),\n",
       " Transition(state=array([0]), action_0=10, action_1=-10, pref=1, chosen_probs=0.5588177713541465),\n",
       " Transition(state=array([0]), action_0=0, action_1=10, pref=1, chosen_probs=0.8379536540835533),\n",
       " Transition(state=array([0]), action_0=0, action_1=10, pref=0, chosen_probs=0.8379536540835533),\n",
       " Transition(state=array([0]), action_0=-10, action_1=0, pref=1, chosen_probs=0.7548988801848626),\n",
       " Transition(state=array([0]), action_0=0, action_1=10, pref=1, chosen_probs=0.8379536540835533),\n",
       " Transition(state=array([0]), action_0=-10, action_1=0, pref=0, chosen_probs=0.7548988801848626),\n",
       " Transition(state=array([0]), action_0=0, action_1=10, pref=0, chosen_probs=0.8379536540835533),\n",
       " Transition(state=array([0]), action_0=10, action_1=-10, pref=1, chosen_probs=0.5588177713541465),\n",
       " Transition(state=array([0]), action_0=-10, action_1=10, pref=0, chosen_probs=0.44118222864585355),\n",
       " Transition(state=array([0]), action_0=0, action_1=-10, pref=0, chosen_probs=0.24510111981513732),\n",
       " Transition(state=array([0]), action_0=10, action_1=-10, pref=1, chosen_probs=0.5588177713541465),\n",
       " Transition(state=array([0]), action_0=0, action_1=10, pref=1, chosen_probs=0.8379536540835533),\n",
       " Transition(state=array([0]), action_0=0, action_1=10, pref=1, chosen_probs=0.8379536540835533),\n",
       " Transition(state=array([0]), action_0=0, action_1=10, pref=0, chosen_probs=0.8379536540835533),\n",
       " Transition(state=array([0]), action_0=-10, action_1=10, pref=1, chosen_probs=0.44118222864585355),\n",
       " Transition(state=array([0]), action_0=0, action_1=-10, pref=0, chosen_probs=0.24510111981513732),\n",
       " Transition(state=array([0]), action_0=-10, action_1=0, pref=0, chosen_probs=0.7548988801848626)]"
      ]
     },
     "execution_count": 375,
     "metadata": {},
     "output_type": "execute_result"
    }
   ],
   "source": [
    "pref_dataset"
   ]
  },
  {
   "cell_type": "code",
   "execution_count": 376,
   "metadata": {},
   "outputs": [],
   "source": [
    "action_to_index = {-10: 0, 0: 1, 10: 2}\n",
    "\n",
    "states = torch.cat([torch.tensor(x.state) for x in pref_dataset], dim=0)\n",
    "\n",
    "positive_actions = torch.cat(\n",
    "    [torch.tensor(action_to_index[x.action_1] if x.pref == 1 else action_to_index[x.action_0]).unsqueeze(0) for x in pref_dataset],\n",
    "    dim=0\n",
    ")\n",
    "\n",
    "negative_actions = torch.cat(\n",
    "    [torch.tensor(action_to_index[x.action_0] if x.pref == 1 else action_to_index[x.action_1]).unsqueeze(0) for x in pref_dataset],\n",
    "    dim=0\n",
    ")"
   ]
  },
  {
   "cell_type": "code",
   "execution_count": 377,
   "metadata": {},
   "outputs": [
    {
     "data": {
      "text/plain": [
       "tensor([0, 1, 2, 1, 2, 2, 0, 0, 0, 2, 1, 1, 2, 1, 0, 1, 0, 2, 0, 0, 1, 2, 2, 2,\n",
       "        2, 2, 1, 0, 1, 2, 2, 1, 1, 0, 0, 0, 1, 0, 2, 0, 1, 1, 1, 0, 2, 1, 1, 2,\n",
       "        0, 1, 0, 0, 1, 0, 2, 2, 1, 2, 1, 0])"
      ]
     },
     "execution_count": 377,
     "metadata": {},
     "output_type": "execute_result"
    }
   ],
   "source": [
    "positive_actions"
   ]
  },
  {
   "cell_type": "code",
   "execution_count": 378,
   "metadata": {},
   "outputs": [
    {
     "data": {
      "text/plain": [
       "tensor([1, 0, 1, 2, 1, 1, 2, 1, 2, 0, 2, 2, 1, 0, 1, 2, 1, 1, 1, 2, 0, 0, 0, 1,\n",
       "        1, 1, 0, 1, 2, 0, 0, 0, 2, 1, 2, 1, 0, 1, 1, 1, 2, 2, 0, 2, 1, 2, 0, 1,\n",
       "        1, 2, 2, 2, 0, 2, 1, 1, 2, 0, 0, 1])"
      ]
     },
     "execution_count": 378,
     "metadata": {},
     "output_type": "execute_result"
    }
   ],
   "source": [
    "negative_actions"
   ]
  },
  {
   "cell_type": "code",
   "execution_count": 379,
   "metadata": {},
   "outputs": [
    {
     "data": {
      "text/plain": [
       "(True, ('-10', '0', '10'))"
      ]
     },
     "execution_count": 379,
     "metadata": {},
     "output_type": "execute_result"
    }
   ],
   "source": [
    "# check transition\n",
    "check_cyclic_order(p_list,actions)"
   ]
  },
  {
   "cell_type": "code",
   "execution_count": 380,
   "metadata": {},
   "outputs": [
    {
     "data": {
      "text/plain": [
       "0.8"
      ]
     },
     "execution_count": 380,
     "metadata": {},
     "output_type": "execute_result"
    }
   ],
   "source": [
    "check_data_consistency(pref_dataset)"
   ]
  },
  {
   "cell_type": "markdown",
   "metadata": {},
   "source": [
    "## Nash equilibrium"
   ]
  },
  {
   "cell_type": "code",
   "execution_count": 381,
   "metadata": {},
   "outputs": [
    {
     "name": "stdout",
     "output_type": "stream",
     "text": [
      "Nash equilibrium of this game:  [0.51859606 0.09025695 0.39114699]\n"
     ]
    }
   ],
   "source": [
    "# compute nash equilibrium\n",
    "import nashpy as nash\n",
    "import numpy as np\n",
    "\n",
    "# A = np.array([\n",
    "#     [0.5, 0.1, 0.8],\n",
    "#     [0.9, 0.5, 0.1],\n",
    "#     [0.2, 0.9, 0.5]\n",
    "# ])\n",
    "\n",
    "\n",
    "game = nash.Game(p_list, -p_list)\n",
    "\n",
    "equilibria = list(game.support_enumeration())\n",
    "\n",
    "for eq in equilibria:\n",
    "    print(\"Nash equilibrium of this game: \", eq[0])  \n",
    "    \n"
   ]
  },
  {
   "cell_type": "code",
   "execution_count": 382,
   "metadata": {},
   "outputs": [
    {
     "data": {
      "text/plain": [
       "[0.5185960617933865, 0.09025694564670378]"
      ]
     },
     "execution_count": 382,
     "metadata": {},
     "output_type": "execute_result"
    }
   ],
   "source": [
    "nash_point= [eq[0][0],eq[0][1]]\n",
    "nash_point"
   ]
  },
  {
   "cell_type": "markdown",
   "metadata": {},
   "source": [
    "## RLHF"
   ]
  },
  {
   "cell_type": "code",
   "execution_count": 383,
   "metadata": {},
   "outputs": [],
   "source": [
    "learned_reward_model = RewardModel(\n",
    "    state_dim,\n",
    "    actions,\n",
    "    hidden_dim=64,\n",
    "    num_layers=2,\n",
    "    device=device,\n",
    ")"
   ]
  },
  {
   "cell_type": "code",
   "execution_count": 384,
   "metadata": {},
   "outputs": [],
   "source": [
    "mle_learner = MaximumLikelihoodEstimator(\n",
    "    actions,\n",
    "    learned_reward_model,\n",
    "    learning_rate=1e-4,\n",
    "    batch_size=64,\n",
    "    logger=logger,\n",
    ")"
   ]
  },
  {
   "cell_type": "code",
   "execution_count": 385,
   "metadata": {},
   "outputs": [
    {
     "name": "stderr",
     "output_type": "stream",
     "text": [
      "2024-11-20 10:48:44,698 - /home/hanwen/policy_optimization/exp/algorithm.py[line:127] - INFO: [Reward] Epoch 0 loss: 0.6915 acc: 0.52\n",
      "2024-11-20 10:48:44,705 - /home/hanwen/policy_optimization/exp/algorithm.py[line:127] - INFO: [Reward] Epoch 2 loss: 0.6910 acc: 0.52\n",
      "2024-11-20 10:48:44,711 - /home/hanwen/policy_optimization/exp/algorithm.py[line:127] - INFO: [Reward] Epoch 4 loss: 0.6905 acc: 0.52\n",
      "2024-11-20 10:48:44,716 - /home/hanwen/policy_optimization/exp/algorithm.py[line:127] - INFO: [Reward] Epoch 6 loss: 0.6902 acc: 0.52\n",
      "2024-11-20 10:48:44,722 - /home/hanwen/policy_optimization/exp/algorithm.py[line:127] - INFO: [Reward] Epoch 8 loss: 0.6898 acc: 0.55\n",
      "2024-11-20 10:48:44,727 - /home/hanwen/policy_optimization/exp/algorithm.py[line:127] - INFO: [Reward] Epoch 10 loss: 0.6896 acc: 0.55\n",
      "2024-11-20 10:48:44,733 - /home/hanwen/policy_optimization/exp/algorithm.py[line:127] - INFO: [Reward] Epoch 12 loss: 0.6894 acc: 0.55\n",
      "2024-11-20 10:48:44,738 - /home/hanwen/policy_optimization/exp/algorithm.py[line:127] - INFO: [Reward] Epoch 14 loss: 0.6892 acc: 0.55\n",
      "2024-11-20 10:48:44,744 - /home/hanwen/policy_optimization/exp/algorithm.py[line:127] - INFO: [Reward] Epoch 16 loss: 0.6891 acc: 0.55\n",
      "2024-11-20 10:48:44,750 - /home/hanwen/policy_optimization/exp/algorithm.py[line:127] - INFO: [Reward] Epoch 18 loss: 0.6890 acc: 0.55\n"
     ]
    }
   ],
   "source": [
    "import time  # for seed\n",
    "\n",
    "torch.manual_seed(time.time())\n",
    "mle_learner.optimize(\n",
    "    states, positive_actions, negative_actions, num_epochs=20\n",
    ")"
   ]
  },
  {
   "cell_type": "code",
   "execution_count": 386,
   "metadata": {},
   "outputs": [],
   "source": [
    "# pg\n",
    "policy = PolicyModel(\n",
    "    state_dim,\n",
    "    actions,\n",
    "    hidden_dim=64,\n",
    "    num_layers=2,\n",
    "    device=device,\n",
    ").to(device)"
   ]
  },
  {
   "cell_type": "code",
   "execution_count": 387,
   "metadata": {},
   "outputs": [
    {
     "data": {
      "text/plain": [
       "tensor([[0.3333, 0.3333, 0.3333]], device='cuda:0')"
      ]
     },
     "execution_count": 387,
     "metadata": {},
     "output_type": "execute_result"
    }
   ],
   "source": [
    "ref_policy = UniformPolicyModel(\n",
    "    action_num=len(actions),\n",
    "    device=device\n",
    ").to(device)\n",
    "ref_policy(torch.tensor([[0.0]]))"
   ]
  },
  {
   "cell_type": "code",
   "execution_count": 388,
   "metadata": {},
   "outputs": [],
   "source": [
    "states = torch.zeros(len(pref_dataset), 1, dtype=torch.float32).to(device) "
   ]
  },
  {
   "cell_type": "code",
   "execution_count": 389,
   "metadata": {},
   "outputs": [],
   "source": [
    "policy_optimizer = PolicyGradientOptimizer(\n",
    "    policy=policy,\n",
    "    reward_model=learned_reward_model,\n",
    "    ref_policy=ref_policy,\n",
    "    learning_rate=1e-3,\n",
    "    batch_size=64,\n",
    "    logger=logger,\n",
    "    nash_point = nash_point\n",
    ")"
   ]
  },
  {
   "cell_type": "code",
   "execution_count": 390,
   "metadata": {},
   "outputs": [
    {
     "name": "stderr",
     "output_type": "stream",
     "text": [
      "2024-11-20 10:48:44,794 - /home/hanwen/policy_optimization/exp/algorithm.py[line:196] - INFO: [Policy] Epoch 0 loss: -0.1960 reward: 0.1960 ref_reward: 0.1991 improvement: -1.59%\n",
      "2024-11-20 10:48:44,804 - /home/hanwen/policy_optimization/exp/algorithm.py[line:196] - INFO: [Policy] Epoch 2 loss: -0.2023 reward: 0.2023 ref_reward: 0.1991 improvement: 1.61%\n",
      "2024-11-20 10:48:44,816 - /home/hanwen/policy_optimization/exp/algorithm.py[line:196] - INFO: [Policy] Epoch 4 loss: -0.2084 reward: 0.2084 ref_reward: 0.1991 improvement: 4.63%\n",
      "2024-11-20 10:48:44,835 - /home/hanwen/policy_optimization/exp/algorithm.py[line:196] - INFO: [Policy] Epoch 6 loss: -0.2143 reward: 0.2143 ref_reward: 0.1991 improvement: 7.61%\n",
      "2024-11-20 10:48:44,846 - /home/hanwen/policy_optimization/exp/algorithm.py[line:196] - INFO: [Policy] Epoch 8 loss: -0.2203 reward: 0.2203 ref_reward: 0.1991 improvement: 10.61%\n",
      "2024-11-20 10:48:44,856 - /home/hanwen/policy_optimization/exp/algorithm.py[line:196] - INFO: [Policy] Epoch 10 loss: -0.2259 reward: 0.2259 ref_reward: 0.1991 improvement: 13.44%\n",
      "2024-11-20 10:48:44,867 - /home/hanwen/policy_optimization/exp/algorithm.py[line:196] - INFO: [Policy] Epoch 12 loss: -0.2312 reward: 0.2312 ref_reward: 0.1991 improvement: 16.10%\n",
      "2024-11-20 10:48:44,878 - /home/hanwen/policy_optimization/exp/algorithm.py[line:196] - INFO: [Policy] Epoch 14 loss: -0.2367 reward: 0.2367 ref_reward: 0.1991 improvement: 18.85%\n",
      "2024-11-20 10:48:44,889 - /home/hanwen/policy_optimization/exp/algorithm.py[line:196] - INFO: [Policy] Epoch 16 loss: -0.2423 reward: 0.2423 ref_reward: 0.1991 improvement: 21.66%\n",
      "2024-11-20 10:48:44,900 - /home/hanwen/policy_optimization/exp/algorithm.py[line:196] - INFO: [Policy] Epoch 18 loss: -0.2479 reward: 0.2479 ref_reward: 0.1991 improvement: 24.47%\n",
      "2024-11-20 10:48:44,911 - /home/hanwen/policy_optimization/exp/algorithm.py[line:196] - INFO: [Policy] Epoch 20 loss: -0.2534 reward: 0.2534 ref_reward: 0.1991 improvement: 27.24%\n",
      "2024-11-20 10:48:44,922 - /home/hanwen/policy_optimization/exp/algorithm.py[line:196] - INFO: [Policy] Epoch 22 loss: -0.2589 reward: 0.2589 ref_reward: 0.1991 improvement: 29.99%\n",
      "2024-11-20 10:48:44,933 - /home/hanwen/policy_optimization/exp/algorithm.py[line:196] - INFO: [Policy] Epoch 24 loss: -0.2642 reward: 0.2642 ref_reward: 0.1991 improvement: 32.67%\n",
      "2024-11-20 10:48:44,944 - /home/hanwen/policy_optimization/exp/algorithm.py[line:196] - INFO: [Policy] Epoch 26 loss: -0.2693 reward: 0.2693 ref_reward: 0.1991 improvement: 35.24%\n",
      "2024-11-20 10:48:44,955 - /home/hanwen/policy_optimization/exp/algorithm.py[line:196] - INFO: [Policy] Epoch 28 loss: -0.2741 reward: 0.2741 ref_reward: 0.1991 improvement: 37.66%\n",
      "2024-11-20 10:48:44,966 - /home/hanwen/policy_optimization/exp/algorithm.py[line:196] - INFO: [Policy] Epoch 30 loss: -0.2786 reward: 0.2786 ref_reward: 0.1991 improvement: 39.89%\n",
      "2024-11-20 10:48:44,973 - /home/hanwen/policy_optimization/exp/algorithm.py[line:196] - INFO: [Policy] Epoch 32 loss: -0.2826 reward: 0.2826 ref_reward: 0.1991 improvement: 41.92%\n",
      "2024-11-20 10:48:44,980 - /home/hanwen/policy_optimization/exp/algorithm.py[line:196] - INFO: [Policy] Epoch 34 loss: -0.2863 reward: 0.2863 ref_reward: 0.1991 improvement: 43.75%\n",
      "2024-11-20 10:48:44,986 - /home/hanwen/policy_optimization/exp/algorithm.py[line:196] - INFO: [Policy] Epoch 36 loss: -0.2895 reward: 0.2895 ref_reward: 0.1991 improvement: 45.36%\n",
      "2024-11-20 10:48:44,994 - /home/hanwen/policy_optimization/exp/algorithm.py[line:196] - INFO: [Policy] Epoch 38 loss: -0.2923 reward: 0.2923 ref_reward: 0.1991 improvement: 46.76%\n",
      "2024-11-20 10:48:45,036 - /home/hanwen/policy_optimization/exp/algorithm.py[line:196] - INFO: [Policy] Epoch 40 loss: -0.2947 reward: 0.2947 ref_reward: 0.1991 improvement: 47.97%\n",
      "2024-11-20 10:48:45,080 - /home/hanwen/policy_optimization/exp/algorithm.py[line:196] - INFO: [Policy] Epoch 42 loss: -0.2967 reward: 0.2967 ref_reward: 0.1991 improvement: 48.99%\n",
      "2024-11-20 10:48:45,122 - /home/hanwen/policy_optimization/exp/algorithm.py[line:196] - INFO: [Policy] Epoch 44 loss: -0.2984 reward: 0.2984 ref_reward: 0.1991 improvement: 49.85%\n",
      "2024-11-20 10:48:45,140 - /home/hanwen/policy_optimization/exp/algorithm.py[line:196] - INFO: [Policy] Epoch 46 loss: -0.2999 reward: 0.2999 ref_reward: 0.1991 improvement: 50.58%\n",
      "2024-11-20 10:48:45,158 - /home/hanwen/policy_optimization/exp/algorithm.py[line:196] - INFO: [Policy] Epoch 48 loss: -0.3011 reward: 0.3011 ref_reward: 0.1991 improvement: 51.19%\n",
      "2024-11-20 10:48:45,176 - /home/hanwen/policy_optimization/exp/algorithm.py[line:196] - INFO: [Policy] Epoch 50 loss: -0.3021 reward: 0.3021 ref_reward: 0.1991 improvement: 51.69%\n",
      "2024-11-20 10:48:45,194 - /home/hanwen/policy_optimization/exp/algorithm.py[line:196] - INFO: [Policy] Epoch 52 loss: -0.3029 reward: 0.3029 ref_reward: 0.1991 improvement: 52.12%\n",
      "2024-11-20 10:48:45,211 - /home/hanwen/policy_optimization/exp/algorithm.py[line:196] - INFO: [Policy] Epoch 54 loss: -0.3036 reward: 0.3036 ref_reward: 0.1991 improvement: 52.47%\n",
      "2024-11-20 10:48:45,231 - /home/hanwen/policy_optimization/exp/algorithm.py[line:196] - INFO: [Policy] Epoch 56 loss: -0.3042 reward: 0.3042 ref_reward: 0.1991 improvement: 52.77%\n",
      "2024-11-20 10:48:45,239 - /home/hanwen/policy_optimization/exp/algorithm.py[line:196] - INFO: [Policy] Epoch 58 loss: -0.3047 reward: 0.3047 ref_reward: 0.1991 improvement: 53.02%\n",
      "2024-11-20 10:48:45,246 - /home/hanwen/policy_optimization/exp/algorithm.py[line:196] - INFO: [Policy] Epoch 60 loss: -0.3051 reward: 0.3051 ref_reward: 0.1991 improvement: 53.23%\n",
      "2024-11-20 10:48:45,252 - /home/hanwen/policy_optimization/exp/algorithm.py[line:196] - INFO: [Policy] Epoch 62 loss: -0.3055 reward: 0.3055 ref_reward: 0.1991 improvement: 53.40%\n",
      "2024-11-20 10:48:45,262 - /home/hanwen/policy_optimization/exp/algorithm.py[line:196] - INFO: [Policy] Epoch 64 loss: -0.3058 reward: 0.3058 ref_reward: 0.1991 improvement: 53.56%\n",
      "2024-11-20 10:48:45,272 - /home/hanwen/policy_optimization/exp/algorithm.py[line:196] - INFO: [Policy] Epoch 66 loss: -0.3061 reward: 0.3061 ref_reward: 0.1991 improvement: 53.69%\n",
      "2024-11-20 10:48:45,283 - /home/hanwen/policy_optimization/exp/algorithm.py[line:196] - INFO: [Policy] Epoch 68 loss: -0.3063 reward: 0.3063 ref_reward: 0.1991 improvement: 53.80%\n",
      "2024-11-20 10:48:45,294 - /home/hanwen/policy_optimization/exp/algorithm.py[line:196] - INFO: [Policy] Epoch 70 loss: -0.3065 reward: 0.3065 ref_reward: 0.1991 improvement: 53.90%\n",
      "2024-11-20 10:48:45,305 - /home/hanwen/policy_optimization/exp/algorithm.py[line:196] - INFO: [Policy] Epoch 72 loss: -0.3066 reward: 0.3066 ref_reward: 0.1991 improvement: 53.98%\n",
      "2024-11-20 10:48:45,316 - /home/hanwen/policy_optimization/exp/algorithm.py[line:196] - INFO: [Policy] Epoch 74 loss: -0.3068 reward: 0.3068 ref_reward: 0.1991 improvement: 54.06%\n",
      "2024-11-20 10:48:45,327 - /home/hanwen/policy_optimization/exp/algorithm.py[line:196] - INFO: [Policy] Epoch 76 loss: -0.3069 reward: 0.3069 ref_reward: 0.1991 improvement: 54.12%\n",
      "2024-11-20 10:48:45,338 - /home/hanwen/policy_optimization/exp/algorithm.py[line:196] - INFO: [Policy] Epoch 78 loss: -0.3070 reward: 0.3070 ref_reward: 0.1991 improvement: 54.18%\n",
      "2024-11-20 10:48:45,348 - /home/hanwen/policy_optimization/exp/algorithm.py[line:196] - INFO: [Policy] Epoch 80 loss: -0.3071 reward: 0.3071 ref_reward: 0.1991 improvement: 54.23%\n",
      "2024-11-20 10:48:45,362 - /home/hanwen/policy_optimization/exp/algorithm.py[line:196] - INFO: [Policy] Epoch 82 loss: -0.3072 reward: 0.3072 ref_reward: 0.1991 improvement: 54.28%\n",
      "2024-11-20 10:48:45,374 - /home/hanwen/policy_optimization/exp/algorithm.py[line:196] - INFO: [Policy] Epoch 84 loss: -0.3073 reward: 0.3073 ref_reward: 0.1991 improvement: 54.32%\n",
      "2024-11-20 10:48:45,384 - /home/hanwen/policy_optimization/exp/algorithm.py[line:196] - INFO: [Policy] Epoch 86 loss: -0.3074 reward: 0.3074 ref_reward: 0.1991 improvement: 54.36%\n",
      "2024-11-20 10:48:45,395 - /home/hanwen/policy_optimization/exp/algorithm.py[line:196] - INFO: [Policy] Epoch 88 loss: -0.3075 reward: 0.3075 ref_reward: 0.1991 improvement: 54.39%\n",
      "2024-11-20 10:48:45,408 - /home/hanwen/policy_optimization/exp/algorithm.py[line:196] - INFO: [Policy] Epoch 90 loss: -0.3075 reward: 0.3075 ref_reward: 0.1991 improvement: 54.43%\n",
      "2024-11-20 10:48:45,419 - /home/hanwen/policy_optimization/exp/algorithm.py[line:196] - INFO: [Policy] Epoch 92 loss: -0.3076 reward: 0.3076 ref_reward: 0.1991 improvement: 54.45%\n",
      "2024-11-20 10:48:45,430 - /home/hanwen/policy_optimization/exp/algorithm.py[line:196] - INFO: [Policy] Epoch 94 loss: -0.3076 reward: 0.3076 ref_reward: 0.1991 improvement: 54.48%\n",
      "2024-11-20 10:48:45,441 - /home/hanwen/policy_optimization/exp/algorithm.py[line:196] - INFO: [Policy] Epoch 96 loss: -0.3077 reward: 0.3077 ref_reward: 0.1991 improvement: 54.51%\n",
      "2024-11-20 10:48:45,452 - /home/hanwen/policy_optimization/exp/algorithm.py[line:196] - INFO: [Policy] Epoch 98 loss: -0.3077 reward: 0.3077 ref_reward: 0.1991 improvement: 54.53%\n"
     ]
    },
    {
     "data": {
      "image/png": "[encoded data removed]",
      "text/plain": [
       "<Figure size 600x600 with 1 Axes>"
      ]
     },
     "metadata": {},
     "output_type": "display_data"
    }
   ],
   "source": [
    "policy_optimizer.optimize(states=states, num_epochs=100)"
   ]
  },
  {
   "cell_type": "code",
   "execution_count": 391,
   "metadata": {},
   "outputs": [
    {
     "name": "stdout",
     "output_type": "stream",
     "text": [
      "tensor([0.3088], device='cuda:0', grad_fn=<ViewBackward0>)\n",
      "tensor([0.1832], device='cuda:0', grad_fn=<ViewBackward0>)\n",
      "tensor([0.0883], device='cuda:0', grad_fn=<ViewBackward0>)\n"
     ]
    }
   ],
   "source": [
    "state_0 = torch.tensor([0.0], dtype=torch.float32).to(device)\n",
    "action_0 = torch.tensor([1,0,0], dtype=torch.float32).to(device)\n",
    "action_1 = torch.tensor([0,0,1], dtype=torch.float32).to(device)\n",
    "action_2 = torch.tensor([0,1,0], dtype=torch.float32).to(device)\n",
    "print(learned_reward_model(state_0,action_0))\n",
    "print(learned_reward_model(state_0,action_1))\n",
    "print(learned_reward_model(state_0,action_2))"
   ]
  },
  {
   "cell_type": "code",
   "execution_count": 392,
   "metadata": {},
   "outputs": [
    {
     "name": "stdout",
     "output_type": "stream",
     "text": [
      "P(action=-10) = 0.991\n",
      "P(action=0) = 0.004\n",
      "P(action=10) = 0.006\n",
      "\n",
      "Uniform policy probabilities:\n",
      "P(action=-10) = 0.333\n",
      "P(action=0) = 0.333\n",
      "P(action=10) = 0.333\n"
     ]
    }
   ],
   "source": [
    "# output the probabilities of each action from the learned policy\n",
    "test_state = torch.tensor([[0.0]], dtype=torch.float32).to(device)  \n",
    "\n",
    "with torch.no_grad():\n",
    "    action_probs = policy(test_state)\n",
    "    action_probs = action_probs.cpu().numpy()[0]  \n",
    "\n",
    "actions = [-10, 0, 10]  \n",
    "for action, prob in zip(actions, action_probs):\n",
    "    print(f\"P(action={action}) = {prob:.3f}\")\n",
    "\n",
    "# output the probabilities of each action from the reference policy\n",
    "ref_probs = ref_policy(test_state).cpu().numpy()[0]\n",
    "print(\"\\nUniform policy probabilities:\")\n",
    "for action, prob in zip(actions, ref_probs):\n",
    "    print(f\"P(action={action}) = {prob:.3f}\")"
   ]
  },
  {
   "cell_type": "code",
   "execution_count": 393,
   "metadata": {},
   "outputs": [
    {
     "name": "stdout",
     "output_type": "stream",
     "text": [
      "\n",
      "RLHF model and base model comparison score: 0.083\n"
     ]
    }
   ],
   "source": [
    "# compare the learned policy with the reference policy\n",
    "score = model_comparison(policy, ref_policy,feature_func)\n",
    "print(f\"\\nRLHF model and base model comparison score: {score:.3f}\")"
   ]
  },
  {
   "cell_type": "markdown",
   "metadata": {},
   "source": [
    "## DPO"
   ]
  },
  {
   "cell_type": "code",
   "execution_count": 394,
   "metadata": {},
   "outputs": [],
   "source": [
    "policy2 = PolicyModel(\n",
    "    state_dim,\n",
    "    actions,\n",
    "    hidden_dim=64,\n",
    "    num_layers=2,\n",
    "    device=device,\n",
    ").to(device)"
   ]
  },
  {
   "cell_type": "code",
   "execution_count": 395,
   "metadata": {},
   "outputs": [],
   "source": [
    "dpo_optimizer = DirectPreferenceOptimizer(\n",
    "    policy=policy2,\n",
    "    ref_policy=ref_policy,\n",
    "    learning_rate=1e-3,\n",
    "    batch_size=64,\n",
    "    beta=1.0,\n",
    "    logger=logger,\n",
    "    nash_point = nash_point\n",
    ")"
   ]
  },
  {
   "cell_type": "code",
   "execution_count": 396,
   "metadata": {},
   "outputs": [
    {
     "name": "stderr",
     "output_type": "stream",
     "text": [
      "2024-11-20 10:48:45,786 - /home/hanwen/policy_optimization/exp/algorithm.py[line:318] - INFO: [Policy] Epoch: 0 loss: 0.6940 grad norm: 0.0502 \n"
     ]
    },
    {
     "name": "stderr",
     "output_type": "stream",
     "text": [
      "2024-11-20 10:48:45,803 - /home/hanwen/policy_optimization/exp/algorithm.py[line:318] - INFO: [Policy] Epoch: 5 loss: 0.6902 grad norm: 0.0228 \n",
      "2024-11-20 10:48:45,843 - /home/hanwen/policy_optimization/exp/algorithm.py[line:318] - INFO: [Policy] Epoch: 10 loss: 0.6890 grad norm: 0.0079 \n",
      "2024-11-20 10:48:45,886 - /home/hanwen/policy_optimization/exp/algorithm.py[line:318] - INFO: [Policy] Epoch: 15 loss: 0.6889 grad norm: 0.0042 \n",
      "2024-11-20 10:48:45,928 - /home/hanwen/policy_optimization/exp/algorithm.py[line:318] - INFO: [Policy] Epoch: 20 loss: 0.6890 grad norm: 0.0094 \n",
      "2024-11-20 10:48:45,971 - /home/hanwen/policy_optimization/exp/algorithm.py[line:318] - INFO: [Policy] Epoch: 25 loss: 0.6890 grad norm: 0.0072 \n",
      "2024-11-20 10:48:46,013 - /home/hanwen/policy_optimization/exp/algorithm.py[line:318] - INFO: [Policy] Epoch: 30 loss: 0.6889 grad norm: 0.0041 \n",
      "2024-11-20 10:48:46,056 - /home/hanwen/policy_optimization/exp/algorithm.py[line:318] - INFO: [Policy] Epoch: 35 loss: 0.6888 grad norm: 0.0017 \n",
      "2024-11-20 10:48:46,099 - /home/hanwen/policy_optimization/exp/algorithm.py[line:318] - INFO: [Policy] Epoch: 40 loss: 0.6888 grad norm: 0.0015 \n",
      "2024-11-20 10:48:46,116 - /home/hanwen/policy_optimization/exp/algorithm.py[line:318] - INFO: [Policy] Epoch: 45 loss: 0.6888 grad norm: 0.0023 \n",
      "2024-11-20 10:48:46,253 - /home/hanwen/policy_optimization/exp/algorithm.py[line:318] - INFO: [Policy] Epoch: 50 loss: 0.6888 grad norm: 0.0018 \n",
      "2024-11-20 10:48:46,366 - /home/hanwen/policy_optimization/exp/algorithm.py[line:318] - INFO: [Policy] Epoch: 55 loss: 0.6888 grad norm: 0.0007 \n",
      "2024-11-20 10:48:46,402 - /home/hanwen/policy_optimization/exp/algorithm.py[line:318] - INFO: [Policy] Epoch: 60 loss: 0.6888 grad norm: 0.0005 \n",
      "2024-11-20 10:48:46,445 - /home/hanwen/policy_optimization/exp/algorithm.py[line:318] - INFO: [Policy] Epoch: 65 loss: 0.6888 grad norm: 0.0008 \n",
      "2024-11-20 10:48:46,488 - /home/hanwen/policy_optimization/exp/algorithm.py[line:318] - INFO: [Policy] Epoch: 70 loss: 0.6888 grad norm: 0.0008 \n",
      "2024-11-20 10:48:46,530 - /home/hanwen/policy_optimization/exp/algorithm.py[line:318] - INFO: [Policy] Epoch: 75 loss: 0.6888 grad norm: 0.0003 \n",
      "2024-11-20 10:48:46,573 - /home/hanwen/policy_optimization/exp/algorithm.py[line:318] - INFO: [Policy] Epoch: 80 loss: 0.6888 grad norm: 0.0002 \n",
      "2024-11-20 10:48:46,616 - /home/hanwen/policy_optimization/exp/algorithm.py[line:318] - INFO: [Policy] Epoch: 85 loss: 0.6888 grad norm: 0.0004 \n",
      "2024-11-20 10:48:46,657 - /home/hanwen/policy_optimization/exp/algorithm.py[line:318] - INFO: [Policy] Epoch: 90 loss: 0.6888 grad norm: 0.0002 \n",
      "2024-11-20 10:48:46,679 - /home/hanwen/policy_optimization/exp/algorithm.py[line:318] - INFO: [Policy] Epoch: 95 loss: 0.6888 grad norm: 0.0001 \n"
     ]
    },
    {
     "data": {
      "image/png": "[encoded data removed]",
      "text/plain": [
       "<Figure size 600x600 with 1 Axes>"
      ]
     },
     "metadata": {},
     "output_type": "display_data"
    }
   ],
   "source": [
    "dpo_optimizer.optimize(\n",
    "    states=states,\n",
    "    positive_actions=positive_actions,\n",
    "    negative_actions=negative_actions,\n",
    "    num_epochs=100\n",
    ")"
   ]
  },
  {
   "cell_type": "code",
   "execution_count": 397,
   "metadata": {},
   "outputs": [
    {
     "name": "stdout",
     "output_type": "stream",
     "text": [
      "\n",
      "Learned policy probabilities:\n",
      "P(action=-10) = 0.475\n",
      "P(action=0) = 0.214\n",
      "P(action=10) = 0.310\n"
     ]
    }
   ],
   "source": [
    "test_state = torch.zeros(1, 1, dtype=torch.float32).to(device)\n",
    "with torch.no_grad():\n",
    "    action_probs = policy2(test_state)\n",
    "    print(\"\\nLearned policy probabilities:\")\n",
    "    for action, prob in zip(actions, action_probs[0].cpu().numpy()):\n",
    "        print(f\"P(action={action}) = {prob:.3f}\")"
   ]
  },
  {
   "cell_type": "code",
   "execution_count": 398,
   "metadata": {},
   "outputs": [
    {
     "name": "stdout",
     "output_type": "stream",
     "text": [
      "\n",
      "DPO model and base model comparison score: 0.037\n"
     ]
    }
   ],
   "source": [
    "# compare the learned policy with the reference policy\n",
    "score = model_comparison(policy2, ref_policy,feature_func)\n",
    "print(f\"\\nDPO model and base model comparison score: {score:.3f}\")"
   ]
  },
  {
   "cell_type": "markdown",
   "metadata": {},
   "source": [
    "## SPPO"
   ]
  },
  {
   "cell_type": "code",
   "execution_count": 399,
   "metadata": {},
   "outputs": [],
   "source": [
    "policy3 = PolicyModel(\n",
    "    state_dim,\n",
    "    actions,\n",
    "    hidden_dim=64,\n",
    "    num_layers=2,\n",
    "    device=device,\n",
    ").to(device)"
   ]
  },
  {
   "cell_type": "code",
   "execution_count": 400,
   "metadata": {},
   "outputs": [],
   "source": [
    "chosen_probs = torch.tensor([x.chosen_probs for x in pref_dataset], dtype=torch.float32).to(device)"
   ]
  },
  {
   "cell_type": "code",
   "execution_count": 401,
   "metadata": {},
   "outputs": [],
   "source": [
    "sppo_optimizer = SelfPlayPreferenceOptimizer(\n",
    "    policy=policy3,\n",
    "    ref_policy=ref_policy,\n",
    "    learning_rate=1e-2,\n",
    "    batch_size=64,\n",
    "    eta=1e-3,  \n",
    "    logger=logger,\n",
    "    nash_point = nash_point\n",
    ")"
   ]
  },
  {
   "cell_type": "code",
   "execution_count": 402,
   "metadata": {},
   "outputs": [
    {
     "name": "stderr",
     "output_type": "stream",
     "text": [
      "2024-11-20 10:48:47,175 - /home/hanwen/policy_optimization/exp/algorithm.py[line:436] - INFO: [Policy] Epoch: 0 loss: 0.0028 grad norm: 0.0540 \n",
      "2024-11-20 10:48:47,361 - /home/hanwen/policy_optimization/exp/algorithm.py[line:436] - INFO: [Policy] Epoch: 5 loss: 0.0000 grad norm: 0.0038 \n",
      "2024-11-20 10:48:47,402 - /home/hanwen/policy_optimization/exp/algorithm.py[line:436] - INFO: [Policy] Epoch: 10 loss: 0.0003 grad norm: 0.0117 \n",
      "2024-11-20 10:48:47,451 - /home/hanwen/policy_optimization/exp/algorithm.py[line:436] - INFO: [Policy] Epoch: 15 loss: 0.0000 grad norm: 0.0014 \n",
      "2024-11-20 10:48:47,500 - /home/hanwen/policy_optimization/exp/algorithm.py[line:436] - INFO: [Policy] Epoch: 20 loss: 0.0001 grad norm: 0.0073 \n",
      "2024-11-20 10:48:47,553 - /home/hanwen/policy_optimization/exp/algorithm.py[line:436] - INFO: [Policy] Epoch: 25 loss: 0.0000 grad norm: 0.0013 \n",
      "2024-11-20 10:48:47,606 - /home/hanwen/policy_optimization/exp/algorithm.py[line:436] - INFO: [Policy] Epoch: 30 loss: 0.0000 grad norm: 0.0038 \n",
      "2024-11-20 10:48:47,636 - /home/hanwen/policy_optimization/exp/algorithm.py[line:436] - INFO: [Policy] Epoch: 35 loss: 0.0000 grad norm: 0.0012 \n",
      "2024-11-20 10:48:47,853 - /home/hanwen/policy_optimization/exp/algorithm.py[line:436] - INFO: [Policy] Epoch: 40 loss: 0.0000 grad norm: 0.0005 \n",
      "2024-11-20 10:48:47,911 - /home/hanwen/policy_optimization/exp/algorithm.py[line:436] - INFO: [Policy] Epoch: 45 loss: 0.0000 grad norm: 0.0007 \n",
      "2024-11-20 10:48:47,961 - /home/hanwen/policy_optimization/exp/algorithm.py[line:436] - INFO: [Policy] Epoch: 50 loss: 0.0000 grad norm: 0.0003 \n",
      "2024-11-20 10:48:48,011 - /home/hanwen/policy_optimization/exp/algorithm.py[line:436] - INFO: [Policy] Epoch: 55 loss: 0.0000 grad norm: 0.0004 \n",
      "2024-11-20 10:48:48,061 - /home/hanwen/policy_optimization/exp/algorithm.py[line:436] - INFO: [Policy] Epoch: 60 loss: 0.0000 grad norm: 0.0002 \n",
      "2024-11-20 10:48:48,114 - /home/hanwen/policy_optimization/exp/algorithm.py[line:436] - INFO: [Policy] Epoch: 65 loss: 0.0000 grad norm: 0.0003 \n",
      "2024-11-20 10:48:48,158 - /home/hanwen/policy_optimization/exp/algorithm.py[line:436] - INFO: [Policy] Epoch: 70 loss: 0.0000 grad norm: 0.0000 \n",
      "2024-11-20 10:48:48,271 - /home/hanwen/policy_optimization/exp/algorithm.py[line:436] - INFO: [Policy] Epoch: 75 loss: 0.0000 grad norm: 0.0002 \n",
      "2024-11-20 10:48:48,457 - /home/hanwen/policy_optimization/exp/algorithm.py[line:436] - INFO: [Policy] Epoch: 80 loss: 0.0000 grad norm: 0.0000 \n",
      "2024-11-20 10:48:48,503 - /home/hanwen/policy_optimization/exp/algorithm.py[line:436] - INFO: [Policy] Epoch: 85 loss: 0.0000 grad norm: 0.0001 \n",
      "2024-11-20 10:48:48,552 - /home/hanwen/policy_optimization/exp/algorithm.py[line:436] - INFO: [Policy] Epoch: 90 loss: 0.0000 grad norm: 0.0000 \n",
      "2024-11-20 10:48:48,604 - /home/hanwen/policy_optimization/exp/algorithm.py[line:436] - INFO: [Policy] Epoch: 95 loss: 0.0000 grad norm: 0.0000 \n"
     ]
    },
    {
     "data": {
      "image/png": "[encoded data removed]",
      "text/plain": [
       "<Figure size 600x600 with 1 Axes>"
      ]
     },
     "metadata": {},
     "output_type": "display_data"
    }
   ],
   "source": [
    "sppo_optimizer.optimize(\n",
    "    states=states,\n",
    "    positive_actions=positive_actions,\n",
    "    negative_actions=negative_actions,\n",
    "    chosen_probs=chosen_probs,\n",
    "    num_epochs=100\n",
    ")"
   ]
  },
  {
   "cell_type": "code",
   "execution_count": 403,
   "metadata": {},
   "outputs": [
    {
     "name": "stdout",
     "output_type": "stream",
     "text": [
      "\n",
      "Learned policy probabilities:\n",
      "P(action=-10) = 0.311\n",
      "P(action=0) = 0.335\n",
      "P(action=10) = 0.354\n"
     ]
    }
   ],
   "source": [
    "test_state = torch.zeros(1, 1, dtype=torch.float32).to(device)\n",
    "with torch.no_grad():\n",
    "    action_probs = policy3(test_state)\n",
    "    print(\"\\nLearned policy probabilities:\")\n",
    "    for action, prob in zip(actions, action_probs[0].cpu().numpy()):\n",
    "        print(f\"P(action={action}) = {prob:.3f}\")"
   ]
  },
  {
   "cell_type": "code",
   "execution_count": 404,
   "metadata": {},
   "outputs": [
    {
     "name": "stdout",
     "output_type": "stream",
     "text": [
      "\n",
      "SPPO model and base model comparison score: -0.046\n"
     ]
    }
   ],
   "source": [
    "# compare the learned policy with the reference policy\n",
    "score = model_comparison(policy3, ref_policy,feature_func)\n",
    "print(f\"\\nSPPO model and base model comparison score: {score:.3f}\")"
   ]
  },
  {
   "cell_type": "markdown",
   "metadata": {},
   "source": [
    "## SPPO Closed-form solution"
   ]
  },
  {
   "cell_type": "code",
   "execution_count": 405,
   "metadata": {},
   "outputs": [],
   "source": [
    "class SPPOClosedForm:\n",
    "   def __init__(\n",
    "       self,\n",
    "       policy: nn.Module,\n",
    "       ref_policy: nn.Module,\n",
    "       eta: float = 1e-4,\n",
    "       batch_size: int = 64,\n",
    "       logger: Logger = None,\n",
    "   ):\n",
    "       self.policy = policy\n",
    "       self.ref_policy = ref_policy\n",
    "       self.eta = eta\n",
    "       self.batch_size = batch_size\n",
    "       self.logger = logger\n",
    "\n",
    "   def compute_pi(\n",
    "       self,\n",
    "       states: torch.tensor,\n",
    "       positive_actions: torch.tensor,\n",
    "       p_list:List[List[float]],\n",
    "   ):\n",
    "    \n",
    "       with torch.no_grad():\n",
    "            new_distributions = []\n",
    "            for i in range(0, len(states)):\n",
    "               state = states[i]\n",
    "               ref_distribution = self.ref_policy(state).squeeze(0)\n",
    "                \n",
    "               p_yi_pi = torch.zeros_like(ref_distribution)\n",
    "               \n",
    "               pref_action = positive_actions[i]\n",
    "               p_pref = ref_distribution[positive_actions[i]]\n",
    "               \n",
    "\n",
    "               p_y_yi = []\n",
    "               for j in range(len(actions) - 1):\n",
    "                   if j != positive_actions[i]:\n",
    "                        p_y_yi.append(p_list[pref_action][j] * ref_distribution[j])\n",
    "                \n",
    "               p_y_yi.append(p_pref * 0.5)     \n",
    "               p_y_yi = sum(p_y_yi)\n",
    "               \n",
    "               exp_term = torch.exp(self.eta * p_yi_pi)\n",
    "                    \n",
    "               Z = torch.sum(ref_distribution * exp_term, dim=-1, keepdim=True)\n",
    "               new_distribution = ref_distribution * exp_term / Z\n",
    "               new_distributions.append(new_distribution) \n",
    "               \n",
    "               \n",
    "            new_distributions = torch.stack(new_distributions)  \n",
    "            \n",
    "               \n",
    "            \n",
    "       return new_distributions\n",
    "   \n",
    "   def optimize(\n",
    "       self,\n",
    "       states: torch.tensor,\n",
    "       positive_actions: torch.tensor,\n",
    "       p_list:List[List[float]],\n",
    "       num_iters: int = 3,\n",
    "   ):\n",
    "       \n",
    "        for iter in range(num_iters):\n",
    "           \n",
    "           new_distributions = self.compute_pi(states, positive_actions, p_list)\n",
    "\n",
    "           ref_distributions = self.ref_policy(states)\n",
    "           print(iter)\n",
    "           print(new_distributions)\n",
    "          \n",
    "        #    if self.logger:\n",
    "        #         self.logger.info(\n",
    "        #             f\"[Policy] Iteration {iter} \"\n",
    "        #             f\"mean policy prob: {new_distributions.mean().item():.4f} \"\n",
    "        #             f\"mean ref prob: {ref_distributions.mean().item():.4f}\"\n",
    "        #         )\n",
    "\n",
    "          \n",
    "           self.ref_policy = copy.deepcopy(self.policy)\n",
    "\n",
    "        return new_distributions"
   ]
  },
  {
   "cell_type": "code",
   "execution_count": 406,
   "metadata": {},
   "outputs": [],
   "source": [
    "policy4 = PolicyModel(\n",
    "    state_dim=1,\n",
    "    actions=actions,\n",
    "    hidden_dim=128,\n",
    "    device=device\n",
    ").to(device)"
   ]
  },
  {
   "cell_type": "code",
   "execution_count": 407,
   "metadata": {},
   "outputs": [],
   "source": [
    "sppo = SPPOClosedForm(\n",
    "    policy=policy,\n",
    "    ref_policy=ref_policy,\n",
    "    eta=1e-3,\n",
    "    batch_size=64,\n",
    "    logger=logger\n",
    ")"
   ]
  },
  {
   "cell_type": "code",
   "execution_count": 408,
   "metadata": {},
   "outputs": [
    {
     "name": "stdout",
     "output_type": "stream",
     "text": [
      "0\n",
      "tensor([[0.3333, 0.3333, 0.3333],\n",
      "        [0.3333, 0.3333, 0.3333],\n",
      "        [0.3333, 0.3333, 0.3333],\n",
      "        [0.3333, 0.3333, 0.3333],\n",
      "        [0.3333, 0.3333, 0.3333],\n",
      "        [0.3333, 0.3333, 0.3333],\n",
      "        [0.3333, 0.3333, 0.3333],\n",
      "        [0.3333, 0.3333, 0.3333],\n",
      "        [0.3333, 0.3333, 0.3333],\n",
      "        [0.3333, 0.3333, 0.3333],\n",
      "        [0.3333, 0.3333, 0.3333],\n",
      "        [0.3333, 0.3333, 0.3333],\n",
      "        [0.3333, 0.3333, 0.3333],\n",
      "        [0.3333, 0.3333, 0.3333],\n",
      "        [0.3333, 0.3333, 0.3333],\n",
      "        [0.3333, 0.3333, 0.3333],\n",
      "        [0.3333, 0.3333, 0.3333],\n",
      "        [0.3333, 0.3333, 0.3333],\n",
      "        [0.3333, 0.3333, 0.3333],\n",
      "        [0.3333, 0.3333, 0.3333],\n",
      "        [0.3333, 0.3333, 0.3333],\n",
      "        [0.3333, 0.3333, 0.3333],\n",
      "        [0.3333, 0.3333, 0.3333],\n",
      "        [0.3333, 0.3333, 0.3333],\n",
      "        [0.3333, 0.3333, 0.3333],\n",
      "        [0.3333, 0.3333, 0.3333],\n",
      "        [0.3333, 0.3333, 0.3333],\n",
      "        [0.3333, 0.3333, 0.3333],\n",
      "        [0.3333, 0.3333, 0.3333],\n",
      "        [0.3333, 0.3333, 0.3333],\n",
      "        [0.3333, 0.3333, 0.3333],\n",
      "        [0.3333, 0.3333, 0.3333],\n",
      "        [0.3333, 0.3333, 0.3333],\n",
      "        [0.3333, 0.3333, 0.3333],\n",
      "        [0.3333, 0.3333, 0.3333],\n",
      "        [0.3333, 0.3333, 0.3333],\n",
      "        [0.3333, 0.3333, 0.3333],\n",
      "        [0.3333, 0.3333, 0.3333],\n",
      "        [0.3333, 0.3333, 0.3333],\n",
      "        [0.3333, 0.3333, 0.3333],\n",
      "        [0.3333, 0.3333, 0.3333],\n",
      "        [0.3333, 0.3333, 0.3333],\n",
      "        [0.3333, 0.3333, 0.3333],\n",
      "        [0.3333, 0.3333, 0.3333],\n",
      "        [0.3333, 0.3333, 0.3333],\n",
      "        [0.3333, 0.3333, 0.3333],\n",
      "        [0.3333, 0.3333, 0.3333],\n",
      "        [0.3333, 0.3333, 0.3333],\n",
      "        [0.3333, 0.3333, 0.3333],\n",
      "        [0.3333, 0.3333, 0.3333],\n",
      "        [0.3333, 0.3333, 0.3333],\n",
      "        [0.3333, 0.3333, 0.3333],\n",
      "        [0.3333, 0.3333, 0.3333],\n",
      "        [0.3333, 0.3333, 0.3333],\n",
      "        [0.3333, 0.3333, 0.3333],\n",
      "        [0.3333, 0.3333, 0.3333],\n",
      "        [0.3333, 0.3333, 0.3333],\n",
      "        [0.3333, 0.3333, 0.3333],\n",
      "        [0.3333, 0.3333, 0.3333],\n",
      "        [0.3333, 0.3333, 0.3333]], device='cuda:0')\n",
      "1\n",
      "tensor([[0.9906, 0.0037, 0.0057],\n",
      "        [0.9906, 0.0037, 0.0057],\n",
      "        [0.9906, 0.0037, 0.0057],\n",
      "        [0.9906, 0.0037, 0.0057],\n",
      "        [0.9906, 0.0037, 0.0057],\n",
      "        [0.9906, 0.0037, 0.0057],\n",
      "        [0.9906, 0.0037, 0.0057],\n",
      "        [0.9906, 0.0037, 0.0057],\n",
      "        [0.9906, 0.0037, 0.0057],\n",
      "        [0.9906, 0.0037, 0.0057],\n",
      "        [0.9906, 0.0037, 0.0057],\n",
      "        [0.9906, 0.0037, 0.0057],\n",
      "        [0.9906, 0.0037, 0.0057],\n",
      "        [0.9906, 0.0037, 0.0057],\n",
      "        [0.9906, 0.0037, 0.0057],\n",
      "        [0.9906, 0.0037, 0.0057],\n",
      "        [0.9906, 0.0037, 0.0057],\n",
      "        [0.9906, 0.0037, 0.0057],\n",
      "        [0.9906, 0.0037, 0.0057],\n",
      "        [0.9906, 0.0037, 0.0057],\n",
      "        [0.9906, 0.0037, 0.0057],\n",
      "        [0.9906, 0.0037, 0.0057],\n",
      "        [0.9906, 0.0037, 0.0057],\n",
      "        [0.9906, 0.0037, 0.0057],\n",
      "        [0.9906, 0.0037, 0.0057],\n",
      "        [0.9906, 0.0037, 0.0057],\n",
      "        [0.9906, 0.0037, 0.0057],\n",
      "        [0.9906, 0.0037, 0.0057],\n",
      "        [0.9906, 0.0037, 0.0057],\n",
      "        [0.9906, 0.0037, 0.0057],\n",
      "        [0.9906, 0.0037, 0.0057],\n",
      "        [0.9906, 0.0037, 0.0057],\n",
      "        [0.9906, 0.0037, 0.0057],\n",
      "        [0.9906, 0.0037, 0.0057],\n",
      "        [0.9906, 0.0037, 0.0057],\n",
      "        [0.9906, 0.0037, 0.0057],\n",
      "        [0.9906, 0.0037, 0.0057],\n",
      "        [0.9906, 0.0037, 0.0057],\n",
      "        [0.9906, 0.0037, 0.0057],\n",
      "        [0.9906, 0.0037, 0.0057],\n",
      "        [0.9906, 0.0037, 0.0057],\n",
      "        [0.9906, 0.0037, 0.0057],\n",
      "        [0.9906, 0.0037, 0.0057],\n",
      "        [0.9906, 0.0037, 0.0057],\n",
      "        [0.9906, 0.0037, 0.0057],\n",
      "        [0.9906, 0.0037, 0.0057],\n",
      "        [0.9906, 0.0037, 0.0057],\n",
      "        [0.9906, 0.0037, 0.0057],\n",
      "        [0.9906, 0.0037, 0.0057],\n",
      "        [0.9906, 0.0037, 0.0057],\n",
      "        [0.9906, 0.0037, 0.0057],\n",
      "        [0.9906, 0.0037, 0.0057],\n",
      "        [0.9906, 0.0037, 0.0057],\n",
      "        [0.9906, 0.0037, 0.0057],\n",
      "        [0.9906, 0.0037, 0.0057],\n",
      "        [0.9906, 0.0037, 0.0057],\n",
      "        [0.9906, 0.0037, 0.0057],\n",
      "        [0.9906, 0.0037, 0.0057],\n",
      "        [0.9906, 0.0037, 0.0057],\n",
      "        [0.9906, 0.0037, 0.0057]], device='cuda:0')\n",
      "2\n",
      "tensor([[0.9906, 0.0037, 0.0057],\n",
      "        [0.9906, 0.0037, 0.0057],\n",
      "        [0.9906, 0.0037, 0.0057],\n",
      "        [0.9906, 0.0037, 0.0057],\n",
      "        [0.9906, 0.0037, 0.0057],\n",
      "        [0.9906, 0.0037, 0.0057],\n",
      "        [0.9906, 0.0037, 0.0057],\n",
      "        [0.9906, 0.0037, 0.0057],\n",
      "        [0.9906, 0.0037, 0.0057],\n",
      "        [0.9906, 0.0037, 0.0057],\n",
      "        [0.9906, 0.0037, 0.0057],\n",
      "        [0.9906, 0.0037, 0.0057],\n",
      "        [0.9906, 0.0037, 0.0057],\n",
      "        [0.9906, 0.0037, 0.0057],\n",
      "        [0.9906, 0.0037, 0.0057],\n",
      "        [0.9906, 0.0037, 0.0057],\n",
      "        [0.9906, 0.0037, 0.0057],\n",
      "        [0.9906, 0.0037, 0.0057],\n",
      "        [0.9906, 0.0037, 0.0057],\n",
      "        [0.9906, 0.0037, 0.0057],\n",
      "        [0.9906, 0.0037, 0.0057],\n",
      "        [0.9906, 0.0037, 0.0057],\n",
      "        [0.9906, 0.0037, 0.0057],\n",
      "        [0.9906, 0.0037, 0.0057],\n",
      "        [0.9906, 0.0037, 0.0057],\n",
      "        [0.9906, 0.0037, 0.0057],\n",
      "        [0.9906, 0.0037, 0.0057],\n",
      "        [0.9906, 0.0037, 0.0057],\n",
      "        [0.9906, 0.0037, 0.0057],\n",
      "        [0.9906, 0.0037, 0.0057],\n",
      "        [0.9906, 0.0037, 0.0057],\n",
      "        [0.9906, 0.0037, 0.0057],\n",
      "        [0.9906, 0.0037, 0.0057],\n",
      "        [0.9906, 0.0037, 0.0057],\n",
      "        [0.9906, 0.0037, 0.0057],\n",
      "        [0.9906, 0.0037, 0.0057],\n",
      "        [0.9906, 0.0037, 0.0057],\n",
      "        [0.9906, 0.0037, 0.0057],\n",
      "        [0.9906, 0.0037, 0.0057],\n",
      "        [0.9906, 0.0037, 0.0057],\n",
      "        [0.9906, 0.0037, 0.0057],\n",
      "        [0.9906, 0.0037, 0.0057],\n",
      "        [0.9906, 0.0037, 0.0057],\n",
      "        [0.9906, 0.0037, 0.0057],\n",
      "        [0.9906, 0.0037, 0.0057],\n",
      "        [0.9906, 0.0037, 0.0057],\n",
      "        [0.9906, 0.0037, 0.0057],\n",
      "        [0.9906, 0.0037, 0.0057],\n",
      "        [0.9906, 0.0037, 0.0057],\n",
      "        [0.9906, 0.0037, 0.0057],\n",
      "        [0.9906, 0.0037, 0.0057],\n",
      "        [0.9906, 0.0037, 0.0057],\n",
      "        [0.9906, 0.0037, 0.0057],\n",
      "        [0.9906, 0.0037, 0.0057],\n",
      "        [0.9906, 0.0037, 0.0057],\n",
      "        [0.9906, 0.0037, 0.0057],\n",
      "        [0.9906, 0.0037, 0.0057],\n",
      "        [0.9906, 0.0037, 0.0057],\n",
      "        [0.9906, 0.0037, 0.0057],\n",
      "        [0.9906, 0.0037, 0.0057]], device='cuda:0')\n"
     ]
    }
   ],
   "source": [
    "sppo_closed_form = sppo.optimize(\n",
    "    states=states,\n",
    "    positive_actions=positive_actions,\n",
    "    p_list=p_list,\n",
    "    num_iters=3\n",
    ")   "
   ]
  },
  {
   "cell_type": "code",
   "execution_count": 409,
   "metadata": {},
   "outputs": [
    {
     "name": "stdout",
     "output_type": "stream",
     "text": [
      "\n",
      "Learned policy probabilities(RLHF):\n",
      "P(action=-10) = 0.991\n",
      "P(action=0) = 0.004\n",
      "P(action=10) = 0.006\n",
      "\n",
      "Learned policy probabilities(DPO):\n",
      "P(action=-10) = 0.475\n",
      "P(action=0) = 0.214\n",
      "P(action=10) = 0.310\n",
      "\n",
      "Learned policy probabilities(SPPO):\n",
      "P(action=-10) = 0.311\n",
      "P(action=0) = 0.335\n",
      "P(action=10) = 0.354\n",
      "\n",
      "Learned policy probabilities(SPPO-ClosedForm):\n",
      "P(action=-10) = 0.328\n",
      "P(action=0) = 0.318\n",
      "P(action=10) = 0.354\n"
     ]
    }
   ],
   "source": [
    "test_state = torch.zeros(1, 1, dtype=torch.float32).to(device)\n",
    "with torch.no_grad():\n",
    "    action_probs = policy(test_state)\n",
    "    print(\"\\nLearned policy probabilities(RLHF):\")\n",
    "    for action, prob in zip(actions, action_probs[0].cpu().numpy()):\n",
    "        print(f\"P(action={action}) = {prob:.3f}\")\n",
    "\n",
    "    action_probs2 = policy2(test_state)\n",
    "    print(\"\\nLearned policy probabilities(DPO):\")\n",
    "    for action, prob in zip(actions, action_probs2[0].cpu().numpy()):\n",
    "        print(f\"P(action={action}) = {prob:.3f}\")\n",
    "        \n",
    "    action_probs3 = policy3(test_state)\n",
    "    print(\"\\nLearned policy probabilities(SPPO):\")\n",
    "    for action, prob in zip(actions, action_probs3[0].cpu().numpy()):\n",
    "        print(f\"P(action={action}) = {prob:.3f}\")\n",
    "    \n",
    "    action_probs4 = policy4(test_state)\n",
    "    print(\"\\nLearned policy probabilities(SPPO-ClosedForm):\")\n",
    "    for action, prob in zip(actions, action_probs4[0].cpu().numpy()):\n",
    "        print(f\"P(action={action}) = {prob:.3f}\")\n",
    "        "
   ]
  },
  {
   "cell_type": "markdown",
   "metadata": {},
   "source": [
    "## Plot"
   ]
  },
  {
   "cell_type": "code",
   "execution_count": 410,
   "metadata": {},
   "outputs": [
    {
     "ename": "NameError",
     "evalue": "name 'compare_pref_with_policy' is not defined",
     "output_type": "error",
     "traceback": [
      "\u001b[0;31m---------------------------------------------------------------------------\u001b[0m",
      "\u001b[0;31mNameError\u001b[0m                                 Traceback (most recent call last)",
      "Cell \u001b[0;32mIn[410], line 1\u001b[0m\n\u001b[0;32m----> 1\u001b[0m rlhf_accuracy \u001b[38;5;241m=\u001b[39m \u001b[43mcompare_pref_with_policy\u001b[49m(policy, pref_dataset)\n\u001b[1;32m      2\u001b[0m \u001b[38;5;28mprint\u001b[39m(\u001b[38;5;124mf\u001b[39m\u001b[38;5;124m\"\u001b[39m\u001b[38;5;124mRLHF accuracy: \u001b[39m\u001b[38;5;132;01m{\u001b[39;00mrlhf_accuracy\u001b[38;5;132;01m:\u001b[39;00m\u001b[38;5;124m.2f\u001b[39m\u001b[38;5;132;01m}\u001b[39;00m\u001b[38;5;124m\"\u001b[39m)\n\u001b[1;32m      4\u001b[0m DPO_accuracy \u001b[38;5;241m=\u001b[39m compare_pref_with_policy(policy2, pref_dataset)\n",
      "\u001b[0;31mNameError\u001b[0m: name 'compare_pref_with_policy' is not defined"
     ]
    }
   ],
   "source": [
    "rlhf_accuracy = compare_pref_with_policy(policy, pref_dataset)\n",
    "print(f\"RLHF accuracy: {rlhf_accuracy:.2f}\")\n",
    "\n",
    "DPO_accuracy = compare_pref_with_policy(policy2, pref_dataset)\n",
    "print(f\"DPO accuracy: {DPO_accuracy:.2f}\")\n",
    "\n",
    "SPPO_accuracy = compare_pref_with_policy(policy3, pref_dataset)\n",
    "print(f\"SPPO accuracy: {SPPO_accuracy:.2f}\")\n",
    "\n",
    "SPPO_closed_form_accuracy = compare_pref_with_policy(policy4, pref_dataset)\n",
    "print(f\"SPPO closed form accuracy: {SPPO_closed_form_accuracy:.2f}\")"
   ]
  },
  {
   "cell_type": "code",
   "execution_count": null,
   "metadata": {},
   "outputs": [
    {
     "data": {
      "image/png": "[encoded data removed]",
      "text/plain": [
       "<Figure size 800x600 with 1 Axes>"
      ]
     },
     "metadata": {},
     "output_type": "display_data"
    }
   ],
   "source": [
    "plot_model_accuracies(\n",
    "    model_names=[\"RLHF\", \"DPO\", \"SPPO\", \"SPPO Closed Form\"],\n",
    "    accuracies=[rlhf_accuracy, DPO_accuracy, SPPO_accuracy, SPPO_closed_form_accuracy],\n",
    "    filename=\"model_accuracies.png\"\n",
    ")"
   ]
  },
  {
   "cell_type": "code",
   "execution_count": null,
   "metadata": {},
   "outputs": [
    {
     "data": {
      "text/plain": [
       "array([[0.5       , 0.75489888, 0.44118223],\n",
       "       [0.24510112, 0.5       , 0.83795365],\n",
       "       [0.55881777, 0.16204635, 0.5       ]])"
      ]
     },
     "execution_count": 135,
     "metadata": {},
     "output_type": "execute_result"
    }
   ],
   "source": [
    "p_list"
   ]
  },
  {
   "cell_type": "code",
   "execution_count": null,
   "metadata": {},
   "outputs": [
    {
     "name": "stdout",
     "output_type": "stream",
     "text": [
      "Nash equilibrium of this game:  [0.51859606 0.09025695 0.39114699]\n"
     ]
    }
   ],
   "source": [
    "# compute nash equilibrium\n",
    "import nashpy as nash\n",
    "import numpy as np\n",
    "\n",
    "# A = np.array([\n",
    "#     [0.5, 0.1, 0.8],\n",
    "#     [0.9, 0.5, 0.1],\n",
    "#     [0.2, 0.9, 0.5]\n",
    "# ])\n",
    "\n",
    "\n",
    "game = nash.Game(p_list, -p_list)\n",
    "\n",
    "equilibria = list(game.support_enumeration())\n",
    "\n",
    "for eq in equilibria:\n",
    "    print(\"Nash equilibrium of this game: \", eq[0])  "
   ]
  }
 ],
 "metadata": {
  "kernelspec": {
   "display_name": "bandit",
   "language": "python",
   "name": "python3"
  },
  "language_info": {
   "codemirror_mode": {
    "name": "ipython",
    "version": 3
   },
   "file_extension": ".py",
   "mimetype": "text/x-python",
   "name": "python",
   "nbconvert_exporter": "python",
   "pygments_lexer": "ipython3",
   "version": "3.8.19"
  }
 },
 "nbformat": 4,
 "nbformat_minor": 2
}

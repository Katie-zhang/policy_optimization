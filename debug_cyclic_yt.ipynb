{
 "cells": [
  {
   "cell_type": "code",
   "execution_count": 1,
   "metadata": {},
   "outputs": [
    {
     "ename": "NameError",
     "evalue": "name 'actions' is not defined",
     "output_type": "error",
     "traceback": [
      "\u001b[0;31m---------------------------------------------------------------------------\u001b[0m",
      "\u001b[0;31mNameError\u001b[0m                                 Traceback (most recent call last)",
      "Cell \u001b[0;32mIn[1], line 20\u001b[0m\n\u001b[1;32m     17\u001b[0m     p \u001b[38;5;241m=\u001b[39m sigmoid(score)\n\u001b[1;32m     18\u001b[0m     \u001b[38;5;28;01mreturn\u001b[39;00m p\n\u001b[0;32m---> 20\u001b[0m \u001b[38;5;28;01mfor\u001b[39;00m i \u001b[38;5;129;01min\u001b[39;00m \u001b[38;5;28mrange\u001b[39m(\u001b[38;5;28mlen\u001b[39m(\u001b[43mactions\u001b[49m)):\n\u001b[1;32m     21\u001b[0m     \u001b[38;5;28;01mfor\u001b[39;00m j \u001b[38;5;129;01min\u001b[39;00m \u001b[38;5;28mrange\u001b[39m(\u001b[38;5;28mlen\u001b[39m(actions)):\n\u001b[1;32m     22\u001b[0m         action_one \u001b[38;5;241m=\u001b[39m actions[i]\n",
      "\u001b[0;31mNameError\u001b[0m: name 'actions' is not defined"
     ]
    }
   ],
   "source": [
    "# does not work \n",
    "from envs.linear_bandit import ret_feature_func\n",
    "import numpy as np\n",
    "def sigmoid(z):\n",
    "    return 1/(1 + np.exp(-z))\n",
    "\n",
    "cur_state = np.array([1]) \n",
    "\n",
    "def get_p(action_one,action_two):\n",
    "    feature_func = ret_feature_func(num_action=len(actions), state_dim=1)\n",
    "    feature_one = feature_func(cur_state, action_one) #TODO 现在这个feature_fun是单调的\n",
    "    feature_two = feature_func(cur_state, action_two)\n",
    "    feature = np.concatenate([feature_one, feature_two])\n",
    "    # score_param = np.array([1.0, 2.0, 3.0, 4.0], np.float32)\n",
    "    score_param = np.array([1.0, 1.0, -1, -1], np.float32)\n",
    "    score = np.dot(feature, score_param)\n",
    "    p = sigmoid(score)\n",
    "    return p\n",
    "\n",
    "for i in range(len(actions)):\n",
    "    for j in range(len(actions)):\n",
    "        action_one = actions[i]\n",
    "        action_two = actions[j]\n",
    "        print(i,j,'  ', get_p(action_one,action_two))"
   ]
  },
  {
   "cell_type": "markdown",
   "metadata": {},
   "source": [
    "# based on qqg's paper"
   ]
  },
  {
   "cell_type": "code",
   "execution_count": 144,
   "metadata": {},
   "outputs": [
    {
     "name": "stdout",
     "output_type": "stream",
     "text": [
      "-10 -10    0.5\n",
      "-10 0    0.5121860832312276\n",
      "-10 10    0.49168890282075806\n",
      "0 -10    0.4878139100393991\n",
      "0 0    0.5\n",
      "0 10    0.5106681920667224\n",
      "10 -10    0.5083110991118743\n",
      "10 0    0.4893317885227229\n",
      "10 10    0.5\n"
     ]
    },
    {
     "data": {
      "text/plain": [
       "(True, ('-10', '0', '10'))"
      ]
     },
     "execution_count": 144,
     "metadata": {},
     "output_type": "execute_result"
    }
   ],
   "source": [
    "import torch\n",
    "import torch.nn as nn\n",
    "actions = [-10,0,10]\n",
    "cur_state = np.array([0]) \n",
    "\n",
    "class NonMonotonicScalarToVectorNN(nn.Module):\n",
    "    def __init__(self):\n",
    "        super(NonMonotonicScalarToVectorNN, self).__init__()\n",
    "        self.fc1 = nn.Linear(1, 10)     # Input layer (1 -> 10)\n",
    "        self.fc2 = nn.Linear(10, 20)    # Hidden layer (10 -> 20)\n",
    "        self.fc3 = nn.Linear(20, 2)     # Output layer (20 -> 2)      \n",
    "    def forward(self, x):\n",
    "        x = torch.tanh(self.fc1(x))      # Using sin activation for non-monotonicity\n",
    "        x = torch.tanh(self.fc2(x))     # Tanh activation adds more non-linearity\n",
    "        x = self.fc3(x)                 # Output layer\n",
    "        return x\n",
    "        \n",
    "feature_func = NonMonotonicScalarToVectorNN()\n",
    "def get_p(action_one,action_two):\n",
    "    feature_one = feature_func(torch.tensor([[action_one]], dtype=torch.float))[0].detach().numpy()\n",
    "    feature_two = feature_func(torch.tensor([[action_two]], dtype=torch.float))[0].detach().numpy()\n",
    "    score_param =  np.array([[0.0, -1.0],[1, 0]], np.float32) \n",
    "    score = feature_one@score_param@feature_two\n",
    "    p = sigmoid(score)\n",
    "    return p\n",
    "\n",
    "p_list = np.zeros([len(actions),len(actions)])\n",
    "for i in range(len(actions)):\n",
    "    for j in range(len(actions)):\n",
    "        action_one = actions[i]\n",
    "        action_two = actions[j]\n",
    "        p = get_p(action_one,action_two)\n",
    "        if i==j:\n",
    "            assert p==0.5\n",
    "        p_list[i][j] = p\n",
    "        print(actions[i],actions[j],'  ',p )\n",
    "\n",
    "\n",
    "# check transition\n",
    "def check_cyclic_order(matrix):\n",
    "    items = [str(i) for i in actions]\n",
    "    # Generate all permutations of the items\n",
    "    for perm in itertools.permutations(items):\n",
    "        # Extract preferences based on the current permutation\n",
    "        if (matrix[items.index(perm[0])][items.index(perm[1])] > 0.5 and\n",
    "            matrix[items.index(perm[1])][items.index(perm[2])] > 0.5 and\n",
    "            matrix[items.index(perm[2])][items.index(perm[0])] > 0.5):\n",
    "            return True, perm  # Found a cyclic order\n",
    "    return False, None  # No cyclic order found\n",
    "check_cyclic_order(p_list)"
   ]
  }
 ],
 "metadata": {
  "kernelspec": {
   "display_name": "bandit",
   "language": "python",
   "name": "python3"
  },
  "language_info": {
   "codemirror_mode": {
    "name": "ipython",
    "version": 3
   },
   "file_extension": ".py",
   "mimetype": "text/x-python",
   "name": "python",
   "nbconvert_exporter": "python",
   "pygments_lexer": "ipython3",
   "version": "3.8.19"
  }
 },
 "nbformat": 4,
 "nbformat_minor": 2
}
